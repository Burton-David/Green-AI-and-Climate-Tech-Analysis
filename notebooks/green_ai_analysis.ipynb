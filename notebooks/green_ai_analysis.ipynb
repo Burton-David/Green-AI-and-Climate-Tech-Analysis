{
 "cells": [
  {
   "cell_type": "markdown",
   "metadata": {},
   "source": [
    "# Green AI and Climate Tech Analysis\n",
    "\n",
    "## Table of Contents\n",
    "1. [Setup and Data Loading](#setup)\n",
    "2. [Data Cleaning and Preparation](#cleaning)\n",
    "3. [Regional Carbon Intensity Analysis](#regional)\n",
    "4. [ML System Power Analysis](#power)\n",
    "5. [Carbon Impact Calculations](#carbon)\n",
    "6. [Performance vs Efficiency Analysis](#performance)\n",
    "7. [Recommendations and Conclusions](#conclusions)"
   ]
  },
  {
   "cell_type": "markdown",
   "metadata": {},
   "source": [
    "## Introduction\n",
    "This notebook analyzes the environmental impact of modern AI systems, focusing on power consumption, carbon emissions, and efficiency metrics. We examine how different hardware configurations and geographical locations affect the carbon footprint of AI workloads.\n"
   ]
  },
  {
   "cell_type": "code",
   "execution_count": 1,
   "metadata": {},
   "outputs": [],
   "source": [
    "# Import required libraries\n",
    "import pandas as pd\n",
    "import numpy as np\n",
    "import matplotlib.pyplot as plt\n",
    "import seaborn as sns\n",
    "from scipy import stats\n",
    "from pathlib import Path\n",
    "import os\n",
    "images_dir = '../images/analysis'\n",
    "os.makedirs(images_dir, exist_ok=True)\n",
    "\n",
    "# Set up plotting styles\n",
    "plt.style.use('seaborn-v0_8-darkgrid')  # or 'seaborn-v0_8-whitegrid'\n",
    "sns.set_palette('viridis')\n",
    "\n",
    "# Set random seed for reproducibility\n",
    "np.random.seed(42)"
   ]
  },
  {
   "cell_type": "markdown",
   "metadata": {},
   "source": [
    "## Data Loading and Cleaning\n",
    "Our analysis uses two primary datasets:\n",
    "1. eGRID data: Contains CO2 emissions rates for power plants across the United States\n",
    "2. MLPerf data: Provides system configurations and performance metrics for various AI systems\n",
    "\n",
    "The data cleaning process includes:\n",
    "- Removing outliers using z-score analysis\n",
    "- Handling missing values\n",
    "- Normalizing power and emissions metrics"
   ]
  },
  {
   "cell_type": "code",
   "execution_count": 2,
   "metadata": {},
   "outputs": [
    {
     "name": "stdout",
     "output_type": "stream",
     "text": [
      "eGRID Data Summary:\n",
      "Total plants: 11973\n",
      "Plants with valid emission rates: 3572\n",
      "\n",
      "MLPerf Data Summary:\n",
      "Total systems: 61\n",
      "Unique accelerator types: 15\n"
     ]
    }
   ],
   "source": [
    "def load_and_clean_data():\n",
    "    \"\"\"Load and clean both datasets\"\"\"\n",
    "    # Load eGRID data\n",
    "    egrid_df = pd.read_excel('../data/egrid2022_data.xlsx', sheet_name='PLNT22')\n",
    "    \n",
    "    # Load MLPerf data\n",
    "    mlperf_df = pd.read_csv('../data/mlperf_inference_clean.csv')\n",
    "    \n",
    "    # Clean eGRID data\n",
    "    emissions_col = 'Plant annual CO2 total output emission rate (lb/MWh)'\n",
    "    location_col = 'Plant state abbreviation'\n",
    "    \n",
    "    egrid_clean = egrid_df[egrid_df[location_col] != 'PSTATABB'].copy()\n",
    "    egrid_clean[emissions_col] = pd.to_numeric(egrid_clean[emissions_col], errors='coerce')\n",
    "    \n",
    "    # Remove outliers using z-score\n",
    "    emissions_data = egrid_clean[emissions_col].dropna()\n",
    "    z_scores = np.abs(stats.zscore(emissions_data))\n",
    "    egrid_clean.loc[emissions_data[z_scores > 3].index, emissions_col] = np.nan\n",
    "    \n",
    "    return egrid_clean, mlperf_df\n",
    "\n",
    "# Load and clean data\n",
    "egrid_df, mlperf_df = load_and_clean_data()\n",
    "\n",
    "# Display basic information\n",
    "print(\"eGRID Data Summary:\")\n",
    "print(f\"Total plants: {len(egrid_df)}\")\n",
    "print(f\"Plants with valid emission rates: {egrid_df['Plant annual CO2 total output emission rate (lb/MWh)'].notna().sum()}\")\n",
    "\n",
    "print(\"\\nMLPerf Data Summary:\")\n",
    "print(f\"Total systems: {len(mlperf_df['System Name (click + for details)'].unique())}\")\n",
    "print(f\"Unique accelerator types: {mlperf_df['Accelerator'].nunique()}\")"
   ]
  },
  {
   "cell_type": "code",
   "execution_count": 3,
   "metadata": {},
   "outputs": [
    {
     "name": "stdout",
     "output_type": "stream",
     "text": [
      "Top 5 States by Average Emissions Rate:\n",
      "                         Plant annual CO2 total output emission rate (lb/MWh)  \\\n",
      "                                                                        count   \n",
      "Plant state abbreviation                                                        \n",
      "KS                                                                       92     \n",
      "CT                                                                       58     \n",
      "MO                                                                       72     \n",
      "UT                                                                       37     \n",
      "VT                                                                       12     \n",
      "\n",
      "                                                           \n",
      "                             mean      std  min       max  \n",
      "Plant state abbreviation                                   \n",
      "KS                        2266.76  3328.86  0.0  27411.54  \n",
      "CT                        2211.77  4258.50  0.0  31840.52  \n",
      "MO                        2024.22  1645.81  0.0   8845.17  \n",
      "UT                        1994.36  5242.65  0.0  32700.00  \n",
      "VT                        1938.24  2074.18  0.0   5933.19  \n",
      "\n",
      "Bottom 5 States by Average Emissions Rate:\n",
      "                         Plant annual CO2 total output emission rate (lb/MWh)  \\\n",
      "                                                                        count   \n",
      "Plant state abbreviation                                                        \n",
      "CA                                                                      389     \n",
      "RI                                                                       13     \n",
      "ID                                                                       21     \n",
      "NV                                                                       45     \n",
      "OR                                                                       37     \n",
      "\n",
      "                                                          \n",
      "                            mean      std  min       max  \n",
      "Plant state abbreviation                                  \n",
      "CA                        732.03  1719.67  0.0  31855.37  \n",
      "RI                        665.04   542.07  0.0   1707.36  \n",
      "ID                        446.23   578.91  0.0   1800.82  \n",
      "NV                        434.92   618.06  0.0   2495.48  \n",
      "OR                        431.09   606.53  0.0   2360.39  \n"
     ]
    }
   ],
   "source": [
    "# Detailed eGRID Analysis\n",
    "emissions_col = 'Plant annual CO2 total output emission rate (lb/MWh)'\n",
    "location_col = 'Plant state abbreviation'\n",
    "\n",
    "# Calculate state-level statistics\n",
    "state_stats = egrid_df.groupby(location_col).agg({\n",
    "    emissions_col: ['count', 'mean', 'std', 'min', 'max']\n",
    "}).round(2)\n",
    "\n",
    "# Sort by mean emissions\n",
    "state_stats = state_stats.sort_values((emissions_col, 'mean'), ascending=False)\n",
    "\n",
    "print(\"Top 5 States by Average Emissions Rate:\")\n",
    "print(state_stats.head())\n",
    "print(\"\\nBottom 5 States by Average Emissions Rate:\")\n",
    "print(state_stats.tail())"
   ]
  },
  {
   "cell_type": "code",
   "execution_count": 4,
   "metadata": {},
   "outputs": [
    {
     "data": {
      "image/png": "[encoded data removed]",
      "text/plain": [
       "<Figure size 1500x600 with 1 Axes>"
      ]
     },
     "metadata": {},
     "output_type": "display_data"
    }
   ],
   "source": [
    "# Visualize regional emissions distribution\n",
    "plt.figure(figsize=(15, 6))\n",
    "sns.boxplot(data=egrid_df, x=location_col, y=emissions_col)\n",
    "plt.xticks(rotation=45, ha='right')\n",
    "plt.title('Distribution of CO2 Emissions Rates by State')\n",
    "plt.xlabel('State')\n",
    "plt.ylabel('CO2 Emissions Rate (lb/MWh)')\n",
    "plt.tight_layout()\n",
    "plt.show()"
   ]
  },
  {
   "cell_type": "code",
   "execution_count": 5,
   "metadata": {},
   "outputs": [
    {
     "name": "stdout",
     "output_type": "stream",
     "text": [
      "\n",
      "MLPerf System Analysis:\n",
      "\n",
      "Accelerator Distribution:\n",
      "Accelerator\n",
      "NVIDIA H100-SXM-80GB     274\n",
      "NVIDIA H200-SXM-141GB    112\n",
      "NVIDIA L40S               82\n",
      "NVIDIA H100-NVL-94GB      74\n",
      "NVIDIA H100-PCIe-80GB     70\n",
      "Name: count, dtype: int64\n",
      "\n",
      "Processor Distribution:\n",
      "Processor\n",
      "Intel(R) Xeon(R) Platinum 8468     118\n",
      "INTEL(R) XEON(R) PLATINUM 8592+     78\n",
      "NVIDIA Grace CPU                    72\n",
      "Intel(R) Xeon(R) Platinum 8480C     58\n",
      "Intel(R) Xeon(R) Platinum 8480+     34\n",
      "Name: count, dtype: int64\n",
      "\n",
      "System Configurations:\n",
      "                                                 # of Accelerators  \\\n",
      "System Name (click + for details)                                    \n",
      "1-node-2S-EMR-PyTorch                                            0   \n",
      "1-node-2S-GNR-PyTorch                                            0   \n",
      "2x8xH100-SXM-80GB                                                8   \n",
      "4x8xH100-SXM-80GB                                                8   \n",
      "AS-4125GS-TNHR2-LCC (8x H100-SXM-80GB TensorRT)                  8   \n",
      "\n",
      "                                                 Host Processor Core Count  \n",
      "System Name (click + for details)                                           \n",
      "1-node-2S-EMR-PyTorch                                                   64  \n",
      "1-node-2S-GNR-PyTorch                                                  128  \n",
      "2x8xH100-SXM-80GB                                                      112  \n",
      "4x8xH100-SXM-80GB                                                      112  \n",
      "AS-4125GS-TNHR2-LCC (8x H100-SXM-80GB TensorRT)                         96  \n"
     ]
    }
   ],
   "source": [
    "# Analyze MLPerf systems\n",
    "print(\"\\nMLPerf System Analysis:\")\n",
    "print(\"\\nAccelerator Distribution:\")\n",
    "print(mlperf_df['Accelerator'].value_counts().head())\n",
    "\n",
    "print(\"\\nProcessor Distribution:\")\n",
    "print(mlperf_df['Processor'].value_counts().head())\n",
    "\n",
    "# Create pivot table of system configurations\n",
    "system_configs = mlperf_df.pivot_table(\n",
    "    index='System Name (click + for details)',\n",
    "    values=['# of Accelerators', 'Host Processor Core Count'],\n",
    "    aggfunc='first'\n",
    ").round(2)\n",
    "\n",
    "print(\"\\nSystem Configurations:\")\n",
    "print(system_configs.head())"
   ]
  },
  {
   "cell_type": "code",
   "execution_count": 6,
   "metadata": {},
   "outputs": [
    {
     "name": "stdout",
     "output_type": "stream",
     "text": [
      "Top 10 Systems by Power Consumption (Watts):\n",
      "                   System Name (click + for details)  total_power  base_power  \\\n",
      "406                                2x8xH100-SXM-80GB       6360.0       200.0   \n",
      "410                                4x8xH100-SXM-80GB       6360.0       200.0   \n",
      "629  AS-4125GS-TNHR2-LCC (8x H100-SXM-80GB TensorRT)       6280.0       200.0   \n",
      "\n",
      "     cpu_power  accelerator_power  \n",
      "406      560.0             5600.0  \n",
      "410      560.0             5600.0  \n",
      "629      480.0             5600.0  \n"
     ]
    }
   ],
   "source": [
    "# Power consumption estimates for different accelerators (Watts)\n",
    "accelerator_power = {\n",
    "    'H100-SXM': 700,    # SXM variant has higher TDP\n",
    "    'H100-PCIe': 350,   # PCIe variant is more power-efficient\n",
    "    'H200-SXM': 700,    # Similar to H100-SXM\n",
    "    'L40S': 300,        # Professional visualization GPU\n",
    "    'H100-NVL': 400     # Network variant\n",
    "}\n",
    "\n",
    "def estimate_system_power(row):\n",
    "    \"\"\"Estimate total system power consumption\"\"\"\n",
    "    # Base system power\n",
    "    base_power = 200  # Watts\n",
    "    \n",
    "    # CPU power estimation (5W per core as a rough estimate)\n",
    "    cpu_power = float(row['Host Processor Core Count']) * 5 if pd.notna(row['Host Processor Core Count']) else 150\n",
    "    \n",
    "    # Accelerator power\n",
    "    acc_power = 0\n",
    "    if pd.notna(row['Accelerator']) and pd.notna(row['# of Accelerators']):\n",
    "        acc_name = str(row['Accelerator'])\n",
    "        acc_count = float(row['# of Accelerators'])\n",
    "        \n",
    "        for acc_type, power in accelerator_power.items():\n",
    "            if acc_type in acc_name:\n",
    "                acc_power = power * acc_count\n",
    "                break\n",
    "    \n",
    "    total_power = base_power + cpu_power + acc_power\n",
    "    return pd.Series({\n",
    "        'base_power': base_power,\n",
    "        'cpu_power': cpu_power,\n",
    "        'accelerator_power': acc_power,\n",
    "        'total_power': total_power\n",
    "    })\n",
    "\n",
    "# Calculate power consumption for each system\n",
    "power_analysis = mlperf_df.apply(estimate_system_power, axis=1)\n",
    "mlperf_df = pd.concat([mlperf_df, power_analysis], axis=1)\n",
    "\n",
    "# Display top systems by power consumption\n",
    "top_power_systems = mlperf_df.nlargest(10, 'total_power')[\n",
    "    ['System Name (click + for details)', 'total_power', 'base_power', 'cpu_power', 'accelerator_power']\n",
    "].drop_duplicates()\n",
    "\n",
    "print(\"Top 10 Systems by Power Consumption (Watts):\")\n",
    "print(top_power_systems.round(2))"
   ]
  },
  {
   "cell_type": "code",
   "execution_count": 7,
   "metadata": {},
   "outputs": [
    {
     "data": {
      "image/png": "[encoded data removed]",
      "text/plain": [
       "<Figure size 1500x800 with 1 Axes>"
      ]
     },
     "metadata": {},
     "output_type": "display_data"
    }
   ],
   "source": [
    "# Visualize power distribution across components\n",
    "plt.figure(figsize=(15, 8))\n",
    "data = top_power_systems.copy()\n",
    "data = data.set_index('System Name (click + for details)')\n",
    "\n",
    "# Create stacked bar chart\n",
    "bottom = np.zeros(len(data))\n",
    "components = ['base_power', 'cpu_power', 'accelerator_power']\n",
    "colors = ['lightgrey', 'lightblue', 'darkblue']\n",
    "labels = ['Base System', 'CPU', 'Accelerators']\n",
    "\n",
    "for component, color, label in zip(components, colors, labels):\n",
    "    plt.bar(data.index, data[component], bottom=bottom, label=label, color=color)\n",
    "    bottom += data[component]\n",
    "\n",
    "plt.xticks(rotation=45, ha='right')\n",
    "plt.title('System Power Consumption Breakdown')\n",
    "plt.xlabel('System')\n",
    "plt.ylabel('Power (Watts)')\n",
    "plt.legend(bbox_to_anchor=(1.05, 1), loc='upper left')\n",
    "plt.tight_layout()\n",
    "plt.show()"
   ]
  },
  {
   "cell_type": "code",
   "execution_count": 8,
   "metadata": {},
   "outputs": [
    {
     "data": {
      "image/png": "[encoded data removed]",
      "text/plain": [
       "<Figure size 1500x800 with 1 Axes>"
      ]
     },
     "metadata": {},
     "output_type": "display_data"
    }
   ],
   "source": [
    "# Visualize power distribution across components\n",
    "plt.figure(figsize=(15, 8))\n",
    "data = top_power_systems.copy()\n",
    "data = data.set_index('System Name (click + for details)')\n",
    "\n",
    "# Create stacked bar chart\n",
    "bottom = np.zeros(len(data))\n",
    "components = ['base_power', 'cpu_power', 'accelerator_power']\n",
    "colors = ['lightgrey', 'lightblue', 'darkblue']\n",
    "labels = ['Base System', 'CPU', 'Accelerators']\n",
    "\n",
    "for component, color, label in zip(components, colors, labels):\n",
    "    plt.bar(data.index, data[component], bottom=bottom, label=label, color=color)\n",
    "    bottom += data[component]\n",
    "\n",
    "plt.xticks(rotation=45, ha='right')\n",
    "plt.title('System Power Consumption Breakdown')\n",
    "plt.xlabel('System')\n",
    "plt.ylabel('Power (Watts)')\n",
    "plt.legend(bbox_to_anchor=(1.05, 1), loc='upper left')\n",
    "plt.tight_layout()\n",
    "plt.show()"
   ]
  },
  {
   "cell_type": "code",
   "execution_count": 9,
   "metadata": {},
   "outputs": [
    {
     "name": "stdout",
     "output_type": "stream",
     "text": [
      "\n",
      "Daily CO2 Impact Analysis (comparing KS vs OR):\n",
      "                   System Name (click + for details)  daily_co2_high  \\\n",
      "406                                2x8xH100-SXM-80GB          346.00   \n",
      "410                                4x8xH100-SXM-80GB          346.00   \n",
      "629  AS-4125GS-TNHR2-LCC (8x H100-SXM-80GB TensorRT)          341.65   \n",
      "\n",
      "     daily_co2_low  \n",
      "406          65.80  \n",
      "410          65.80  \n",
      "629          64.97  \n"
     ]
    }
   ],
   "source": [
    "# Calculate daily carbon impact for different regions\n",
    "def calculate_daily_carbon(power_w, emission_rate_lb_mwh):\n",
    "    \"\"\"Calculate daily CO2 emissions in pounds\"\"\"\n",
    "    daily_mwh = (power_w * 24) / 1_000_000  # Convert W to MWh for 24 hours\n",
    "    return daily_mwh * emission_rate_lb_mwh\n",
    "\n",
    "# Get average emission rates for top and bottom states\n",
    "top_emissions_state = state_stats.index[0]\n",
    "bottom_emissions_state = state_stats.index[-1]\n",
    "\n",
    "top_rate = state_stats.loc[top_emissions_state, (emissions_col, 'mean')]\n",
    "bottom_rate = state_stats.loc[bottom_emissions_state, (emissions_col, 'mean')]\n",
    "\n",
    "# Calculate impact for each system\n",
    "impact_analysis = top_power_systems.copy()\n",
    "impact_analysis['daily_co2_high'] = impact_analysis['total_power'].apply(\n",
    "    lambda x: calculate_daily_carbon(x, top_rate)\n",
    ")\n",
    "impact_analysis['daily_co2_low'] = impact_analysis['total_power'].apply(\n",
    "    lambda x: calculate_daily_carbon(x, bottom_rate)\n",
    ")\n",
    "\n",
    "print(f\"\\nDaily CO2 Impact Analysis (comparing {top_emissions_state} vs {bottom_emissions_state}):\")\n",
    "print(impact_analysis[['System Name (click + for details)', 'daily_co2_high', 'daily_co2_low']].round(2))"
   ]
  },
  {
   "cell_type": "markdown",
   "metadata": {},
   "source": [
    "## Efficiency Analysis\n",
    "We examine the power efficiency of different AI accelerators and system configurations, calculating:\n",
    "- Watts per accelerator\n",
    "- CO2 emissions per accelerator\n",
    "- Total system efficiency\n",
    "This helps identify the most environmentally efficient hardware configurations."
   ]
  },
  {
   "cell_type": "code",
   "execution_count": 14,
   "metadata": {},
   "outputs": [
    {
     "name": "stdout",
     "output_type": "stream",
     "text": [
      "Efficiency Analysis by Accelerator Type:\n",
      "\n",
      "Power and Carbon Efficiency Metrics:\n",
      "                                          watts_per_accelerator                \\\n",
      "                                                          count   mean    min   \n",
      "Accelerator                                                                     \n",
      "AMD Instinct MI300X-NPS1-SPX-192GB-750W                       0    NaN    NaN   \n",
      "AMD MI300X-NPS1-SPX-192GB-750W                                0    NaN    NaN   \n",
      "NVIDIA B200-SXM-180GB                                         0    NaN    NaN   \n",
      "NVIDIA GH200 Grace Hopper Superchip 144GB                     0    NaN    NaN   \n",
      "NVIDIA GH200 Grace Hopper Superchip 96GB                      0    NaN    NaN   \n",
      "NVIDIA H100-NVL-94GB                                         74  400.0  400.0   \n",
      "NVIDIA H100-PCIe-80GB                                        70  350.0  350.0   \n",
      "NVIDIA H100-SXM-80GB                                        274  700.0  700.0   \n",
      "NVIDIA H200-SXM-141GB                                       112  700.0  700.0   \n",
      "NVIDIA H200-SXM-141GB-CTS                                     8  700.0  700.0   \n",
      "NVIDIA L40S                                                  82  300.0  300.0   \n",
      "TPU v5e                                                       0    NaN    NaN   \n",
      "TPU v6                                                        0    NaN    NaN   \n",
      "UntetherAI speedAI240 Preview                                 0    NaN    NaN   \n",
      "UntetherAI speedAI240 Slim                                    0    NaN    NaN   \n",
      "\n",
      "                                                 co2_per_accelerator         \\\n",
      "                                             max                mean    min   \n",
      "Accelerator                                                                   \n",
      "AMD Instinct MI300X-NPS1-SPX-192GB-750W      NaN                 NaN    NaN   \n",
      "AMD MI300X-NPS1-SPX-192GB-750W               NaN                 NaN    NaN   \n",
      "NVIDIA B200-SXM-180GB                        NaN                 NaN    NaN   \n",
      "NVIDIA GH200 Grace Hopper Superchip 144GB    NaN                 NaN    NaN   \n",
      "NVIDIA GH200 Grace Hopper Superchip 96GB     NaN                 NaN    NaN   \n",
      "NVIDIA H100-NVL-94GB                       400.0               29.38  25.98   \n",
      "NVIDIA H100-PCIe-80GB                      350.0               28.93  21.49   \n",
      "NVIDIA H100-SXM-80GB                       700.0               42.40  40.53   \n",
      "NVIDIA H200-SXM-141GB                      700.0               42.06  41.07   \n",
      "NVIDIA H200-SXM-141GB-CTS                  700.0               52.77  41.35   \n",
      "NVIDIA L40S                                300.0               24.40  17.54   \n",
      "TPU v5e                                      NaN                 NaN    NaN   \n",
      "TPU v6                                       NaN                 NaN    NaN   \n",
      "UntetherAI speedAI240 Preview                NaN                 NaN    NaN   \n",
      "UntetherAI speedAI240 Slim                   NaN                 NaN    NaN   \n",
      "\n",
      "                                                  \n",
      "                                             max  \n",
      "Accelerator                                       \n",
      "AMD Instinct MI300X-NPS1-SPX-192GB-750W      NaN  \n",
      "AMD MI300X-NPS1-SPX-192GB-750W               NaN  \n",
      "NVIDIA B200-SXM-180GB                        NaN  \n",
      "NVIDIA GH200 Grace Hopper Superchip 144GB    NaN  \n",
      "NVIDIA GH200 Grace Hopper Superchip 96GB     NaN  \n",
      "NVIDIA H100-NVL-94GB                       32.64  \n",
      "NVIDIA H100-PCIe-80GB                      40.80  \n",
      "NVIDIA H100-SXM-80GB                       47.33  \n",
      "NVIDIA H200-SXM-141GB                      64.19  \n",
      "NVIDIA H200-SXM-141GB-CTS                  64.19  \n",
      "NVIDIA L40S                                34.82  \n",
      "TPU v5e                                      NaN  \n",
      "TPU v6                                       NaN  \n",
      "UntetherAI speedAI240 Preview                NaN  \n",
      "UntetherAI speedAI240 Slim                   NaN  \n",
      "\n",
      "Detailed Accelerator Analysis:\n",
      "                                           total_power  watts_per_accelerator  \\\n",
      "Accelerator                                                                     \n",
      "NVIDIA H200-SXM-141GB                          5890.00                  700.0   \n",
      "NVIDIA H100-SXM-80GB                           5495.47                  700.0   \n",
      "NVIDIA H200-SXM-141GB-CTS                      3630.00                  700.0   \n",
      "NVIDIA H100-NVL-94GB                           2572.97                  400.0   \n",
      "NVIDIA H100-PCIe-80GB                          2172.00                  350.0   \n",
      "NVIDIA L40S                                    1665.61                  300.0   \n",
      "TPU v6                                         1100.00                    NaN   \n",
      "TPU v5e                                         760.00                    NaN   \n",
      "NVIDIA GH200 Grace Hopper Superchip 144GB       560.00                    NaN   \n",
      "NVIDIA GH200 Grace Hopper Superchip 96GB        560.00                    NaN   \n",
      "AMD MI300X-NPS1-SPX-192GB-750W                  400.00                    NaN   \n",
      "UntetherAI speedAI240 Slim                      360.00                    NaN   \n",
      "AMD Instinct MI300X-NPS1-SPX-192GB-750W         306.67                    NaN   \n",
      "UntetherAI speedAI240 Preview                   280.00                    NaN   \n",
      "NVIDIA B200-SXM-180GB                           260.00                    NaN   \n",
      "\n",
      "                                           daily_co2  # of Accelerators  \n",
      "Accelerator                                                              \n",
      "NVIDIA H200-SXM-141GB                         320.43               7.75  \n",
      "NVIDIA H100-SXM-80GB                          298.97               7.12  \n",
      "NVIDIA H200-SXM-141GB-CTS                     197.48               4.50  \n",
      "NVIDIA H100-NVL-94GB                          139.98               4.86  \n",
      "NVIDIA H100-PCIe-80GB                         118.16               4.69  \n",
      "NVIDIA L40S                                    90.61               4.09  \n",
      "TPU v6                                         59.84               4.00  \n",
      "TPU v5e                                        41.35               4.00  \n",
      "NVIDIA GH200 Grace Hopper Superchip 144GB      30.47               1.00  \n",
      "NVIDIA GH200 Grace Hopper Superchip 96GB       30.47               1.00  \n",
      "AMD MI300X-NPS1-SPX-192GB-750W                 21.76               8.00  \n",
      "UntetherAI speedAI240 Slim                     19.58               6.00  \n",
      "AMD Instinct MI300X-NPS1-SPX-192GB-750W        16.68               5.67  \n",
      "UntetherAI speedAI240 Preview                  15.23               1.50  \n",
      "NVIDIA B200-SXM-180GB                          14.14               1.00  \n"
     ]
    },
    {
     "data": {
      "image/png": "[encoded data removed]",
      "text/plain": [
       "<Figure size 1200x600 with 1 Axes>"
      ]
     },
     "metadata": {},
     "output_type": "display_data"
    }
   ],
   "source": [
    "# First, let's ensure we have our power and carbon calculations properly integrated\n",
    "def calculate_efficiency_metrics(df):\n",
    "    \"\"\"Calculate efficiency metrics for ML systems\"\"\"\n",
    "    # Create a copy to avoid modifications to original\n",
    "    df = df.copy()\n",
    "    \n",
    "    # Power per accelerator\n",
    "    mask = (df['# of Accelerators'] > 0) & (df['accelerator_power'] > 0)\n",
    "    df.loc[mask, 'watts_per_accelerator'] = df.loc[mask, 'accelerator_power'] / df.loc[mask, '# of Accelerators']\n",
    "    \n",
    "    # Calculate CO2 impact for each system (using KS emissions rate as worst case)\n",
    "    ks_emission_rate = 2266.76  # From our previous analysis\n",
    "    daily_mwh = (df['total_power'] * 24) / 1_000_000  # Convert W to MWh for 24 hours\n",
    "    df['daily_co2'] = daily_mwh * ks_emission_rate\n",
    "    \n",
    "    # Calculate CO2 per accelerator\n",
    "    df.loc[mask, 'co2_per_accelerator'] = df.loc[mask, 'daily_co2'] / df.loc[mask, '# of Accelerators']\n",
    "    \n",
    "    return df\n",
    "\n",
    "# Apply efficiency calculations\n",
    "efficiency_metrics = calculate_efficiency_metrics(mlperf_df)\n",
    "\n",
    "# Group by accelerator type and calculate statistics\n",
    "efficiency_summary = efficiency_metrics.groupby('Accelerator').agg({\n",
    "    'watts_per_accelerator': ['count', 'mean', 'min', 'max'],\n",
    "    'co2_per_accelerator': ['mean', 'min', 'max']\n",
    "}).round(2)\n",
    "\n",
    "print(\"Efficiency Analysis by Accelerator Type:\")\n",
    "print(\"\\nPower and Carbon Efficiency Metrics:\")\n",
    "print(efficiency_summary)\n",
    "\n",
    "# Additional analysis of accelerator types\n",
    "print(\"\\nDetailed Accelerator Analysis:\")\n",
    "accelerator_analysis = efficiency_metrics.groupby('Accelerator').agg({\n",
    "    'total_power': 'mean',\n",
    "    'watts_per_accelerator': 'mean',\n",
    "    'daily_co2': 'mean',\n",
    "    '# of Accelerators': 'mean'\n",
    "}).round(2)\n",
    "\n",
    "print(accelerator_analysis.sort_values('total_power', ascending=False))\n",
    "\n",
    "# Visualization with saving\n",
    "plt.figure(figsize=(12, 6))\n",
    "sns.scatterplot(\n",
    "    data=efficiency_metrics,\n",
    "    x='watts_per_accelerator',\n",
    "    y='co2_per_accelerator',\n",
    "    hue='Accelerator',\n",
    "    size='# of Accelerators',\n",
    "    sizes=(50, 400),\n",
    "    alpha=0.6\n",
    ")\n",
    "plt.title('Power Efficiency vs Carbon Impact by Accelerator Type')\n",
    "plt.xlabel('Watts per Accelerator')\n",
    "plt.ylabel('Daily CO2 (lbs) per Accelerator')\n",
    "plt.xticks(rotation=45)\n",
    "plt.legend(bbox_to_anchor=(1.05, 1), loc='upper left')\n",
    "plt.tight_layout()\n",
    "\n",
    "# Save the figure\n",
    "plt.savefig(os.path.join(images_dir, 'efficiency_analysis.png'), \n",
    "            dpi=300, \n",
    "            bbox_inches='tight')\n",
    "plt.show()\n",
    "\n",
    "# Save the analysis results\n",
    "efficiency_summary.to_csv(os.path.join(images_dir, 'efficiency_summary.csv'))\n",
    "accelerator_analysis.to_csv(os.path.join(images_dir, 'accelerator_analysis.csv'))"
   ]
  },
  {
   "cell_type": "markdown",
   "metadata": {},
   "source": [
    "## Geographic Impact Analysis\n",
    "This section visualizes how location affects the environmental impact of AI systems. We create:\n",
    "- Interactive choropleth maps of emissions rates\n",
    "- Comparative analysis of system impacts across states\n",
    "- Potential carbon savings through geographic optimization"
   ]
  },
  {
   "cell_type": "code",
   "execution_count": 16,
   "metadata": {},
   "outputs": [
    {
     "name": "stdout",
     "output_type": "stream",
     "text": [
      "Starting geographic impact analysis...\n",
      "\n",
      "Creating choropleth map...\n"
     ]
    },
    {
     "data": {
      "application/vnd.plotly.v1+json": {
       "config": {
        "plotlyServerURL": "https://plotly.com"
       },
       "data": [
        {
         "coloraxis": "coloraxis",
         "geo": "geo",
         "hovertemplate": "state=%{location}<br>CO2 Emissions Rate (lb/MWh)=%{z}<extra></extra>",
         "locationmode": "USA-states",
         "locations": [
          "KS",
          "CT",
          "MO",
          "UT",
          "VT",
          "AK",
          "ND",
          "PR",
          "WY",
          "OH",
          "IA",
          "WV",
          "NE",
          "HI",
          "NC",
          "FL",
          "MT",
          "SD",
          "TN",
          "MI",
          "MD",
          "NY",
          "OK",
          "MN",
          "PA",
          "IL",
          "IN",
          "TX",
          "DE",
          "NH",
          "NM",
          "AZ",
          "CO",
          "MA",
          "NJ",
          "VA",
          "WI",
          "MS",
          "AR",
          "KY",
          "SC",
          "ME",
          "GA",
          "LA",
          "DC",
          "AL",
          "WA",
          "CA",
          "RI",
          "ID",
          "NV",
          "OR"
         ],
         "name": "",
         "type": "choropleth",
         "z": [
          2266.76,
          2211.77,
          2024.22,
          1994.36,
          1938.24,
          1827,
          1810.38,
          1808.99,
          1752.78,
          1748.7,
          1709.73,
          1632.88,
          1622.67,
          1604.17,
          1568.38,
          1484.47,
          1483.07,
          1465.36,
          1446.43,
          1394.86,
          1366.05,
          1355.46,
          1353.49,
          1346.99,
          1335.4,
          1319,
          1298.5,
          1273.67,
          1238.92,
          1205.66,
          1204.27,
          1157.15,
          1146.26,
          1130.85,
          1124.22,
          1120.9,
          1114.89,
          1108.07,
          1089.62,
          1087.43,
          1079.28,
          931.96,
          925.28,
          823.39,
          822.66,
          794.09,
          782.17,
          732.03,
          665.04,
          446.23,
          434.92,
          431.09
         ]
        }
       ],
       "layout": {
        "coloraxis": {
         "colorbar": {
          "title": {
           "text": "CO2 Emissions Rate (lb/MWh)"
          }
         },
         "colorscale": [
          [
           0,
           "#440154"
          ],
          [
           0.1111111111111111,
           "#482878"
          ],
          [
           0.2222222222222222,
           "#3e4989"
          ],
          [
           0.3333333333333333,
           "#31688e"
          ],
          [
           0.4444444444444444,
           "#26828e"
          ],
          [
           0.5555555555555556,
           "#1f9e89"
          ],
          [
           0.6666666666666666,
           "#35b779"
          ],
          [
           0.7777777777777778,
           "#6ece58"
          ],
          [
           0.8888888888888888,
           "#b5de2b"
          ],
          [
           1,
           "#fde725"
          ]
         ]
        },
        "geo": {
         "center": {},
         "domain": {
          "x": [
           0,
           1
          ],
          "y": [
           0,
           1
          ]
         },
         "lakecolor": "rgb(255, 255, 255)",
         "scope": "usa",
         "showlakes": true
        },
        "height": 600,
        "legend": {
         "tracegroupgap": 0
        },
        "template": {
         "data": {
          "bar": [
           {
            "error_x": {
             "color": "#2a3f5f"
            },
            "error_y": {
             "color": "#2a3f5f"
            },
            "marker": {
             "line": {
              "color": "#E5ECF6",
              "width": 0.5
             },
             "pattern": {
              "fillmode": "overlay",
              "size": 10,
              "solidity": 0.2
             }
            },
            "type": "bar"
           }
          ],
          "barpolar": [
           {
            "marker": {
             "line": {
              "color": "#E5ECF6",
              "width": 0.5
             },
             "pattern": {
              "fillmode": "overlay",
              "size": 10,
              "solidity": 0.2
             }
            },
            "type": "barpolar"
           }
          ],
          "carpet": [
           {
            "aaxis": {
             "endlinecolor": "#2a3f5f",
             "gridcolor": "white",
             "linecolor": "white",
             "minorgridcolor": "white",
             "startlinecolor": "#2a3f5f"
            },
            "baxis": {
             "endlinecolor": "#2a3f5f",
             "gridcolor": "white",
             "linecolor": "white",
             "minorgridcolor": "white",
             "startlinecolor": "#2a3f5f"
            },
            "type": "carpet"
           }
          ],
          "choropleth": [
           {
            "colorbar": {
             "outlinewidth": 0,
             "ticks": ""
            },
            "type": "choropleth"
           }
          ],
          "contour": [
           {
            "colorbar": {
             "outlinewidth": 0,
             "ticks": ""
            },
            "colorscale": [
             [
              0,
              "#0d0887"
             ],
             [
              0.1111111111111111,
              "#46039f"
             ],
             [
              0.2222222222222222,
              "#7201a8"
             ],
             [
              0.3333333333333333,
              "#9c179e"
             ],
             [
              0.4444444444444444,
              "#bd3786"
             ],
             [
              0.5555555555555556,
              "#d8576b"
             ],
             [
              0.6666666666666666,
              "#ed7953"
             ],
             [
              0.7777777777777778,
              "#fb9f3a"
             ],
             [
              0.8888888888888888,
              "#fdca26"
             ],
             [
              1,
              "#f0f921"
             ]
            ],
            "type": "contour"
           }
          ],
          "contourcarpet": [
           {
            "colorbar": {
             "outlinewidth": 0,
             "ticks": ""
            },
            "type": "contourcarpet"
           }
          ],
          "heatmap": [
           {
            "colorbar": {
             "outlinewidth": 0,
             "ticks": ""
            },
            "colorscale": [
             [
              0,
              "#0d0887"
             ],
             [
              0.1111111111111111,
              "#46039f"
             ],
             [
              0.2222222222222222,
              "#7201a8"
             ],
             [
              0.3333333333333333,
              "#9c179e"
             ],
             [
              0.4444444444444444,
              "#bd3786"
             ],
             [
              0.5555555555555556,
              "#d8576b"
             ],
             [
              0.6666666666666666,
              "#ed7953"
             ],
             [
              0.7777777777777778,
              "#fb9f3a"
             ],
             [
              0.8888888888888888,
              "#fdca26"
             ],
             [
              1,
              "#f0f921"
             ]
            ],
            "type": "heatmap"
           }
          ],
          "heatmapgl": [
           {
            "colorbar": {
             "outlinewidth": 0,
             "ticks": ""
            },
            "colorscale": [
             [
              0,
              "#0d0887"
             ],
             [
              0.1111111111111111,
              "#46039f"
             ],
             [
              0.2222222222222222,
              "#7201a8"
             ],
             [
              0.3333333333333333,
              "#9c179e"
             ],
             [
              0.4444444444444444,
              "#bd3786"
             ],
             [
              0.5555555555555556,
              "#d8576b"
             ],
             [
              0.6666666666666666,
              "#ed7953"
             ],
             [
              0.7777777777777778,
              "#fb9f3a"
             ],
             [
              0.8888888888888888,
              "#fdca26"
             ],
             [
              1,
              "#f0f921"
             ]
            ],
            "type": "heatmapgl"
           }
          ],
          "histogram": [
           {
            "marker": {
             "pattern": {
              "fillmode": "overlay",
              "size": 10,
              "solidity": 0.2
             }
            },
            "type": "histogram"
           }
          ],
          "histogram2d": [
           {
            "colorbar": {
             "outlinewidth": 0,
             "ticks": ""
            },
            "colorscale": [
             [
              0,
              "#0d0887"
             ],
             [
              0.1111111111111111,
              "#46039f"
             ],
             [
              0.2222222222222222,
              "#7201a8"
             ],
             [
              0.3333333333333333,
              "#9c179e"
             ],
             [
              0.4444444444444444,
              "#bd3786"
             ],
             [
              0.5555555555555556,
              "#d8576b"
             ],
             [
              0.6666666666666666,
              "#ed7953"
             ],
             [
              0.7777777777777778,
              "#fb9f3a"
             ],
             [
              0.8888888888888888,
              "#fdca26"
             ],
             [
              1,
              "#f0f921"
             ]
            ],
            "type": "histogram2d"
           }
          ],
          "histogram2dcontour": [
           {
            "colorbar": {
             "outlinewidth": 0,
             "ticks": ""
            },
            "colorscale": [
             [
              0,
              "#0d0887"
             ],
             [
              0.1111111111111111,
              "#46039f"
             ],
             [
              0.2222222222222222,
              "#7201a8"
             ],
             [
              0.3333333333333333,
              "#9c179e"
             ],
             [
              0.4444444444444444,
              "#bd3786"
             ],
             [
              0.5555555555555556,
              "#d8576b"
             ],
             [
              0.6666666666666666,
              "#ed7953"
             ],
             [
              0.7777777777777778,
              "#fb9f3a"
             ],
             [
              0.8888888888888888,
              "#fdca26"
             ],
             [
              1,
              "#f0f921"
             ]
            ],
            "type": "histogram2dcontour"
           }
          ],
          "mesh3d": [
           {
            "colorbar": {
             "outlinewidth": 0,
             "ticks": ""
            },
            "type": "mesh3d"
           }
          ],
          "parcoords": [
           {
            "line": {
             "colorbar": {
              "outlinewidth": 0,
              "ticks": ""
             }
            },
            "type": "parcoords"
           }
          ],
          "pie": [
           {
            "automargin": true,
            "type": "pie"
           }
          ],
          "scatter": [
           {
            "fillpattern": {
             "fillmode": "overlay",
             "size": 10,
             "solidity": 0.2
            },
            "type": "scatter"
           }
          ],
          "scatter3d": [
           {
            "line": {
             "colorbar": {
              "outlinewidth": 0,
              "ticks": ""
             }
            },
            "marker": {
             "colorbar": {
              "outlinewidth": 0,
              "ticks": ""
             }
            },
            "type": "scatter3d"
           }
          ],
          "scattercarpet": [
           {
            "marker": {
             "colorbar": {
              "outlinewidth": 0,
              "ticks": ""
             }
            },
            "type": "scattercarpet"
           }
          ],
          "scattergeo": [
           {
            "marker": {
             "colorbar": {
              "outlinewidth": 0,
              "ticks": ""
             }
            },
            "type": "scattergeo"
           }
          ],
          "scattergl": [
           {
            "marker": {
             "colorbar": {
              "outlinewidth": 0,
              "ticks": ""
             }
            },
            "type": "scattergl"
           }
          ],
          "scattermapbox": [
           {
            "marker": {
             "colorbar": {
              "outlinewidth": 0,
              "ticks": ""
             }
            },
            "type": "scattermapbox"
           }
          ],
          "scatterpolar": [
           {
            "marker": {
             "colorbar": {
              "outlinewidth": 0,
              "ticks": ""
             }
            },
            "type": "scatterpolar"
           }
          ],
          "scatterpolargl": [
           {
            "marker": {
             "colorbar": {
              "outlinewidth": 0,
              "ticks": ""
             }
            },
            "type": "scatterpolargl"
           }
          ],
          "scatterternary": [
           {
            "marker": {
             "colorbar": {
              "outlinewidth": 0,
              "ticks": ""
             }
            },
            "type": "scatterternary"
           }
          ],
          "surface": [
           {
            "colorbar": {
             "outlinewidth": 0,
             "ticks": ""
            },
            "colorscale": [
             [
              0,
              "#0d0887"
             ],
             [
              0.1111111111111111,
              "#46039f"
             ],
             [
              0.2222222222222222,
              "#7201a8"
             ],
             [
              0.3333333333333333,
              "#9c179e"
             ],
             [
              0.4444444444444444,
              "#bd3786"
             ],
             [
              0.5555555555555556,
              "#d8576b"
             ],
             [
              0.6666666666666666,
              "#ed7953"
             ],
             [
              0.7777777777777778,
              "#fb9f3a"
             ],
             [
              0.8888888888888888,
              "#fdca26"
             ],
             [
              1,
              "#f0f921"
             ]
            ],
            "type": "surface"
           }
          ],
          "table": [
           {
            "cells": {
             "fill": {
              "color": "#EBF0F8"
             },
             "line": {
              "color": "white"
             }
            },
            "header": {
             "fill": {
              "color": "#C8D4E3"
             },
             "line": {
              "color": "white"
             }
            },
            "type": "table"
           }
          ]
         },
         "layout": {
          "annotationdefaults": {
           "arrowcolor": "#2a3f5f",
           "arrowhead": 0,
           "arrowwidth": 1
          },
          "autotypenumbers": "strict",
          "coloraxis": {
           "colorbar": {
            "outlinewidth": 0,
            "ticks": ""
           }
          },
          "colorscale": {
           "diverging": [
            [
             0,
             "#8e0152"
            ],
            [
             0.1,
             "#c51b7d"
            ],
            [
             0.2,
             "#de77ae"
            ],
            [
             0.3,
             "#f1b6da"
            ],
            [
             0.4,
             "#fde0ef"
            ],
            [
             0.5,
             "#f7f7f7"
            ],
            [
             0.6,
             "#e6f5d0"
            ],
            [
             0.7,
             "#b8e186"
            ],
            [
             0.8,
             "#7fbc41"
            ],
            [
             0.9,
             "#4d9221"
            ],
            [
             1,
             "#276419"
            ]
           ],
           "sequential": [
            [
             0,
             "#0d0887"
            ],
            [
             0.1111111111111111,
             "#46039f"
            ],
            [
             0.2222222222222222,
             "#7201a8"
            ],
            [
             0.3333333333333333,
             "#9c179e"
            ],
            [
             0.4444444444444444,
             "#bd3786"
            ],
            [
             0.5555555555555556,
             "#d8576b"
            ],
            [
             0.6666666666666666,
             "#ed7953"
            ],
            [
             0.7777777777777778,
             "#fb9f3a"
            ],
            [
             0.8888888888888888,
             "#fdca26"
            ],
            [
             1,
             "#f0f921"
            ]
           ],
           "sequentialminus": [
            [
             0,
             "#0d0887"
            ],
            [
             0.1111111111111111,
             "#46039f"
            ],
            [
             0.2222222222222222,
             "#7201a8"
            ],
            [
             0.3333333333333333,
             "#9c179e"
            ],
            [
             0.4444444444444444,
             "#bd3786"
            ],
            [
             0.5555555555555556,
             "#d8576b"
            ],
            [
             0.6666666666666666,
             "#ed7953"
            ],
            [
             0.7777777777777778,
             "#fb9f3a"
            ],
            [
             0.8888888888888888,
             "#fdca26"
            ],
            [
             1,
             "#f0f921"
            ]
           ]
          },
          "colorway": [
           "#636efa",
           "#EF553B",
           "#00cc96",
           "#ab63fa",
           "#FFA15A",
           "#19d3f3",
           "#FF6692",
           "#B6E880",
           "#FF97FF",
           "#FECB52"
          ],
          "font": {
           "color": "#2a3f5f"
          },
          "geo": {
           "bgcolor": "white",
           "lakecolor": "white",
           "landcolor": "#E5ECF6",
           "showlakes": true,
           "showland": true,
           "subunitcolor": "white"
          },
          "hoverlabel": {
           "align": "left"
          },
          "hovermode": "closest",
          "mapbox": {
           "style": "light"
          },
          "paper_bgcolor": "white",
          "plot_bgcolor": "#E5ECF6",
          "polar": {
           "angularaxis": {
            "gridcolor": "white",
            "linecolor": "white",
            "ticks": ""
           },
           "bgcolor": "#E5ECF6",
           "radialaxis": {
            "gridcolor": "white",
            "linecolor": "white",
            "ticks": ""
           }
          },
          "scene": {
           "xaxis": {
            "backgroundcolor": "#E5ECF6",
            "gridcolor": "white",
            "gridwidth": 2,
            "linecolor": "white",
            "showbackground": true,
            "ticks": "",
            "zerolinecolor": "white"
           },
           "yaxis": {
            "backgroundcolor": "#E5ECF6",
            "gridcolor": "white",
            "gridwidth": 2,
            "linecolor": "white",
            "showbackground": true,
            "ticks": "",
            "zerolinecolor": "white"
           },
           "zaxis": {
            "backgroundcolor": "#E5ECF6",
            "gridcolor": "white",
            "gridwidth": 2,
            "linecolor": "white",
            "showbackground": true,
            "ticks": "",
            "zerolinecolor": "white"
           }
          },
          "shapedefaults": {
           "line": {
            "color": "#2a3f5f"
           }
          },
          "ternary": {
           "aaxis": {
            "gridcolor": "white",
            "linecolor": "white",
            "ticks": ""
           },
           "baxis": {
            "gridcolor": "white",
            "linecolor": "white",
            "ticks": ""
           },
           "bgcolor": "#E5ECF6",
           "caxis": {
            "gridcolor": "white",
            "linecolor": "white",
            "ticks": ""
           }
          },
          "title": {
           "x": 0.05
          },
          "xaxis": {
           "automargin": true,
           "gridcolor": "white",
           "linecolor": "white",
           "ticks": "",
           "title": {
            "standoff": 15
           },
           "zerolinecolor": "white",
           "zerolinewidth": 2
          },
          "yaxis": {
           "automargin": true,
           "gridcolor": "white",
           "linecolor": "white",
           "ticks": "",
           "title": {
            "standoff": 15
           },
           "zerolinecolor": "white",
           "zerolinewidth": 2
          }
         }
        },
        "title": {
         "text": "CO2 Emissions Rate by State (lb/MWh)",
         "x": 0.5
        },
        "width": 1000
       }
      },
      "text/html": [
       "<div>                            <div id=\"889e91a2-7717-43db-ae55-9406eaf41f5d\" class=\"plotly-graph-div\" style=\"height:600px; width:1000px;\"></div>            <script type=\"text/javascript\">                require([\"plotly\"], function(Plotly) {                    window.PLOTLYENV=window.PLOTLYENV || {};                                    if (document.getElementById(\"889e91a2-7717-43db-ae55-9406eaf41f5d\")) {                    Plotly.newPlot(                        \"889e91a2-7717-43db-ae55-9406eaf41f5d\",                        [{\"coloraxis\":\"coloraxis\",\"geo\":\"geo\",\"hovertemplate\":\"state=%{location}\\u003cbr\\u003eCO2 Emissions Rate (lb\\u002fMWh)=%{z}\\u003cextra\\u003e\\u003c\\u002fextra\\u003e\",\"locationmode\":\"USA-states\",\"locations\":[\"KS\",\"CT\",\"MO\",\"UT\",\"VT\",\"AK\",\"ND\",\"PR\",\"WY\",\"OH\",\"IA\",\"WV\",\"NE\",\"HI\",\"NC\",\"FL\",\"MT\",\"SD\",\"TN\",\"MI\",\"MD\",\"NY\",\"OK\",\"MN\",\"PA\",\"IL\",\"IN\",\"TX\",\"DE\",\"NH\",\"NM\",\"AZ\",\"CO\",\"MA\",\"NJ\",\"VA\",\"WI\",\"MS\",\"AR\",\"KY\",\"SC\",\"ME\",\"GA\",\"LA\",\"DC\",\"AL\",\"WA\",\"CA\",\"RI\",\"ID\",\"NV\",\"OR\"],\"name\":\"\",\"z\":[2266.76,2211.77,2024.22,1994.36,1938.24,1827.0,1810.38,1808.99,1752.78,1748.7,1709.73,1632.88,1622.67,1604.17,1568.38,1484.47,1483.07,1465.36,1446.43,1394.86,1366.05,1355.46,1353.49,1346.99,1335.4,1319.0,1298.5,1273.67,1238.92,1205.66,1204.27,1157.15,1146.26,1130.85,1124.22,1120.9,1114.89,1108.07,1089.62,1087.43,1079.28,931.96,925.28,823.39,822.66,794.09,782.17,732.03,665.04,446.23,434.92,431.09],\"type\":\"choropleth\"}],                        {\"template\":{\"data\":{\"histogram2dcontour\":[{\"type\":\"histogram2dcontour\",\"colorbar\":{\"outlinewidth\":0,\"ticks\":\"\"},\"colorscale\":[[0.0,\"#0d0887\"],[0.1111111111111111,\"#46039f\"],[0.2222222222222222,\"#7201a8\"],[0.3333333333333333,\"#9c179e\"],[0.4444444444444444,\"#bd3786\"],[0.5555555555555556,\"#d8576b\"],[0.6666666666666666,\"#ed7953\"],[0.7777777777777778,\"#fb9f3a\"],[0.8888888888888888,\"#fdca26\"],[1.0,\"#f0f921\"]]}],\"choropleth\":[{\"type\":\"choropleth\",\"colorbar\":{\"outlinewidth\":0,\"ticks\":\"\"}}],\"histogram2d\":[{\"type\":\"histogram2d\",\"colorbar\":{\"outlinewidth\":0,\"ticks\":\"\"},\"colorscale\":[[0.0,\"#0d0887\"],[0.1111111111111111,\"#46039f\"],[0.2222222222222222,\"#7201a8\"],[0.3333333333333333,\"#9c179e\"],[0.4444444444444444,\"#bd3786\"],[0.5555555555555556,\"#d8576b\"],[0.6666666666666666,\"#ed7953\"],[0.7777777777777778,\"#fb9f3a\"],[0.8888888888888888,\"#fdca26\"],[1.0,\"#f0f921\"]]}],\"heatmap\":[{\"type\":\"heatmap\",\"colorbar\":{\"outlinewidth\":0,\"ticks\":\"\"},\"colorscale\":[[0.0,\"#0d0887\"],[0.1111111111111111,\"#46039f\"],[0.2222222222222222,\"#7201a8\"],[0.3333333333333333,\"#9c179e\"],[0.4444444444444444,\"#bd3786\"],[0.5555555555555556,\"#d8576b\"],[0.6666666666666666,\"#ed7953\"],[0.7777777777777778,\"#fb9f3a\"],[0.8888888888888888,\"#fdca26\"],[1.0,\"#f0f921\"]]}],\"heatmapgl\":[{\"type\":\"heatmapgl\",\"colorbar\":{\"outlinewidth\":0,\"ticks\":\"\"},\"colorscale\":[[0.0,\"#0d0887\"],[0.1111111111111111,\"#46039f\"],[0.2222222222222222,\"#7201a8\"],[0.3333333333333333,\"#9c179e\"],[0.4444444444444444,\"#bd3786\"],[0.5555555555555556,\"#d8576b\"],[0.6666666666666666,\"#ed7953\"],[0.7777777777777778,\"#fb9f3a\"],[0.8888888888888888,\"#fdca26\"],[1.0,\"#f0f921\"]]}],\"contourcarpet\":[{\"type\":\"contourcarpet\",\"colorbar\":{\"outlinewidth\":0,\"ticks\":\"\"}}],\"contour\":[{\"type\":\"contour\",\"colorbar\":{\"outlinewidth\":0,\"ticks\":\"\"},\"colorscale\":[[0.0,\"#0d0887\"],[0.1111111111111111,\"#46039f\"],[0.2222222222222222,\"#7201a8\"],[0.3333333333333333,\"#9c179e\"],[0.4444444444444444,\"#bd3786\"],[0.5555555555555556,\"#d8576b\"],[0.6666666666666666,\"#ed7953\"],[0.7777777777777778,\"#fb9f3a\"],[0.8888888888888888,\"#fdca26\"],[1.0,\"#f0f921\"]]}],\"surface\":[{\"type\":\"surface\",\"colorbar\":{\"outlinewidth\":0,\"ticks\":\"\"},\"colorscale\":[[0.0,\"#0d0887\"],[0.1111111111111111,\"#46039f\"],[0.2222222222222222,\"#7201a8\"],[0.3333333333333333,\"#9c179e\"],[0.4444444444444444,\"#bd3786\"],[0.5555555555555556,\"#d8576b\"],[0.6666666666666666,\"#ed7953\"],[0.7777777777777778,\"#fb9f3a\"],[0.8888888888888888,\"#fdca26\"],[1.0,\"#f0f921\"]]}],\"mesh3d\":[{\"type\":\"mesh3d\",\"colorbar\":{\"outlinewidth\":0,\"ticks\":\"\"}}],\"scatter\":[{\"fillpattern\":{\"fillmode\":\"overlay\",\"size\":10,\"solidity\":0.2},\"type\":\"scatter\"}],\"parcoords\":[{\"type\":\"parcoords\",\"line\":{\"colorbar\":{\"outlinewidth\":0,\"ticks\":\"\"}}}],\"scatterpolargl\":[{\"type\":\"scatterpolargl\",\"marker\":{\"colorbar\":{\"outlinewidth\":0,\"ticks\":\"\"}}}],\"bar\":[{\"error_x\":{\"color\":\"#2a3f5f\"},\"error_y\":{\"color\":\"#2a3f5f\"},\"marker\":{\"line\":{\"color\":\"#E5ECF6\",\"width\":0.5},\"pattern\":{\"fillmode\":\"overlay\",\"size\":10,\"solidity\":0.2}},\"type\":\"bar\"}],\"scattergeo\":[{\"type\":\"scattergeo\",\"marker\":{\"colorbar\":{\"outlinewidth\":0,\"ticks\":\"\"}}}],\"scatterpolar\":[{\"type\":\"scatterpolar\",\"marker\":{\"colorbar\":{\"outlinewidth\":0,\"ticks\":\"\"}}}],\"histogram\":[{\"marker\":{\"pattern\":{\"fillmode\":\"overlay\",\"size\":10,\"solidity\":0.2}},\"type\":\"histogram\"}],\"scattergl\":[{\"type\":\"scattergl\",\"marker\":{\"colorbar\":{\"outlinewidth\":0,\"ticks\":\"\"}}}],\"scatter3d\":[{\"type\":\"scatter3d\",\"line\":{\"colorbar\":{\"outlinewidth\":0,\"ticks\":\"\"}},\"marker\":{\"colorbar\":{\"outlinewidth\":0,\"ticks\":\"\"}}}],\"scattermapbox\":[{\"type\":\"scattermapbox\",\"marker\":{\"colorbar\":{\"outlinewidth\":0,\"ticks\":\"\"}}}],\"scatterternary\":[{\"type\":\"scatterternary\",\"marker\":{\"colorbar\":{\"outlinewidth\":0,\"ticks\":\"\"}}}],\"scattercarpet\":[{\"type\":\"scattercarpet\",\"marker\":{\"colorbar\":{\"outlinewidth\":0,\"ticks\":\"\"}}}],\"carpet\":[{\"aaxis\":{\"endlinecolor\":\"#2a3f5f\",\"gridcolor\":\"white\",\"linecolor\":\"white\",\"minorgridcolor\":\"white\",\"startlinecolor\":\"#2a3f5f\"},\"baxis\":{\"endlinecolor\":\"#2a3f5f\",\"gridcolor\":\"white\",\"linecolor\":\"white\",\"minorgridcolor\":\"white\",\"startlinecolor\":\"#2a3f5f\"},\"type\":\"carpet\"}],\"table\":[{\"cells\":{\"fill\":{\"color\":\"#EBF0F8\"},\"line\":{\"color\":\"white\"}},\"header\":{\"fill\":{\"color\":\"#C8D4E3\"},\"line\":{\"color\":\"white\"}},\"type\":\"table\"}],\"barpolar\":[{\"marker\":{\"line\":{\"color\":\"#E5ECF6\",\"width\":0.5},\"pattern\":{\"fillmode\":\"overlay\",\"size\":10,\"solidity\":0.2}},\"type\":\"barpolar\"}],\"pie\":[{\"automargin\":true,\"type\":\"pie\"}]},\"layout\":{\"autotypenumbers\":\"strict\",\"colorway\":[\"#636efa\",\"#EF553B\",\"#00cc96\",\"#ab63fa\",\"#FFA15A\",\"#19d3f3\",\"#FF6692\",\"#B6E880\",\"#FF97FF\",\"#FECB52\"],\"font\":{\"color\":\"#2a3f5f\"},\"hovermode\":\"closest\",\"hoverlabel\":{\"align\":\"left\"},\"paper_bgcolor\":\"white\",\"plot_bgcolor\":\"#E5ECF6\",\"polar\":{\"bgcolor\":\"#E5ECF6\",\"angularaxis\":{\"gridcolor\":\"white\",\"linecolor\":\"white\",\"ticks\":\"\"},\"radialaxis\":{\"gridcolor\":\"white\",\"linecolor\":\"white\",\"ticks\":\"\"}},\"ternary\":{\"bgcolor\":\"#E5ECF6\",\"aaxis\":{\"gridcolor\":\"white\",\"linecolor\":\"white\",\"ticks\":\"\"},\"baxis\":{\"gridcolor\":\"white\",\"linecolor\":\"white\",\"ticks\":\"\"},\"caxis\":{\"gridcolor\":\"white\",\"linecolor\":\"white\",\"ticks\":\"\"}},\"coloraxis\":{\"colorbar\":{\"outlinewidth\":0,\"ticks\":\"\"}},\"colorscale\":{\"sequential\":[[0.0,\"#0d0887\"],[0.1111111111111111,\"#46039f\"],[0.2222222222222222,\"#7201a8\"],[0.3333333333333333,\"#9c179e\"],[0.4444444444444444,\"#bd3786\"],[0.5555555555555556,\"#d8576b\"],[0.6666666666666666,\"#ed7953\"],[0.7777777777777778,\"#fb9f3a\"],[0.8888888888888888,\"#fdca26\"],[1.0,\"#f0f921\"]],\"sequentialminus\":[[0.0,\"#0d0887\"],[0.1111111111111111,\"#46039f\"],[0.2222222222222222,\"#7201a8\"],[0.3333333333333333,\"#9c179e\"],[0.4444444444444444,\"#bd3786\"],[0.5555555555555556,\"#d8576b\"],[0.6666666666666666,\"#ed7953\"],[0.7777777777777778,\"#fb9f3a\"],[0.8888888888888888,\"#fdca26\"],[1.0,\"#f0f921\"]],\"diverging\":[[0,\"#8e0152\"],[0.1,\"#c51b7d\"],[0.2,\"#de77ae\"],[0.3,\"#f1b6da\"],[0.4,\"#fde0ef\"],[0.5,\"#f7f7f7\"],[0.6,\"#e6f5d0\"],[0.7,\"#b8e186\"],[0.8,\"#7fbc41\"],[0.9,\"#4d9221\"],[1,\"#276419\"]]},\"xaxis\":{\"gridcolor\":\"white\",\"linecolor\":\"white\",\"ticks\":\"\",\"title\":{\"standoff\":15},\"zerolinecolor\":\"white\",\"automargin\":true,\"zerolinewidth\":2},\"yaxis\":{\"gridcolor\":\"white\",\"linecolor\":\"white\",\"ticks\":\"\",\"title\":{\"standoff\":15},\"zerolinecolor\":\"white\",\"automargin\":true,\"zerolinewidth\":2},\"scene\":{\"xaxis\":{\"backgroundcolor\":\"#E5ECF6\",\"gridcolor\":\"white\",\"linecolor\":\"white\",\"showbackground\":true,\"ticks\":\"\",\"zerolinecolor\":\"white\",\"gridwidth\":2},\"yaxis\":{\"backgroundcolor\":\"#E5ECF6\",\"gridcolor\":\"white\",\"linecolor\":\"white\",\"showbackground\":true,\"ticks\":\"\",\"zerolinecolor\":\"white\",\"gridwidth\":2},\"zaxis\":{\"backgroundcolor\":\"#E5ECF6\",\"gridcolor\":\"white\",\"linecolor\":\"white\",\"showbackground\":true,\"ticks\":\"\",\"zerolinecolor\":\"white\",\"gridwidth\":2}},\"shapedefaults\":{\"line\":{\"color\":\"#2a3f5f\"}},\"annotationdefaults\":{\"arrowcolor\":\"#2a3f5f\",\"arrowhead\":0,\"arrowwidth\":1},\"geo\":{\"bgcolor\":\"white\",\"landcolor\":\"#E5ECF6\",\"subunitcolor\":\"white\",\"showland\":true,\"showlakes\":true,\"lakecolor\":\"white\"},\"title\":{\"x\":0.05},\"mapbox\":{\"style\":\"light\"}}},\"geo\":{\"domain\":{\"x\":[0.0,1.0],\"y\":[0.0,1.0]},\"center\":{},\"scope\":\"usa\",\"showlakes\":true,\"lakecolor\":\"rgb(255, 255, 255)\"},\"coloraxis\":{\"colorbar\":{\"title\":{\"text\":\"CO2 Emissions Rate (lb\\u002fMWh)\"}},\"colorscale\":[[0.0,\"#440154\"],[0.1111111111111111,\"#482878\"],[0.2222222222222222,\"#3e4989\"],[0.3333333333333333,\"#31688e\"],[0.4444444444444444,\"#26828e\"],[0.5555555555555556,\"#1f9e89\"],[0.6666666666666666,\"#35b779\"],[0.7777777777777778,\"#6ece58\"],[0.8888888888888888,\"#b5de2b\"],[1.0,\"#fde725\"]]},\"legend\":{\"tracegroupgap\":0},\"title\":{\"text\":\"CO2 Emissions Rate by State (lb\\u002fMWh)\",\"x\":0.5},\"width\":1000,\"height\":600},                        {\"responsive\": true}                    ).then(function(){\n",
       "                            \n",
       "var gd = document.getElementById('889e91a2-7717-43db-ae55-9406eaf41f5d');\n",
       "var x = new MutationObserver(function (mutations, observer) {{\n",
       "        var display = window.getComputedStyle(gd).display;\n",
       "        if (!display || display === 'none') {{\n",
       "            console.log([gd, 'removed!']);\n",
       "            Plotly.purge(gd);\n",
       "            observer.disconnect();\n",
       "        }}\n",
       "}});\n",
       "\n",
       "// Listen for the removal of the full notebook cells\n",
       "var notebookContainer = gd.closest('#notebook-container');\n",
       "if (notebookContainer) {{\n",
       "    x.observe(notebookContainer, {childList: true});\n",
       "}}\n",
       "\n",
       "// Listen for the clearing of the current output cell\n",
       "var outputEl = gd.closest('.output');\n",
       "if (outputEl) {{\n",
       "    x.observe(outputEl, {childList: true});\n",
       "}}\n",
       "\n",
       "                        })                };                });            </script>        </div>"
      ]
     },
     "metadata": {},
     "output_type": "display_data"
    },
    {
     "name": "stdout",
     "output_type": "stream",
     "text": [
      "Map created and displayed. Calculating system impacts...\n",
      "\n",
      "Creating impact comparison visualization...\n"
     ]
    },
    {
     "data": {
      "application/vnd.plotly.v1+json": {
       "config": {
        "plotlyServerURL": "https://plotly.com"
       },
       "data": [
        {
         "hovertemplate": "State: %{x}<br>Daily CO2: %{y:.1f} lbs<extra></extra>",
         "marker": {
          "color": "lightblue"
         },
         "name": "Small",
         "type": "bar",
         "x": [
          "KS",
          "CT",
          "MO",
          "UT",
          "VT",
          "AK",
          "ND",
          "PR",
          "WY",
          "OH",
          "IA",
          "WV",
          "NE",
          "HI",
          "NC",
          "FL",
          "MT",
          "SD",
          "TN",
          "MI",
          "MD",
          "NY",
          "OK",
          "MN",
          "PA",
          "IL",
          "IN",
          "TX",
          "DE",
          "NH",
          "NM",
          "AZ",
          "CO",
          "MA",
          "NJ",
          "VA",
          "WI",
          "MS",
          "AR",
          "KY",
          "SC",
          "ME",
          "GA",
          "LA",
          "DC",
          "AL",
          "WA",
          "CA",
          "RI",
          "ID",
          "NV",
          "OR"
         ],
         "xaxis": "x",
         "y": [
          108.80448000000001,
          106.16496000000001,
          97.16256,
          95.72928,
          93.03552,
          87.696,
          86.89824,
          86.83152,
          84.13344000000001,
          83.9376,
          82.06704,
          78.37824,
          77.88816,
          77.00016000000001,
          75.28224,
          71.25456,
          71.18736,
          70.33727999999999,
          69.42864,
          66.95327999999999,
          65.57039999999999,
          65.06208000000001,
          64.96752000000001,
          64.65552,
          64.09920000000001,
          63.312000000000005,
          62.328,
          61.136160000000004,
          59.468160000000005,
          57.871680000000005,
          57.80496,
          55.543200000000006,
          55.02048,
          54.2808,
          53.96256,
          53.803200000000004,
          53.514720000000004,
          53.18736,
          52.301759999999994,
          52.19664,
          51.80544,
          44.734080000000006,
          44.41344,
          39.52272,
          39.48768,
          38.11632,
          37.54416,
          35.13744,
          31.92192,
          21.419040000000003,
          20.876160000000002,
          20.69232
         ],
         "yaxis": "y"
        },
        {
         "hovertemplate": "State: %{x}<br>Daily CO2: %{y:.1f} lbs<extra></extra>",
         "marker": {
          "color": "blue"
         },
         "name": "Medium",
         "type": "bar",
         "x": [
          "KS",
          "CT",
          "MO",
          "UT",
          "VT",
          "AK",
          "ND",
          "PR",
          "WY",
          "OH",
          "IA",
          "WV",
          "NE",
          "HI",
          "NC",
          "FL",
          "MT",
          "SD",
          "TN",
          "MI",
          "MD",
          "NY",
          "OK",
          "MN",
          "PA",
          "IL",
          "IN",
          "TX",
          "DE",
          "NH",
          "NM",
          "AZ",
          "CO",
          "MA",
          "NJ",
          "VA",
          "WI",
          "MS",
          "AR",
          "KY",
          "SC",
          "ME",
          "GA",
          "LA",
          "DC",
          "AL",
          "WA",
          "CA",
          "RI",
          "ID",
          "NV",
          "OR"
         ],
         "xaxis": "x",
         "y": [
          326.41344,
          318.49487999999997,
          291.48767999999995,
          287.18783999999994,
          279.10656,
          263.08799999999997,
          260.69472,
          260.49456,
          252.40031999999997,
          251.81279999999998,
          246.20111999999997,
          235.13472,
          233.66448,
          231.00047999999998,
          225.84672,
          213.76368,
          213.56207999999998,
          211.01183999999998,
          208.28592,
          200.85983999999996,
          196.7112,
          195.18624,
          194.90256,
          193.96656,
          192.2976,
          189.93599999999998,
          186.98399999999998,
          183.40848,
          178.40448,
          173.61504,
          173.41487999999998,
          166.6296,
          165.06143999999998,
          162.84239999999997,
          161.88768,
          161.4096,
          160.54416,
          159.56207999999998,
          156.90527999999998,
          156.58992,
          155.41631999999998,
          134.20224,
          133.24032,
          118.56815999999999,
          118.46303999999999,
          114.34895999999999,
          112.63247999999999,
          105.41232,
          95.76575999999999,
          64.25712,
          62.628479999999996,
          62.07695999999999
         ],
         "yaxis": "y"
        },
        {
         "hovertemplate": "State: %{x}<br>Daily CO2: %{y:.1f} lbs<extra></extra>",
         "marker": {
          "color": "darkblue"
         },
         "name": "Large",
         "type": "bar",
         "x": [
          "KS",
          "CT",
          "MO",
          "UT",
          "VT",
          "AK",
          "ND",
          "PR",
          "WY",
          "OH",
          "IA",
          "WV",
          "NE",
          "HI",
          "NC",
          "FL",
          "MT",
          "SD",
          "TN",
          "MI",
          "MD",
          "NY",
          "OK",
          "MN",
          "PA",
          "IL",
          "IN",
          "TX",
          "DE",
          "NH",
          "NM",
          "AZ",
          "CO",
          "MA",
          "NJ",
          "VA",
          "WI",
          "MS",
          "AR",
          "KY",
          "SC",
          "ME",
          "GA",
          "LA",
          "DC",
          "AL",
          "WA",
          "CA",
          "RI",
          "ID",
          "NV",
          "OR"
         ],
         "xaxis": "x",
         "y": [
          652.82688,
          636.9897599999999,
          582.9753599999999,
          574.3756799999999,
          558.21312,
          526.1759999999999,
          521.38944,
          520.98912,
          504.80063999999993,
          503.62559999999996,
          492.40223999999995,
          470.26944,
          467.32896,
          462.00095999999996,
          451.69344,
          427.52736,
          427.12415999999996,
          422.02367999999996,
          416.57184,
          401.7196799999999,
          393.4224,
          390.37248,
          389.80512,
          387.93312,
          384.5952,
          379.87199999999996,
          373.96799999999996,
          366.81696,
          356.80896,
          347.23008,
          346.82975999999996,
          333.2592,
          330.12287999999995,
          325.68479999999994,
          323.77536,
          322.8192,
          321.08832,
          319.12415999999996,
          313.81055999999995,
          313.17984,
          310.83263999999997,
          268.40448,
          266.48064,
          237.13631999999998,
          236.92607999999998,
          228.69791999999998,
          225.26495999999997,
          210.82464,
          191.53151999999997,
          128.51424,
          125.25695999999999,
          124.15391999999999
         ],
         "yaxis": "y"
        },
        {
         "hovertemplate": "State: %{x}<br>Savings: %{y:.1f} lbs/day<extra></extra>",
         "marker": {
          "color": "lightblue"
         },
         "name": "Small Savings",
         "type": "bar",
         "x": [
          "KS",
          "CT",
          "MO",
          "UT",
          "VT",
          "AK",
          "ND",
          "PR",
          "WY",
          "OH",
          "IA",
          "WV",
          "NE",
          "HI",
          "NC",
          "FL",
          "MT",
          "SD",
          "TN",
          "MI",
          "MD",
          "NY",
          "OK",
          "MN",
          "PA",
          "IL",
          "IN",
          "TX",
          "DE",
          "NH",
          "NM",
          "AZ",
          "CO",
          "MA",
          "NJ",
          "VA",
          "WI",
          "MS",
          "AR",
          "KY",
          "SC",
          "ME",
          "GA",
          "LA",
          "DC",
          "AL",
          "WA",
          "CA",
          "RI",
          "ID",
          "NV",
          "OR"
         ],
         "xaxis": "x2",
         "y": [
          0,
          2.6395200000000045,
          11.641920000000013,
          13.07520000000001,
          15.768960000000007,
          21.108480000000014,
          21.90624000000001,
          21.972960000000015,
          24.671040000000005,
          24.86688000000001,
          26.737440000000007,
          30.426240000000007,
          30.916320000000013,
          31.804320000000004,
          33.52224000000001,
          37.549920000000014,
          37.617120000000014,
          38.46720000000002,
          39.37584000000001,
          41.85120000000002,
          43.23408000000002,
          43.7424,
          43.836960000000005,
          44.14896000000002,
          44.70528,
          45.49248000000001,
          46.47648000000001,
          47.66832000000001,
          49.33632000000001,
          50.93280000000001,
          50.99952000000001,
          53.261280000000006,
          53.78400000000001,
          54.52368000000001,
          54.84192000000001,
          55.00128000000001,
          55.28976000000001,
          55.617120000000014,
          56.50272000000002,
          56.60784000000001,
          56.999040000000015,
          64.0704,
          64.39104,
          69.28176000000002,
          69.31680000000001,
          70.68816000000001,
          71.26032000000001,
          73.66704000000001,
          76.88256000000001,
          87.38544000000002,
          87.92832000000001,
          88.11216000000002
         ],
         "yaxis": "y2"
        },
        {
         "hovertemplate": "State: %{x}<br>Savings: %{y:.1f} lbs/day<extra></extra>",
         "marker": {
          "color": "blue"
         },
         "name": "Medium Savings",
         "type": "bar",
         "x": [
          "KS",
          "CT",
          "MO",
          "UT",
          "VT",
          "AK",
          "ND",
          "PR",
          "WY",
          "OH",
          "IA",
          "WV",
          "NE",
          "HI",
          "NC",
          "FL",
          "MT",
          "SD",
          "TN",
          "MI",
          "MD",
          "NY",
          "OK",
          "MN",
          "PA",
          "IL",
          "IN",
          "TX",
          "DE",
          "NH",
          "NM",
          "AZ",
          "CO",
          "MA",
          "NJ",
          "VA",
          "WI",
          "MS",
          "AR",
          "KY",
          "SC",
          "ME",
          "GA",
          "LA",
          "DC",
          "AL",
          "WA",
          "CA",
          "RI",
          "ID",
          "NV",
          "OR"
         ],
         "xaxis": "x2",
         "y": [
          0,
          7.918560000000014,
          34.925760000000025,
          39.22560000000004,
          47.30687999999998,
          63.325440000000015,
          65.71871999999996,
          65.91888,
          74.01312000000001,
          74.60064,
          80.21232,
          91.27871999999999,
          92.74895999999998,
          95.41296,
          100.56671999999998,
          112.64975999999999,
          112.85136,
          115.4016,
          118.12751999999998,
          125.55360000000002,
          129.70224,
          131.22719999999998,
          131.51088,
          132.44688,
          134.11584,
          136.47744,
          139.42944,
          143.00495999999998,
          148.00895999999997,
          152.7984,
          152.99856,
          159.78383999999997,
          161.352,
          163.57104,
          164.52576,
          165.00383999999997,
          165.86927999999997,
          166.85136,
          169.50816,
          169.82351999999997,
          170.99712,
          192.2112,
          193.17311999999998,
          207.84528,
          207.9504,
          212.06448,
          213.78096,
          221.00112,
          230.64767999999998,
          262.15632,
          263.78495999999996,
          264.33648
         ],
         "yaxis": "y2"
        },
        {
         "hovertemplate": "State: %{x}<br>Savings: %{y:.1f} lbs/day<extra></extra>",
         "marker": {
          "color": "darkblue"
         },
         "name": "Large Savings",
         "type": "bar",
         "x": [
          "KS",
          "CT",
          "MO",
          "UT",
          "VT",
          "AK",
          "ND",
          "PR",
          "WY",
          "OH",
          "IA",
          "WV",
          "NE",
          "HI",
          "NC",
          "FL",
          "MT",
          "SD",
          "TN",
          "MI",
          "MD",
          "NY",
          "OK",
          "MN",
          "PA",
          "IL",
          "IN",
          "TX",
          "DE",
          "NH",
          "NM",
          "AZ",
          "CO",
          "MA",
          "NJ",
          "VA",
          "WI",
          "MS",
          "AR",
          "KY",
          "SC",
          "ME",
          "GA",
          "LA",
          "DC",
          "AL",
          "WA",
          "CA",
          "RI",
          "ID",
          "NV",
          "OR"
         ],
         "xaxis": "x2",
         "y": [
          0,
          15.837120000000027,
          69.85152000000005,
          78.45120000000009,
          94.61375999999996,
          126.65088000000003,
          131.43743999999992,
          131.83776,
          148.02624000000003,
          149.20128,
          160.42464,
          182.55743999999999,
          185.49791999999997,
          190.82592,
          201.13343999999995,
          225.29951999999997,
          225.70272,
          230.8032,
          236.25503999999995,
          251.10720000000003,
          259.40448,
          262.45439999999996,
          263.02176,
          264.89376,
          268.23168,
          272.95488,
          278.85888,
          286.00991999999997,
          296.01791999999995,
          305.5968,
          305.99712,
          319.56767999999994,
          322.704,
          327.14208,
          329.05152,
          330.00767999999994,
          331.73855999999995,
          333.70272,
          339.01632,
          339.64703999999995,
          341.99424,
          384.4224,
          386.34623999999997,
          415.69056,
          415.9008,
          424.12896,
          427.56192,
          442.00224,
          461.29535999999996,
          524.31264,
          527.5699199999999,
          528.67296
         ],
         "yaxis": "y2"
        }
       ],
       "layout": {
        "annotations": [
         {
          "font": {
           "size": 16
          },
          "showarrow": false,
          "text": "Daily CO2 Impact by System Size and Location",
          "x": 0.5,
          "xanchor": "center",
          "xref": "paper",
          "y": 1,
          "yanchor": "bottom",
          "yref": "paper"
         },
         {
          "font": {
           "size": 16
          },
          "showarrow": false,
          "text": "Potential CO2 Savings vs Highest Emission State",
          "x": 0.5,
          "xanchor": "center",
          "xref": "paper",
          "y": 0.45,
          "yanchor": "bottom",
          "yref": "paper"
         }
        ],
        "barmode": "group",
        "height": 1200,
        "showlegend": true,
        "template": {
         "data": {
          "bar": [
           {
            "error_x": {
             "color": "#2a3f5f"
            },
            "error_y": {
             "color": "#2a3f5f"
            },
            "marker": {
             "line": {
              "color": "#E5ECF6",
              "width": 0.5
             },
             "pattern": {
              "fillmode": "overlay",
              "size": 10,
              "solidity": 0.2
             }
            },
            "type": "bar"
           }
          ],
          "barpolar": [
           {
            "marker": {
             "line": {
              "color": "#E5ECF6",
              "width": 0.5
             },
             "pattern": {
              "fillmode": "overlay",
              "size": 10,
              "solidity": 0.2
             }
            },
            "type": "barpolar"
           }
          ],
          "carpet": [
           {
            "aaxis": {
             "endlinecolor": "#2a3f5f",
             "gridcolor": "white",
             "linecolor": "white",
             "minorgridcolor": "white",
             "startlinecolor": "#2a3f5f"
            },
            "baxis": {
             "endlinecolor": "#2a3f5f",
             "gridcolor": "white",
             "linecolor": "white",
             "minorgridcolor": "white",
             "startlinecolor": "#2a3f5f"
            },
            "type": "carpet"
           }
          ],
          "choropleth": [
           {
            "colorbar": {
             "outlinewidth": 0,
             "ticks": ""
            },
            "type": "choropleth"
           }
          ],
          "contour": [
           {
            "colorbar": {
             "outlinewidth": 0,
             "ticks": ""
            },
            "colorscale": [
             [
              0,
              "#0d0887"
             ],
             [
              0.1111111111111111,
              "#46039f"
             ],
             [
              0.2222222222222222,
              "#7201a8"
             ],
             [
              0.3333333333333333,
              "#9c179e"
             ],
             [
              0.4444444444444444,
              "#bd3786"
             ],
             [
              0.5555555555555556,
              "#d8576b"
             ],
             [
              0.6666666666666666,
              "#ed7953"
             ],
             [
              0.7777777777777778,
              "#fb9f3a"
             ],
             [
              0.8888888888888888,
              "#fdca26"
             ],
             [
              1,
              "#f0f921"
             ]
            ],
            "type": "contour"
           }
          ],
          "contourcarpet": [
           {
            "colorbar": {
             "outlinewidth": 0,
             "ticks": ""
            },
            "type": "contourcarpet"
           }
          ],
          "heatmap": [
           {
            "colorbar": {
             "outlinewidth": 0,
             "ticks": ""
            },
            "colorscale": [
             [
              0,
              "#0d0887"
             ],
             [
              0.1111111111111111,
              "#46039f"
             ],
             [
              0.2222222222222222,
              "#7201a8"
             ],
             [
              0.3333333333333333,
              "#9c179e"
             ],
             [
              0.4444444444444444,
              "#bd3786"
             ],
             [
              0.5555555555555556,
              "#d8576b"
             ],
             [
              0.6666666666666666,
              "#ed7953"
             ],
             [
              0.7777777777777778,
              "#fb9f3a"
             ],
             [
              0.8888888888888888,
              "#fdca26"
             ],
             [
              1,
              "#f0f921"
             ]
            ],
            "type": "heatmap"
           }
          ],
          "heatmapgl": [
           {
            "colorbar": {
             "outlinewidth": 0,
             "ticks": ""
            },
            "colorscale": [
             [
              0,
              "#0d0887"
             ],
             [
              0.1111111111111111,
              "#46039f"
             ],
             [
              0.2222222222222222,
              "#7201a8"
             ],
             [
              0.3333333333333333,
              "#9c179e"
             ],
             [
              0.4444444444444444,
              "#bd3786"
             ],
             [
              0.5555555555555556,
              "#d8576b"
             ],
             [
              0.6666666666666666,
              "#ed7953"
             ],
             [
              0.7777777777777778,
              "#fb9f3a"
             ],
             [
              0.8888888888888888,
              "#fdca26"
             ],
             [
              1,
              "#f0f921"
             ]
            ],
            "type": "heatmapgl"
           }
          ],
          "histogram": [
           {
            "marker": {
             "pattern": {
              "fillmode": "overlay",
              "size": 10,
              "solidity": 0.2
             }
            },
            "type": "histogram"
           }
          ],
          "histogram2d": [
           {
            "colorbar": {
             "outlinewidth": 0,
             "ticks": ""
            },
            "colorscale": [
             [
              0,
              "#0d0887"
             ],
             [
              0.1111111111111111,
              "#46039f"
             ],
             [
              0.2222222222222222,
              "#7201a8"
             ],
             [
              0.3333333333333333,
              "#9c179e"
             ],
             [
              0.4444444444444444,
              "#bd3786"
             ],
             [
              0.5555555555555556,
              "#d8576b"
             ],
             [
              0.6666666666666666,
              "#ed7953"
             ],
             [
              0.7777777777777778,
              "#fb9f3a"
             ],
             [
              0.8888888888888888,
              "#fdca26"
             ],
             [
              1,
              "#f0f921"
             ]
            ],
            "type": "histogram2d"
           }
          ],
          "histogram2dcontour": [
           {
            "colorbar": {
             "outlinewidth": 0,
             "ticks": ""
            },
            "colorscale": [
             [
              0,
              "#0d0887"
             ],
             [
              0.1111111111111111,
              "#46039f"
             ],
             [
              0.2222222222222222,
              "#7201a8"
             ],
             [
              0.3333333333333333,
              "#9c179e"
             ],
             [
              0.4444444444444444,
              "#bd3786"
             ],
             [
              0.5555555555555556,
              "#d8576b"
             ],
             [
              0.6666666666666666,
              "#ed7953"
             ],
             [
              0.7777777777777778,
              "#fb9f3a"
             ],
             [
              0.8888888888888888,
              "#fdca26"
             ],
             [
              1,
              "#f0f921"
             ]
            ],
            "type": "histogram2dcontour"
           }
          ],
          "mesh3d": [
           {
            "colorbar": {
             "outlinewidth": 0,
             "ticks": ""
            },
            "type": "mesh3d"
           }
          ],
          "parcoords": [
           {
            "line": {
             "colorbar": {
              "outlinewidth": 0,
              "ticks": ""
             }
            },
            "type": "parcoords"
           }
          ],
          "pie": [
           {
            "automargin": true,
            "type": "pie"
           }
          ],
          "scatter": [
           {
            "fillpattern": {
             "fillmode": "overlay",
             "size": 10,
             "solidity": 0.2
            },
            "type": "scatter"
           }
          ],
          "scatter3d": [
           {
            "line": {
             "colorbar": {
              "outlinewidth": 0,
              "ticks": ""
             }
            },
            "marker": {
             "colorbar": {
              "outlinewidth": 0,
              "ticks": ""
             }
            },
            "type": "scatter3d"
           }
          ],
          "scattercarpet": [
           {
            "marker": {
             "colorbar": {
              "outlinewidth": 0,
              "ticks": ""
             }
            },
            "type": "scattercarpet"
           }
          ],
          "scattergeo": [
           {
            "marker": {
             "colorbar": {
              "outlinewidth": 0,
              "ticks": ""
             }
            },
            "type": "scattergeo"
           }
          ],
          "scattergl": [
           {
            "marker": {
             "colorbar": {
              "outlinewidth": 0,
              "ticks": ""
             }
            },
            "type": "scattergl"
           }
          ],
          "scattermapbox": [
           {
            "marker": {
             "colorbar": {
              "outlinewidth": 0,
              "ticks": ""
             }
            },
            "type": "scattermapbox"
           }
          ],
          "scatterpolar": [
           {
            "marker": {
             "colorbar": {
              "outlinewidth": 0,
              "ticks": ""
             }
            },
            "type": "scatterpolar"
           }
          ],
          "scatterpolargl": [
           {
            "marker": {
             "colorbar": {
              "outlinewidth": 0,
              "ticks": ""
             }
            },
            "type": "scatterpolargl"
           }
          ],
          "scatterternary": [
           {
            "marker": {
             "colorbar": {
              "outlinewidth": 0,
              "ticks": ""
             }
            },
            "type": "scatterternary"
           }
          ],
          "surface": [
           {
            "colorbar": {
             "outlinewidth": 0,
             "ticks": ""
            },
            "colorscale": [
             [
              0,
              "#0d0887"
             ],
             [
              0.1111111111111111,
              "#46039f"
             ],
             [
              0.2222222222222222,
              "#7201a8"
             ],
             [
              0.3333333333333333,
              "#9c179e"
             ],
             [
              0.4444444444444444,
              "#bd3786"
             ],
             [
              0.5555555555555556,
              "#d8576b"
             ],
             [
              0.6666666666666666,
              "#ed7953"
             ],
             [
              0.7777777777777778,
              "#fb9f3a"
             ],
             [
              0.8888888888888888,
              "#fdca26"
             ],
             [
              1,
              "#f0f921"
             ]
            ],
            "type": "surface"
           }
          ],
          "table": [
           {
            "cells": {
             "fill": {
              "color": "#EBF0F8"
             },
             "line": {
              "color": "white"
             }
            },
            "header": {
             "fill": {
              "color": "#C8D4E3"
             },
             "line": {
              "color": "white"
             }
            },
            "type": "table"
           }
          ]
         },
         "layout": {
          "annotationdefaults": {
           "arrowcolor": "#2a3f5f",
           "arrowhead": 0,
           "arrowwidth": 1
          },
          "autotypenumbers": "strict",
          "coloraxis": {
           "colorbar": {
            "outlinewidth": 0,
            "ticks": ""
           }
          },
          "colorscale": {
           "diverging": [
            [
             0,
             "#8e0152"
            ],
            [
             0.1,
             "#c51b7d"
            ],
            [
             0.2,
             "#de77ae"
            ],
            [
             0.3,
             "#f1b6da"
            ],
            [
             0.4,
             "#fde0ef"
            ],
            [
             0.5,
             "#f7f7f7"
            ],
            [
             0.6,
             "#e6f5d0"
            ],
            [
             0.7,
             "#b8e186"
            ],
            [
             0.8,
             "#7fbc41"
            ],
            [
             0.9,
             "#4d9221"
            ],
            [
             1,
             "#276419"
            ]
           ],
           "sequential": [
            [
             0,
             "#0d0887"
            ],
            [
             0.1111111111111111,
             "#46039f"
            ],
            [
             0.2222222222222222,
             "#7201a8"
            ],
            [
             0.3333333333333333,
             "#9c179e"
            ],
            [
             0.4444444444444444,
             "#bd3786"
            ],
            [
             0.5555555555555556,
             "#d8576b"
            ],
            [
             0.6666666666666666,
             "#ed7953"
            ],
            [
             0.7777777777777778,
             "#fb9f3a"
            ],
            [
             0.8888888888888888,
             "#fdca26"
            ],
            [
             1,
             "#f0f921"
            ]
           ],
           "sequentialminus": [
            [
             0,
             "#0d0887"
            ],
            [
             0.1111111111111111,
             "#46039f"
            ],
            [
             0.2222222222222222,
             "#7201a8"
            ],
            [
             0.3333333333333333,
             "#9c179e"
            ],
            [
             0.4444444444444444,
             "#bd3786"
            ],
            [
             0.5555555555555556,
             "#d8576b"
            ],
            [
             0.6666666666666666,
             "#ed7953"
            ],
            [
             0.7777777777777778,
             "#fb9f3a"
            ],
            [
             0.8888888888888888,
             "#fdca26"
            ],
            [
             1,
             "#f0f921"
            ]
           ]
          },
          "colorway": [
           "#636efa",
           "#EF553B",
           "#00cc96",
           "#ab63fa",
           "#FFA15A",
           "#19d3f3",
           "#FF6692",
           "#B6E880",
           "#FF97FF",
           "#FECB52"
          ],
          "font": {
           "color": "#2a3f5f"
          },
          "geo": {
           "bgcolor": "white",
           "lakecolor": "white",
           "landcolor": "#E5ECF6",
           "showlakes": true,
           "showland": true,
           "subunitcolor": "white"
          },
          "hoverlabel": {
           "align": "left"
          },
          "hovermode": "closest",
          "mapbox": {
           "style": "light"
          },
          "paper_bgcolor": "white",
          "plot_bgcolor": "#E5ECF6",
          "polar": {
           "angularaxis": {
            "gridcolor": "white",
            "linecolor": "white",
            "ticks": ""
           },
           "bgcolor": "#E5ECF6",
           "radialaxis": {
            "gridcolor": "white",
            "linecolor": "white",
            "ticks": ""
           }
          },
          "scene": {
           "xaxis": {
            "backgroundcolor": "#E5ECF6",
            "gridcolor": "white",
            "gridwidth": 2,
            "linecolor": "white",
            "showbackground": true,
            "ticks": "",
            "zerolinecolor": "white"
           },
           "yaxis": {
            "backgroundcolor": "#E5ECF6",
            "gridcolor": "white",
            "gridwidth": 2,
            "linecolor": "white",
            "showbackground": true,
            "ticks": "",
            "zerolinecolor": "white"
           },
           "zaxis": {
            "backgroundcolor": "#E5ECF6",
            "gridcolor": "white",
            "gridwidth": 2,
            "linecolor": "white",
            "showbackground": true,
            "ticks": "",
            "zerolinecolor": "white"
           }
          },
          "shapedefaults": {
           "line": {
            "color": "#2a3f5f"
           }
          },
          "ternary": {
           "aaxis": {
            "gridcolor": "white",
            "linecolor": "white",
            "ticks": ""
           },
           "baxis": {
            "gridcolor": "white",
            "linecolor": "white",
            "ticks": ""
           },
           "bgcolor": "#E5ECF6",
           "caxis": {
            "gridcolor": "white",
            "linecolor": "white",
            "ticks": ""
           }
          },
          "title": {
           "x": 0.05
          },
          "xaxis": {
           "automargin": true,
           "gridcolor": "white",
           "linecolor": "white",
           "ticks": "",
           "title": {
            "standoff": 15
           },
           "zerolinecolor": "white",
           "zerolinewidth": 2
          },
          "yaxis": {
           "automargin": true,
           "gridcolor": "white",
           "linecolor": "white",
           "ticks": "",
           "title": {
            "standoff": 15
           },
           "zerolinecolor": "white",
           "zerolinewidth": 2
          }
         }
        },
        "title": {
         "text": "Geographic Impact Analysis of ML Systems",
         "x": 0.5
        },
        "xaxis": {
         "anchor": "y",
         "domain": [
          0,
          1
         ],
         "tickangle": 45
        },
        "xaxis2": {
         "anchor": "y2",
         "domain": [
          0,
          1
         ],
         "tickangle": 45
        },
        "yaxis": {
         "anchor": "x",
         "domain": [
          0.55,
          1
         ]
        },
        "yaxis2": {
         "anchor": "x2",
         "domain": [
          0,
          0.45
         ]
        }
       }
      },
      "text/html": [
       "<div>                            <div id=\"09c8cbcf-23f1-4eb8-b43e-faaf3aaf15e0\" class=\"plotly-graph-div\" style=\"height:1200px; width:100%;\"></div>            <script type=\"text/javascript\">                require([\"plotly\"], function(Plotly) {                    window.PLOTLYENV=window.PLOTLYENV || {};                                    if (document.getElementById(\"09c8cbcf-23f1-4eb8-b43e-faaf3aaf15e0\")) {                    Plotly.newPlot(                        \"09c8cbcf-23f1-4eb8-b43e-faaf3aaf15e0\",                        [{\"hovertemplate\":\"State: %{x}\\u003cbr\\u003eDaily CO2: %{y:.1f} lbs\\u003cextra\\u003e\\u003c\\u002fextra\\u003e\",\"marker\":{\"color\":\"lightblue\"},\"name\":\"Small\",\"x\":[\"KS\",\"CT\",\"MO\",\"UT\",\"VT\",\"AK\",\"ND\",\"PR\",\"WY\",\"OH\",\"IA\",\"WV\",\"NE\",\"HI\",\"NC\",\"FL\",\"MT\",\"SD\",\"TN\",\"MI\",\"MD\",\"NY\",\"OK\",\"MN\",\"PA\",\"IL\",\"IN\",\"TX\",\"DE\",\"NH\",\"NM\",\"AZ\",\"CO\",\"MA\",\"NJ\",\"VA\",\"WI\",\"MS\",\"AR\",\"KY\",\"SC\",\"ME\",\"GA\",\"LA\",\"DC\",\"AL\",\"WA\",\"CA\",\"RI\",\"ID\",\"NV\",\"OR\"],\"y\":[108.80448000000001,106.16496000000001,97.16256,95.72928,93.03552,87.696,86.89824,86.83152,84.13344000000001,83.9376,82.06704,78.37824,77.88816,77.00016000000001,75.28224,71.25456,71.18736,70.33727999999999,69.42864,66.95327999999999,65.57039999999999,65.06208000000001,64.96752000000001,64.65552,64.09920000000001,63.312000000000005,62.328,61.136160000000004,59.468160000000005,57.871680000000005,57.80496,55.543200000000006,55.02048,54.2808,53.96256,53.803200000000004,53.514720000000004,53.18736,52.301759999999994,52.19664,51.80544,44.734080000000006,44.41344,39.52272,39.48768,38.11632,37.54416,35.13744,31.92192,21.419040000000003,20.876160000000002,20.69232],\"type\":\"bar\",\"xaxis\":\"x\",\"yaxis\":\"y\"},{\"hovertemplate\":\"State: %{x}\\u003cbr\\u003eDaily CO2: %{y:.1f} lbs\\u003cextra\\u003e\\u003c\\u002fextra\\u003e\",\"marker\":{\"color\":\"blue\"},\"name\":\"Medium\",\"x\":[\"KS\",\"CT\",\"MO\",\"UT\",\"VT\",\"AK\",\"ND\",\"PR\",\"WY\",\"OH\",\"IA\",\"WV\",\"NE\",\"HI\",\"NC\",\"FL\",\"MT\",\"SD\",\"TN\",\"MI\",\"MD\",\"NY\",\"OK\",\"MN\",\"PA\",\"IL\",\"IN\",\"TX\",\"DE\",\"NH\",\"NM\",\"AZ\",\"CO\",\"MA\",\"NJ\",\"VA\",\"WI\",\"MS\",\"AR\",\"KY\",\"SC\",\"ME\",\"GA\",\"LA\",\"DC\",\"AL\",\"WA\",\"CA\",\"RI\",\"ID\",\"NV\",\"OR\"],\"y\":[326.41344,318.49487999999997,291.48767999999995,287.18783999999994,279.10656,263.08799999999997,260.69472,260.49456,252.40031999999997,251.81279999999998,246.20111999999997,235.13472,233.66448,231.00047999999998,225.84672,213.76368,213.56207999999998,211.01183999999998,208.28592,200.85983999999996,196.7112,195.18624,194.90256,193.96656,192.2976,189.93599999999998,186.98399999999998,183.40848,178.40448,173.61504,173.41487999999998,166.6296,165.06143999999998,162.84239999999997,161.88768,161.4096,160.54416,159.56207999999998,156.90527999999998,156.58992,155.41631999999998,134.20224,133.24032,118.56815999999999,118.46303999999999,114.34895999999999,112.63247999999999,105.41232,95.76575999999999,64.25712,62.628479999999996,62.07695999999999],\"type\":\"bar\",\"xaxis\":\"x\",\"yaxis\":\"y\"},{\"hovertemplate\":\"State: %{x}\\u003cbr\\u003eDaily CO2: %{y:.1f} lbs\\u003cextra\\u003e\\u003c\\u002fextra\\u003e\",\"marker\":{\"color\":\"darkblue\"},\"name\":\"Large\",\"x\":[\"KS\",\"CT\",\"MO\",\"UT\",\"VT\",\"AK\",\"ND\",\"PR\",\"WY\",\"OH\",\"IA\",\"WV\",\"NE\",\"HI\",\"NC\",\"FL\",\"MT\",\"SD\",\"TN\",\"MI\",\"MD\",\"NY\",\"OK\",\"MN\",\"PA\",\"IL\",\"IN\",\"TX\",\"DE\",\"NH\",\"NM\",\"AZ\",\"CO\",\"MA\",\"NJ\",\"VA\",\"WI\",\"MS\",\"AR\",\"KY\",\"SC\",\"ME\",\"GA\",\"LA\",\"DC\",\"AL\",\"WA\",\"CA\",\"RI\",\"ID\",\"NV\",\"OR\"],\"y\":[652.82688,636.9897599999999,582.9753599999999,574.3756799999999,558.21312,526.1759999999999,521.38944,520.98912,504.80063999999993,503.62559999999996,492.40223999999995,470.26944,467.32896,462.00095999999996,451.69344,427.52736,427.12415999999996,422.02367999999996,416.57184,401.7196799999999,393.4224,390.37248,389.80512,387.93312,384.5952,379.87199999999996,373.96799999999996,366.81696,356.80896,347.23008,346.82975999999996,333.2592,330.12287999999995,325.68479999999994,323.77536,322.8192,321.08832,319.12415999999996,313.81055999999995,313.17984,310.83263999999997,268.40448,266.48064,237.13631999999998,236.92607999999998,228.69791999999998,225.26495999999997,210.82464,191.53151999999997,128.51424,125.25695999999999,124.15391999999999],\"type\":\"bar\",\"xaxis\":\"x\",\"yaxis\":\"y\"},{\"hovertemplate\":\"State: %{x}\\u003cbr\\u003eSavings: %{y:.1f} lbs\\u002fday\\u003cextra\\u003e\\u003c\\u002fextra\\u003e\",\"marker\":{\"color\":\"lightblue\"},\"name\":\"Small Savings\",\"x\":[\"KS\",\"CT\",\"MO\",\"UT\",\"VT\",\"AK\",\"ND\",\"PR\",\"WY\",\"OH\",\"IA\",\"WV\",\"NE\",\"HI\",\"NC\",\"FL\",\"MT\",\"SD\",\"TN\",\"MI\",\"MD\",\"NY\",\"OK\",\"MN\",\"PA\",\"IL\",\"IN\",\"TX\",\"DE\",\"NH\",\"NM\",\"AZ\",\"CO\",\"MA\",\"NJ\",\"VA\",\"WI\",\"MS\",\"AR\",\"KY\",\"SC\",\"ME\",\"GA\",\"LA\",\"DC\",\"AL\",\"WA\",\"CA\",\"RI\",\"ID\",\"NV\",\"OR\"],\"y\":[0.0,2.6395200000000045,11.641920000000013,13.07520000000001,15.768960000000007,21.108480000000014,21.90624000000001,21.972960000000015,24.671040000000005,24.86688000000001,26.737440000000007,30.426240000000007,30.916320000000013,31.804320000000004,33.52224000000001,37.549920000000014,37.617120000000014,38.46720000000002,39.37584000000001,41.85120000000002,43.23408000000002,43.7424,43.836960000000005,44.14896000000002,44.70528,45.49248000000001,46.47648000000001,47.66832000000001,49.33632000000001,50.93280000000001,50.99952000000001,53.261280000000006,53.78400000000001,54.52368000000001,54.84192000000001,55.00128000000001,55.28976000000001,55.617120000000014,56.50272000000002,56.60784000000001,56.999040000000015,64.0704,64.39104,69.28176000000002,69.31680000000001,70.68816000000001,71.26032000000001,73.66704000000001,76.88256000000001,87.38544000000002,87.92832000000001,88.11216000000002],\"type\":\"bar\",\"xaxis\":\"x2\",\"yaxis\":\"y2\"},{\"hovertemplate\":\"State: %{x}\\u003cbr\\u003eSavings: %{y:.1f} lbs\\u002fday\\u003cextra\\u003e\\u003c\\u002fextra\\u003e\",\"marker\":{\"color\":\"blue\"},\"name\":\"Medium Savings\",\"x\":[\"KS\",\"CT\",\"MO\",\"UT\",\"VT\",\"AK\",\"ND\",\"PR\",\"WY\",\"OH\",\"IA\",\"WV\",\"NE\",\"HI\",\"NC\",\"FL\",\"MT\",\"SD\",\"TN\",\"MI\",\"MD\",\"NY\",\"OK\",\"MN\",\"PA\",\"IL\",\"IN\",\"TX\",\"DE\",\"NH\",\"NM\",\"AZ\",\"CO\",\"MA\",\"NJ\",\"VA\",\"WI\",\"MS\",\"AR\",\"KY\",\"SC\",\"ME\",\"GA\",\"LA\",\"DC\",\"AL\",\"WA\",\"CA\",\"RI\",\"ID\",\"NV\",\"OR\"],\"y\":[0.0,7.918560000000014,34.925760000000025,39.22560000000004,47.30687999999998,63.325440000000015,65.71871999999996,65.91888,74.01312000000001,74.60064,80.21232,91.27871999999999,92.74895999999998,95.41296,100.56671999999998,112.64975999999999,112.85136,115.4016,118.12751999999998,125.55360000000002,129.70224,131.22719999999998,131.51088,132.44688,134.11584,136.47744,139.42944,143.00495999999998,148.00895999999997,152.7984,152.99856,159.78383999999997,161.352,163.57104,164.52576,165.00383999999997,165.86927999999997,166.85136,169.50816,169.82351999999997,170.99712,192.2112,193.17311999999998,207.84528,207.9504,212.06448,213.78096,221.00112,230.64767999999998,262.15632,263.78495999999996,264.33648],\"type\":\"bar\",\"xaxis\":\"x2\",\"yaxis\":\"y2\"},{\"hovertemplate\":\"State: %{x}\\u003cbr\\u003eSavings: %{y:.1f} lbs\\u002fday\\u003cextra\\u003e\\u003c\\u002fextra\\u003e\",\"marker\":{\"color\":\"darkblue\"},\"name\":\"Large Savings\",\"x\":[\"KS\",\"CT\",\"MO\",\"UT\",\"VT\",\"AK\",\"ND\",\"PR\",\"WY\",\"OH\",\"IA\",\"WV\",\"NE\",\"HI\",\"NC\",\"FL\",\"MT\",\"SD\",\"TN\",\"MI\",\"MD\",\"NY\",\"OK\",\"MN\",\"PA\",\"IL\",\"IN\",\"TX\",\"DE\",\"NH\",\"NM\",\"AZ\",\"CO\",\"MA\",\"NJ\",\"VA\",\"WI\",\"MS\",\"AR\",\"KY\",\"SC\",\"ME\",\"GA\",\"LA\",\"DC\",\"AL\",\"WA\",\"CA\",\"RI\",\"ID\",\"NV\",\"OR\"],\"y\":[0.0,15.837120000000027,69.85152000000005,78.45120000000009,94.61375999999996,126.65088000000003,131.43743999999992,131.83776,148.02624000000003,149.20128,160.42464,182.55743999999999,185.49791999999997,190.82592,201.13343999999995,225.29951999999997,225.70272,230.8032,236.25503999999995,251.10720000000003,259.40448,262.45439999999996,263.02176,264.89376,268.23168,272.95488,278.85888,286.00991999999997,296.01791999999995,305.5968,305.99712,319.56767999999994,322.704,327.14208,329.05152,330.00767999999994,331.73855999999995,333.70272,339.01632,339.64703999999995,341.99424,384.4224,386.34623999999997,415.69056,415.9008,424.12896,427.56192,442.00224,461.29535999999996,524.31264,527.5699199999999,528.67296],\"type\":\"bar\",\"xaxis\":\"x2\",\"yaxis\":\"y2\"}],                        {\"template\":{\"data\":{\"histogram2dcontour\":[{\"type\":\"histogram2dcontour\",\"colorbar\":{\"outlinewidth\":0,\"ticks\":\"\"},\"colorscale\":[[0.0,\"#0d0887\"],[0.1111111111111111,\"#46039f\"],[0.2222222222222222,\"#7201a8\"],[0.3333333333333333,\"#9c179e\"],[0.4444444444444444,\"#bd3786\"],[0.5555555555555556,\"#d8576b\"],[0.6666666666666666,\"#ed7953\"],[0.7777777777777778,\"#fb9f3a\"],[0.8888888888888888,\"#fdca26\"],[1.0,\"#f0f921\"]]}],\"choropleth\":[{\"type\":\"choropleth\",\"colorbar\":{\"outlinewidth\":0,\"ticks\":\"\"}}],\"histogram2d\":[{\"type\":\"histogram2d\",\"colorbar\":{\"outlinewidth\":0,\"ticks\":\"\"},\"colorscale\":[[0.0,\"#0d0887\"],[0.1111111111111111,\"#46039f\"],[0.2222222222222222,\"#7201a8\"],[0.3333333333333333,\"#9c179e\"],[0.4444444444444444,\"#bd3786\"],[0.5555555555555556,\"#d8576b\"],[0.6666666666666666,\"#ed7953\"],[0.7777777777777778,\"#fb9f3a\"],[0.8888888888888888,\"#fdca26\"],[1.0,\"#f0f921\"]]}],\"heatmap\":[{\"type\":\"heatmap\",\"colorbar\":{\"outlinewidth\":0,\"ticks\":\"\"},\"colorscale\":[[0.0,\"#0d0887\"],[0.1111111111111111,\"#46039f\"],[0.2222222222222222,\"#7201a8\"],[0.3333333333333333,\"#9c179e\"],[0.4444444444444444,\"#bd3786\"],[0.5555555555555556,\"#d8576b\"],[0.6666666666666666,\"#ed7953\"],[0.7777777777777778,\"#fb9f3a\"],[0.8888888888888888,\"#fdca26\"],[1.0,\"#f0f921\"]]}],\"heatmapgl\":[{\"type\":\"heatmapgl\",\"colorbar\":{\"outlinewidth\":0,\"ticks\":\"\"},\"colorscale\":[[0.0,\"#0d0887\"],[0.1111111111111111,\"#46039f\"],[0.2222222222222222,\"#7201a8\"],[0.3333333333333333,\"#9c179e\"],[0.4444444444444444,\"#bd3786\"],[0.5555555555555556,\"#d8576b\"],[0.6666666666666666,\"#ed7953\"],[0.7777777777777778,\"#fb9f3a\"],[0.8888888888888888,\"#fdca26\"],[1.0,\"#f0f921\"]]}],\"contourcarpet\":[{\"type\":\"contourcarpet\",\"colorbar\":{\"outlinewidth\":0,\"ticks\":\"\"}}],\"contour\":[{\"type\":\"contour\",\"colorbar\":{\"outlinewidth\":0,\"ticks\":\"\"},\"colorscale\":[[0.0,\"#0d0887\"],[0.1111111111111111,\"#46039f\"],[0.2222222222222222,\"#7201a8\"],[0.3333333333333333,\"#9c179e\"],[0.4444444444444444,\"#bd3786\"],[0.5555555555555556,\"#d8576b\"],[0.6666666666666666,\"#ed7953\"],[0.7777777777777778,\"#fb9f3a\"],[0.8888888888888888,\"#fdca26\"],[1.0,\"#f0f921\"]]}],\"surface\":[{\"type\":\"surface\",\"colorbar\":{\"outlinewidth\":0,\"ticks\":\"\"},\"colorscale\":[[0.0,\"#0d0887\"],[0.1111111111111111,\"#46039f\"],[0.2222222222222222,\"#7201a8\"],[0.3333333333333333,\"#9c179e\"],[0.4444444444444444,\"#bd3786\"],[0.5555555555555556,\"#d8576b\"],[0.6666666666666666,\"#ed7953\"],[0.7777777777777778,\"#fb9f3a\"],[0.8888888888888888,\"#fdca26\"],[1.0,\"#f0f921\"]]}],\"mesh3d\":[{\"type\":\"mesh3d\",\"colorbar\":{\"outlinewidth\":0,\"ticks\":\"\"}}],\"scatter\":[{\"fillpattern\":{\"fillmode\":\"overlay\",\"size\":10,\"solidity\":0.2},\"type\":\"scatter\"}],\"parcoords\":[{\"type\":\"parcoords\",\"line\":{\"colorbar\":{\"outlinewidth\":0,\"ticks\":\"\"}}}],\"scatterpolargl\":[{\"type\":\"scatterpolargl\",\"marker\":{\"colorbar\":{\"outlinewidth\":0,\"ticks\":\"\"}}}],\"bar\":[{\"error_x\":{\"color\":\"#2a3f5f\"},\"error_y\":{\"color\":\"#2a3f5f\"},\"marker\":{\"line\":{\"color\":\"#E5ECF6\",\"width\":0.5},\"pattern\":{\"fillmode\":\"overlay\",\"size\":10,\"solidity\":0.2}},\"type\":\"bar\"}],\"scattergeo\":[{\"type\":\"scattergeo\",\"marker\":{\"colorbar\":{\"outlinewidth\":0,\"ticks\":\"\"}}}],\"scatterpolar\":[{\"type\":\"scatterpolar\",\"marker\":{\"colorbar\":{\"outlinewidth\":0,\"ticks\":\"\"}}}],\"histogram\":[{\"marker\":{\"pattern\":{\"fillmode\":\"overlay\",\"size\":10,\"solidity\":0.2}},\"type\":\"histogram\"}],\"scattergl\":[{\"type\":\"scattergl\",\"marker\":{\"colorbar\":{\"outlinewidth\":0,\"ticks\":\"\"}}}],\"scatter3d\":[{\"type\":\"scatter3d\",\"line\":{\"colorbar\":{\"outlinewidth\":0,\"ticks\":\"\"}},\"marker\":{\"colorbar\":{\"outlinewidth\":0,\"ticks\":\"\"}}}],\"scattermapbox\":[{\"type\":\"scattermapbox\",\"marker\":{\"colorbar\":{\"outlinewidth\":0,\"ticks\":\"\"}}}],\"scatterternary\":[{\"type\":\"scatterternary\",\"marker\":{\"colorbar\":{\"outlinewidth\":0,\"ticks\":\"\"}}}],\"scattercarpet\":[{\"type\":\"scattercarpet\",\"marker\":{\"colorbar\":{\"outlinewidth\":0,\"ticks\":\"\"}}}],\"carpet\":[{\"aaxis\":{\"endlinecolor\":\"#2a3f5f\",\"gridcolor\":\"white\",\"linecolor\":\"white\",\"minorgridcolor\":\"white\",\"startlinecolor\":\"#2a3f5f\"},\"baxis\":{\"endlinecolor\":\"#2a3f5f\",\"gridcolor\":\"white\",\"linecolor\":\"white\",\"minorgridcolor\":\"white\",\"startlinecolor\":\"#2a3f5f\"},\"type\":\"carpet\"}],\"table\":[{\"cells\":{\"fill\":{\"color\":\"#EBF0F8\"},\"line\":{\"color\":\"white\"}},\"header\":{\"fill\":{\"color\":\"#C8D4E3\"},\"line\":{\"color\":\"white\"}},\"type\":\"table\"}],\"barpolar\":[{\"marker\":{\"line\":{\"color\":\"#E5ECF6\",\"width\":0.5},\"pattern\":{\"fillmode\":\"overlay\",\"size\":10,\"solidity\":0.2}},\"type\":\"barpolar\"}],\"pie\":[{\"automargin\":true,\"type\":\"pie\"}]},\"layout\":{\"autotypenumbers\":\"strict\",\"colorway\":[\"#636efa\",\"#EF553B\",\"#00cc96\",\"#ab63fa\",\"#FFA15A\",\"#19d3f3\",\"#FF6692\",\"#B6E880\",\"#FF97FF\",\"#FECB52\"],\"font\":{\"color\":\"#2a3f5f\"},\"hovermode\":\"closest\",\"hoverlabel\":{\"align\":\"left\"},\"paper_bgcolor\":\"white\",\"plot_bgcolor\":\"#E5ECF6\",\"polar\":{\"bgcolor\":\"#E5ECF6\",\"angularaxis\":{\"gridcolor\":\"white\",\"linecolor\":\"white\",\"ticks\":\"\"},\"radialaxis\":{\"gridcolor\":\"white\",\"linecolor\":\"white\",\"ticks\":\"\"}},\"ternary\":{\"bgcolor\":\"#E5ECF6\",\"aaxis\":{\"gridcolor\":\"white\",\"linecolor\":\"white\",\"ticks\":\"\"},\"baxis\":{\"gridcolor\":\"white\",\"linecolor\":\"white\",\"ticks\":\"\"},\"caxis\":{\"gridcolor\":\"white\",\"linecolor\":\"white\",\"ticks\":\"\"}},\"coloraxis\":{\"colorbar\":{\"outlinewidth\":0,\"ticks\":\"\"}},\"colorscale\":{\"sequential\":[[0.0,\"#0d0887\"],[0.1111111111111111,\"#46039f\"],[0.2222222222222222,\"#7201a8\"],[0.3333333333333333,\"#9c179e\"],[0.4444444444444444,\"#bd3786\"],[0.5555555555555556,\"#d8576b\"],[0.6666666666666666,\"#ed7953\"],[0.7777777777777778,\"#fb9f3a\"],[0.8888888888888888,\"#fdca26\"],[1.0,\"#f0f921\"]],\"sequentialminus\":[[0.0,\"#0d0887\"],[0.1111111111111111,\"#46039f\"],[0.2222222222222222,\"#7201a8\"],[0.3333333333333333,\"#9c179e\"],[0.4444444444444444,\"#bd3786\"],[0.5555555555555556,\"#d8576b\"],[0.6666666666666666,\"#ed7953\"],[0.7777777777777778,\"#fb9f3a\"],[0.8888888888888888,\"#fdca26\"],[1.0,\"#f0f921\"]],\"diverging\":[[0,\"#8e0152\"],[0.1,\"#c51b7d\"],[0.2,\"#de77ae\"],[0.3,\"#f1b6da\"],[0.4,\"#fde0ef\"],[0.5,\"#f7f7f7\"],[0.6,\"#e6f5d0\"],[0.7,\"#b8e186\"],[0.8,\"#7fbc41\"],[0.9,\"#4d9221\"],[1,\"#276419\"]]},\"xaxis\":{\"gridcolor\":\"white\",\"linecolor\":\"white\",\"ticks\":\"\",\"title\":{\"standoff\":15},\"zerolinecolor\":\"white\",\"automargin\":true,\"zerolinewidth\":2},\"yaxis\":{\"gridcolor\":\"white\",\"linecolor\":\"white\",\"ticks\":\"\",\"title\":{\"standoff\":15},\"zerolinecolor\":\"white\",\"automargin\":true,\"zerolinewidth\":2},\"scene\":{\"xaxis\":{\"backgroundcolor\":\"#E5ECF6\",\"gridcolor\":\"white\",\"linecolor\":\"white\",\"showbackground\":true,\"ticks\":\"\",\"zerolinecolor\":\"white\",\"gridwidth\":2},\"yaxis\":{\"backgroundcolor\":\"#E5ECF6\",\"gridcolor\":\"white\",\"linecolor\":\"white\",\"showbackground\":true,\"ticks\":\"\",\"zerolinecolor\":\"white\",\"gridwidth\":2},\"zaxis\":{\"backgroundcolor\":\"#E5ECF6\",\"gridcolor\":\"white\",\"linecolor\":\"white\",\"showbackground\":true,\"ticks\":\"\",\"zerolinecolor\":\"white\",\"gridwidth\":2}},\"shapedefaults\":{\"line\":{\"color\":\"#2a3f5f\"}},\"annotationdefaults\":{\"arrowcolor\":\"#2a3f5f\",\"arrowhead\":0,\"arrowwidth\":1},\"geo\":{\"bgcolor\":\"white\",\"landcolor\":\"#E5ECF6\",\"subunitcolor\":\"white\",\"showland\":true,\"showlakes\":true,\"lakecolor\":\"white\"},\"title\":{\"x\":0.05},\"mapbox\":{\"style\":\"light\"}}},\"xaxis\":{\"anchor\":\"y\",\"domain\":[0.0,1.0],\"tickangle\":45},\"yaxis\":{\"anchor\":\"x\",\"domain\":[0.55,1.0]},\"xaxis2\":{\"anchor\":\"y2\",\"domain\":[0.0,1.0],\"tickangle\":45},\"yaxis2\":{\"anchor\":\"x2\",\"domain\":[0.0,0.45]},\"annotations\":[{\"font\":{\"size\":16},\"showarrow\":false,\"text\":\"Daily CO2 Impact by System Size and Location\",\"x\":0.5,\"xanchor\":\"center\",\"xref\":\"paper\",\"y\":1.0,\"yanchor\":\"bottom\",\"yref\":\"paper\"},{\"font\":{\"size\":16},\"showarrow\":false,\"text\":\"Potential CO2 Savings vs Highest Emission State\",\"x\":0.5,\"xanchor\":\"center\",\"xref\":\"paper\",\"y\":0.45,\"yanchor\":\"bottom\",\"yref\":\"paper\"}],\"title\":{\"text\":\"Geographic Impact Analysis of ML Systems\",\"x\":0.5},\"height\":1200,\"showlegend\":true,\"barmode\":\"group\"},                        {\"responsive\": true}                    ).then(function(){\n",
       "                            \n",
       "var gd = document.getElementById('09c8cbcf-23f1-4eb8-b43e-faaf3aaf15e0');\n",
       "var x = new MutationObserver(function (mutations, observer) {{\n",
       "        var display = window.getComputedStyle(gd).display;\n",
       "        if (!display || display === 'none') {{\n",
       "            console.log([gd, 'removed!']);\n",
       "            Plotly.purge(gd);\n",
       "            observer.disconnect();\n",
       "        }}\n",
       "}});\n",
       "\n",
       "// Listen for the removal of the full notebook cells\n",
       "var notebookContainer = gd.closest('#notebook-container');\n",
       "if (notebookContainer) {{\n",
       "    x.observe(notebookContainer, {childList: true});\n",
       "}}\n",
       "\n",
       "// Listen for the clearing of the current output cell\n",
       "var outputEl = gd.closest('.output');\n",
       "if (outputEl) {{\n",
       "    x.observe(outputEl, {childList: true});\n",
       "}}\n",
       "\n",
       "                        })                };                });            </script>        </div>"
      ]
     },
     "metadata": {},
     "output_type": "display_data"
    },
    {
     "name": "stdout",
     "output_type": "stream",
     "text": [
      "\n",
      "Saving visualizations...\n",
      "\n",
      "Generating summary statistics...\n",
      "\n",
      "Geographic Impact Summary:\n",
      "                                Metric          Value\n",
      "               Highest Emissions State             KS\n",
      "                Lowest Emissions State             OR\n",
      "             Emissions Rate Difference 1835.67 lb/MWh\n",
      "Potential Daily Savings (Large System) 528.67 lbs/day\n",
      "         States Above National Average             26\n",
      "         States Below National Average             26\n",
      "\n",
      "Top 5 States by Emissions Rate (lb/MWh):\n",
      "                          emissions_rate\n",
      "Plant state abbreviation                \n",
      "KS                               2266.76\n",
      "CT                               2211.77\n",
      "MO                               2024.22\n",
      "UT                               1994.36\n",
      "VT                               1938.24\n",
      "\n",
      "Bottom 5 States by Emissions Rate (lb/MWh):\n",
      "                          emissions_rate\n",
      "Plant state abbreviation                \n",
      "OR                                431.09\n",
      "NV                                434.92\n",
      "ID                                446.23\n",
      "RI                                665.04\n",
      "CA                                732.03\n"
     ]
    }
   ],
   "source": [
    "import geopandas as gpd\n",
    "import plotly.express as px\n",
    "import plotly.graph_objects as go\n",
    "from plotly.subplots import make_subplots\n",
    "import json\n",
    "import requests\n",
    "\n",
    "# Create images directory if it doesn't exist\n",
    "import os\n",
    "images_dir = '../images/analysis'\n",
    "os.makedirs(images_dir, exist_ok=True)\n",
    "\n",
    "def analyze_geographic_impact(state_stats, emissions_col):\n",
    "    \"\"\"Analyze and visualize geographic impact of ML systems\"\"\"\n",
    "    print(\"Starting geographic impact analysis...\")\n",
    "    \n",
    "    # Prepare emissions data\n",
    "    state_impacts = pd.DataFrame(state_stats[emissions_col]['mean'])\n",
    "    state_impacts.columns = ['emissions_rate']\n",
    "    state_impacts['state'] = state_impacts.index\n",
    "    \n",
    "    print(\"\\nCreating choropleth map...\")\n",
    "    \n",
    "    # Create choropleth map using Plotly Express\n",
    "    fig1 = px.choropleth(\n",
    "        state_impacts,\n",
    "        locations='state',\n",
    "        locationmode='USA-states',\n",
    "        color='emissions_rate',\n",
    "        scope='usa',\n",
    "        color_continuous_scale='Viridis',\n",
    "        title='CO2 Emissions Rate by State (lb/MWh)',\n",
    "        labels={'emissions_rate': 'CO2 Emissions Rate (lb/MWh)'}\n",
    "    )\n",
    "    \n",
    "    # Customize layout\n",
    "    fig1.update_layout(\n",
    "        title_x=0.5,\n",
    "        geo=dict(\n",
    "            showlakes=True,\n",
    "            lakecolor='rgb(255, 255, 255)'\n",
    "        ),\n",
    "        width=1000,\n",
    "        height=600\n",
    "    )\n",
    "    \n",
    "    # Display first figure\n",
    "    fig1.show()\n",
    "    \n",
    "    print(\"Map created and displayed. Calculating system impacts...\")\n",
    "    \n",
    "    # Calculate impact for different system sizes\n",
    "    system_sizes = {\n",
    "        'Small': 2000,    # 2kW system\n",
    "        'Medium': 6000,   # 6kW system\n",
    "        'Large': 12000    # 12kW system\n",
    "    }\n",
    "    \n",
    "    impact_comparison = pd.DataFrame()\n",
    "    for size, power in system_sizes.items():\n",
    "        daily_mwh = (power * 24) / 1_000_000\n",
    "        impact_comparison[f'{size}_System_CO2'] = state_impacts['emissions_rate'] * daily_mwh\n",
    "    \n",
    "    print(\"\\nCreating impact comparison visualization...\")\n",
    "    \n",
    "    # Create impact visualization\n",
    "    fig2 = make_subplots(\n",
    "        rows=2, cols=1,\n",
    "        subplot_titles=(\n",
    "            'Daily CO2 Impact by System Size and Location',\n",
    "            'Potential CO2 Savings vs Highest Emission State'\n",
    "        ),\n",
    "        vertical_spacing=0.1\n",
    "    )\n",
    "    \n",
    "    # Color scheme for different system sizes\n",
    "    colors = {'Small': 'lightblue', 'Medium': 'blue', 'Large': 'darkblue'}\n",
    "    \n",
    "    # Add impact bars\n",
    "    for size in system_sizes.keys():\n",
    "        fig2.add_trace(\n",
    "            go.Bar(\n",
    "                name=size,\n",
    "                x=impact_comparison.index,\n",
    "                y=impact_comparison[f'{size}_System_CO2'],\n",
    "                marker_color=colors[size],\n",
    "                hovertemplate=\"State: %{x}<br>Daily CO2: %{y:.1f} lbs<extra></extra>\"\n",
    "            ),\n",
    "            row=1, col=1\n",
    "        )\n",
    "    \n",
    "    # Add savings potential\n",
    "    for size in system_sizes.keys():\n",
    "        max_impact = impact_comparison[f'{size}_System_CO2'].max()\n",
    "        savings = max_impact - impact_comparison[f'{size}_System_CO2']\n",
    "        fig2.add_trace(\n",
    "            go.Bar(\n",
    "                name=f'{size} Savings',\n",
    "                x=impact_comparison.index,\n",
    "                y=savings,\n",
    "                marker_color=colors[size],\n",
    "                hovertemplate=\"State: %{x}<br>Savings: %{y:.1f} lbs/day<extra></extra>\"\n",
    "            ),\n",
    "            row=2, col=1\n",
    "        )\n",
    "    \n",
    "    # Update layout\n",
    "    fig2.update_layout(\n",
    "        height=1200,\n",
    "        showlegend=True,\n",
    "        title_text=\"Geographic Impact Analysis of ML Systems\",\n",
    "        title_x=0.5,\n",
    "        barmode='group'\n",
    "    )\n",
    "    \n",
    "    # Update axes\n",
    "    fig2.update_xaxes(tickangle=45)\n",
    "    \n",
    "    # Display second figure\n",
    "    fig2.show()\n",
    "    \n",
    "    print(\"\\nSaving visualizations...\")\n",
    "    # Save the figures\n",
    "    fig1.write_html(os.path.join(images_dir, 'emissions_map.html'))\n",
    "    fig2.write_html(os.path.join(images_dir, 'geographic_impact.html'))\n",
    "    \n",
    "    print(\"\\nGenerating summary statistics...\")\n",
    "    # Additional summary statistics\n",
    "    summary_stats = pd.DataFrame({\n",
    "        'Metric': [\n",
    "            'Highest Emissions State',\n",
    "            'Lowest Emissions State',\n",
    "            'Emissions Rate Difference',\n",
    "            'Potential Daily Savings (Large System)',\n",
    "            'States Above National Average',\n",
    "            'States Below National Average'\n",
    "        ],\n",
    "        'Value': [\n",
    "            state_impacts['emissions_rate'].idxmax(),\n",
    "            state_impacts['emissions_rate'].idxmin(),\n",
    "            f\"{state_impacts['emissions_rate'].max() - state_impacts['emissions_rate'].min():.2f} lb/MWh\",\n",
    "            f\"{savings.max():.2f} lbs/day\",\n",
    "            sum(state_impacts['emissions_rate'] > state_impacts['emissions_rate'].mean()),\n",
    "            sum(state_impacts['emissions_rate'] < state_impacts['emissions_rate'].mean())\n",
    "        ]\n",
    "    })\n",
    "    \n",
    "    print(\"\\nGeographic Impact Summary:\")\n",
    "    print(summary_stats.to_string(index=False))\n",
    "    \n",
    "    # Save results\n",
    "    impact_comparison.to_csv(os.path.join(images_dir, 'geographic_impact.csv'))\n",
    "    summary_stats.to_csv(os.path.join(images_dir, 'geographic_summary.csv'))\n",
    "    \n",
    "    # Print top 5 and bottom 5 states by emissions\n",
    "    print(\"\\nTop 5 States by Emissions Rate (lb/MWh):\")\n",
    "    print(state_impacts.nlargest(5, 'emissions_rate')[['emissions_rate']].round(2))\n",
    "    \n",
    "    print(\"\\nBottom 5 States by Emissions Rate (lb/MWh):\")\n",
    "    print(state_impacts.nsmallest(5, 'emissions_rate')[['emissions_rate']].round(2))\n",
    "    \n",
    "    return impact_comparison, summary_stats, fig1, fig2\n",
    "\n",
    "# Run geographic analysis\n",
    "impact_comparison, summary_stats, fig1, fig2 = analyze_geographic_impact(state_stats, emissions_col)"
   ]
  },
  {
   "cell_type": "markdown",
   "metadata": {},
   "source": [
    "## Model Size Analysis\n",
    "We investigate the relationship between model size and environmental impact, examining:\n",
    "- Power efficiency per billion parameters\n",
    "- Scaling characteristics of different accelerator types\n",
    "- Trade-offs between model size and environmental impact"
   ]
  },
  {
   "cell_type": "code",
   "execution_count": 21,
   "metadata": {},
   "outputs": [],
   "source": [
    "def estimate_model_parameters(row):\n",
    "    \"\"\"\n",
    "    Estimate model parameters based on accelerator type and system configuration\n",
    "    \"\"\"\n",
    "    if pd.isna(row['Accelerator']):\n",
    "        return 0.0\n",
    "\n",
    "    acc_type = str(row['Accelerator'])\n",
    "    acc_count = float(row['# of Accelerators']) if pd.notna(row['# of Accelerators']) else 1.0\n",
    "    \n",
    "    # Base parameters for different accelerator types\n",
    "    params_dict = {\n",
    "        'H100-SXM': 175e9,     # ~175B params for H100\n",
    "        'H200-SXM': 200e9,     # ~200B for H200\n",
    "        'H100-PCIe': 70e9,     # Lower for PCIe variant\n",
    "        'L40S': 20e9,          # Smaller models\n",
    "        'GH200': 150e9,        # Grace Hopper\n",
    "        'MI300X': 100e9,       # AMD MI300X\n",
    "        'TPU': 50e9            # TPU models\n",
    "    }\n",
    "    \n",
    "    # Find matching accelerator type\n",
    "    base_params = 0.0\n",
    "    for acc_key, params in params_dict.items():\n",
    "        if acc_key in acc_type:\n",
    "            base_params = params\n",
    "            break\n",
    "    \n",
    "    # Scale by number of accelerators (assuming near-linear scaling)\n",
    "    total_params = base_params * acc_count\n",
    "    return total_params\n",
    "\n",
    "# Add parameter estimates to the dataframe\n",
    "mlperf_df['estimated_params'] = mlperf_df.apply(estimate_model_parameters, axis=1)\n",
    "mlperf_df['params_billions'] = mlperf_df['estimated_params'] / 1e9"
   ]
  },
  {
   "cell_type": "code",
   "execution_count": 22,
   "metadata": {},
   "outputs": [
    {
     "name": "stdout",
     "output_type": "stream",
     "text": [
      "Analyzing model size impact...\n"
     ]
    },
    {
     "data": {
      "application/vnd.plotly.v1+json": {
       "config": {
        "plotlyServerURL": "https://plotly.com"
       },
       "data": [
        {
         "hovertemplate": "Model Size: %{x:.1f}B params<br>Power/Param: %{y:.2f} W/B<br>Total Power: %{marker.size:.0f}W<br><extra></extra>",
         "marker": {
          "size": [
           3.6,
           3.6,
           3.6,
           3.6,
           3.6,
           3.6,
           3.6,
           3.6,
           2,
           2,
           2,
           2
          ],
          "sizemode": "area",
          "sizeref": 1.272
         },
         "mode": "markers",
         "name": "AMD Instinct MI300X-NPS1-SPX-192GB-750W",
         "type": "scatter",
         "x": [
          100,
          100,
          100,
          100,
          800,
          800,
          800,
          800,
          800,
          800,
          800,
          800
         ],
         "xaxis": "x",
         "y": [
          51.42857142857143,
          51.42857142857143,
          51.42857142857143,
          51.42857142857143,
          6.428571428571429,
          6.428571428571429,
          6.428571428571429,
          6.428571428571429,
          3.5714285714285716,
          3.5714285714285716,
          3.5714285714285716,
          3.5714285714285716
         ],
         "yaxis": "y"
        },
        {
         "hovertemplate": "Model Size: %{x:.1f}B params<br>CO2/Param: %{y:.2f} lbs/B/day<br>Daily CO2: %{marker.size:.0f}lbs<br><extra></extra>",
         "marker": {
          "size": [
           0.39169612800000003,
           0.39169612800000003,
           0.39169612800000003,
           0.39169612800000003,
           0.39169612800000003,
           0.39169612800000003,
           0.39169612800000003,
           0.39169612800000003,
           0.21760896,
           0.21760896,
           0.21760896,
           0.21760896
          ],
          "sizemode": "area",
          "sizeref": 0.06919964928000001
         },
         "mode": "markers",
         "name": "AMD Instinct MI300X-NPS1-SPX-192GB-750W",
         "showlegend": false,
         "type": "scatter",
         "x": [
          100,
          100,
          100,
          100,
          800,
          800,
          800,
          800,
          800,
          800,
          800,
          800
         ],
         "xaxis": "x2",
         "y": [
          0.19584806400000002,
          0.19584806400000002,
          0.19584806400000002,
          0.19584806400000002,
          0.024481008000000002,
          0.024481008000000002,
          0.024481008000000002,
          0.024481008000000002,
          0.01360056,
          0.01360056,
          0.01360056,
          0.01360056
         ],
         "yaxis": "y2"
        },
        {
         "hovertemplate": "Model Size: %{x:.1f}B params<br>Power/Param: %{y:.2f} W/B<br>Total Power: %{marker.size:.0f}W<br><extra></extra>",
         "marker": {
          "size": [
           22.8,
           22.8,
           22.8,
           22.8,
           22.8,
           22.8,
           22.8,
           22.8,
           22.8,
           22.8,
           22.8,
           22.8,
           22.8,
           22.8,
           22.8,
           22.8,
           22.8,
           22.8,
           22.8,
           22.8,
           22.8,
           22.8,
           22.8,
           22.8,
           24,
           24,
           24,
           24,
           24,
           24,
           24,
           24,
           24,
           24,
           24,
           24,
           24,
           24,
           24,
           24,
           24,
           24,
           19.6,
           19.6,
           19.6,
           19.6,
           19.6,
           19.6,
           19.6,
           19.6,
           19.6,
           19.6,
           19.6,
           19.6,
           19.6,
           19.6,
           19.6,
           19.6,
           38.2,
           38.2,
           38.2,
           38.2,
           38.2,
           38.2,
           38.2,
           38.2,
           38.2,
           38.2,
           38.2,
           38.2,
           38.2,
           38.2,
           38.2,
           38.2
          ],
          "sizemode": "area",
          "sizeref": 1.272
         },
         "mode": "markers",
         "name": "NVIDIA H100-NVL-94GB",
         "type": "scatter",
         "x": [
          0,
          0,
          0,
          0,
          0,
          0,
          0,
          0,
          0,
          0,
          0,
          0,
          0,
          0,
          0,
          0,
          0,
          0,
          0,
          0,
          0,
          0,
          0,
          0,
          0,
          0,
          0,
          0,
          0,
          0,
          0,
          0,
          0,
          0,
          0,
          0,
          0,
          0,
          0,
          0,
          0,
          0,
          0,
          0,
          0,
          0,
          0,
          0,
          0,
          0,
          0,
          0,
          0,
          0,
          0,
          0,
          0,
          0,
          0,
          0,
          0,
          0,
          0,
          0,
          0,
          0,
          0,
          0,
          0,
          0,
          0,
          0,
          0,
          0
         ],
         "xaxis": "x",
         "y": [
          3.257142857142857,
          3.257142857142857,
          3.257142857142857,
          3.257142857142857,
          3.257142857142857,
          3.257142857142857,
          3.257142857142857,
          3.257142857142857,
          3.257142857142857,
          3.257142857142857,
          3.257142857142857,
          3.257142857142857,
          3.257142857142857,
          3.257142857142857,
          3.257142857142857,
          3.257142857142857,
          3.257142857142857,
          3.257142857142857,
          3.257142857142857,
          3.257142857142857,
          3.257142857142857,
          3.257142857142857,
          3.257142857142857,
          3.257142857142857,
          3.4285714285714284,
          3.4285714285714284,
          3.4285714285714284,
          3.4285714285714284,
          3.4285714285714284,
          3.4285714285714284,
          3.4285714285714284,
          3.4285714285714284,
          3.4285714285714284,
          3.4285714285714284,
          3.4285714285714284,
          3.4285714285714284,
          3.4285714285714284,
          3.4285714285714284,
          3.4285714285714284,
          3.4285714285714284,
          3.4285714285714284,
          3.4285714285714284,
          2.8,
          2.8,
          2.8,
          2.8,
          2.8,
          2.8,
          2.8,
          2.8,
          2.8,
          2.8,
          2.8,
          2.8,
          2.8,
          2.8,
          2.8,
          2.8,
          2.7285714285714286,
          2.7285714285714286,
          2.7285714285714286,
          2.7285714285714286,
          2.7285714285714286,
          2.7285714285714286,
          2.7285714285714286,
          2.7285714285714286,
          2.7285714285714286,
          2.7285714285714286,
          2.7285714285714286,
          2.7285714285714286,
          2.7285714285714286,
          2.7285714285714286,
          2.7285714285714286,
          2.7285714285714286
         ],
         "yaxis": "y"
        },
        {
         "hovertemplate": "Model Size: %{x:.1f}B params<br>CO2/Param: %{y:.2f} lbs/B/day<br>Daily CO2: %{marker.size:.0f}lbs<br><extra></extra>",
         "marker": {
          "size": [
           2.480742144,
           2.480742144,
           2.480742144,
           2.480742144,
           2.480742144,
           2.480742144,
           2.480742144,
           2.480742144,
           2.480742144,
           2.480742144,
           2.480742144,
           2.480742144,
           2.480742144,
           2.480742144,
           2.480742144,
           2.480742144,
           2.480742144,
           2.480742144,
           2.480742144,
           2.480742144,
           2.480742144,
           2.480742144,
           2.480742144,
           2.480742144,
           2.6113075200000004,
           2.6113075200000004,
           2.6113075200000004,
           2.6113075200000004,
           2.6113075200000004,
           2.6113075200000004,
           2.6113075200000004,
           2.6113075200000004,
           2.6113075200000004,
           2.6113075200000004,
           2.6113075200000004,
           2.6113075200000004,
           2.6113075200000004,
           2.6113075200000004,
           2.6113075200000004,
           2.6113075200000004,
           2.6113075200000004,
           2.6113075200000004,
           2.132567808,
           2.132567808,
           2.132567808,
           2.132567808,
           2.132567808,
           2.132567808,
           2.132567808,
           2.132567808,
           2.132567808,
           2.132567808,
           2.132567808,
           2.132567808,
           2.132567808,
           2.132567808,
           2.132567808,
           2.132567808,
           4.156331136,
           4.156331136,
           4.156331136,
           4.156331136,
           4.156331136,
           4.156331136,
           4.156331136,
           4.156331136,
           4.156331136,
           4.156331136,
           4.156331136,
           4.156331136,
           4.156331136,
           4.156331136,
           4.156331136,
           4.156331136
          ],
          "sizemode": "area",
          "sizeref": 0.06919964928000001
         },
         "mode": "markers",
         "name": "NVIDIA H100-NVL-94GB",
         "showlegend": false,
         "type": "scatter",
         "x": [
          0,
          0,
          0,
          0,
          0,
          0,
          0,
          0,
          0,
          0,
          0,
          0,
          0,
          0,
          0,
          0,
          0,
          0,
          0,
          0,
          0,
          0,
          0,
          0,
          0,
          0,
          0,
          0,
          0,
          0,
          0,
          0,
          0,
          0,
          0,
          0,
          0,
          0,
          0,
          0,
          0,
          0,
          0,
          0,
          0,
          0,
          0,
          0,
          0,
          0,
          0,
          0,
          0,
          0,
          0,
          0,
          0,
          0,
          0,
          0,
          0,
          0,
          0,
          0,
          0,
          0,
          0,
          0,
          0,
          0,
          0,
          0,
          0,
          0
         ],
         "xaxis": "x2",
         "y": [
          null,
          null,
          null,
          null,
          null,
          null,
          null,
          null,
          null,
          null,
          null,
          null,
          null,
          null,
          null,
          null,
          null,
          null,
          null,
          null,
          null,
          null,
          null,
          null,
          null,
          null,
          null,
          null,
          null,
          null,
          null,
          null,
          null,
          null,
          null,
          null,
          null,
          null,
          null,
          null,
          null,
          null,
          null,
          null,
          null,
          null,
          null,
          null,
          null,
          null,
          null,
          null,
          null,
          null,
          null,
          null,
          null,
          null,
          null,
          null,
          null,
          null,
          null,
          null,
          null,
          null,
          null,
          null,
          null,
          null,
          null,
          null,
          null,
          null
         ],
         "yaxis": "y2"
        },
        {
         "hovertemplate": "Model Size: %{x:.1f}B params<br>Power/Param: %{y:.2f} W/B<br>Total Power: %{marker.size:.0f}W<br><extra></extra>",
         "marker": {
          "size": [
           31.6,
           31.6,
           31.6,
           31.6,
           31.6,
           31.6,
           31.6,
           31.6,
           31.6,
           31.6,
           31.6,
           31.6,
           31.6,
           31.6,
           31.6,
           31.6,
           31.6,
           31.6,
           31.6,
           31.6,
           31.6,
           31.6,
           31.6,
           31.6,
           13.8,
           13.8,
           13.8,
           13.8,
           13.8,
           13.8,
           13.8,
           13.8,
           13.8,
           13.8,
           15,
           15,
           15,
           15,
           15,
           15,
           15,
           15,
           15,
           15,
           15,
           15,
           15,
           15,
           19.2,
           19.2,
           19.2,
           19.2,
           19.2,
           19.2,
           19.2,
           19.2,
           18.6,
           18.6,
           18.6,
           18.6,
           18.6,
           18.6,
           18.6,
           18.6,
           18.6,
           18.6,
           18.6,
           18.6,
           18.6,
           18.6
          ],
          "sizemode": "area",
          "sizeref": 1.272
         },
         "mode": "markers",
         "name": "NVIDIA H100-PCIe-80GB",
         "type": "scatter",
         "x": [
          560,
          560,
          560,
          560,
          560,
          560,
          560,
          560,
          560,
          560,
          560,
          560,
          560,
          560,
          560,
          560,
          560,
          560,
          560,
          560,
          560,
          560,
          560,
          560,
          140,
          140,
          140,
          140,
          140,
          140,
          140,
          140,
          140,
          140,
          140,
          140,
          140,
          140,
          140,
          140,
          140,
          140,
          140,
          140,
          140,
          140,
          140,
          140,
          280,
          280,
          280,
          280,
          280,
          280,
          280,
          280,
          280,
          280,
          280,
          280,
          280,
          280,
          280,
          280,
          280,
          280,
          280,
          280,
          280,
          280
         ],
         "xaxis": "x",
         "y": [
          2.257142857142857,
          2.257142857142857,
          2.257142857142857,
          2.257142857142857,
          2.257142857142857,
          2.257142857142857,
          2.257142857142857,
          2.257142857142857,
          2.257142857142857,
          2.257142857142857,
          2.257142857142857,
          2.257142857142857,
          2.257142857142857,
          2.257142857142857,
          2.257142857142857,
          2.257142857142857,
          2.257142857142857,
          2.257142857142857,
          2.257142857142857,
          2.257142857142857,
          2.257142857142857,
          2.257142857142857,
          2.257142857142857,
          2.257142857142857,
          3.942857142857143,
          3.942857142857143,
          3.942857142857143,
          3.942857142857143,
          3.942857142857143,
          3.942857142857143,
          3.942857142857143,
          3.942857142857143,
          3.942857142857143,
          3.942857142857143,
          4.285714285714286,
          4.285714285714286,
          4.285714285714286,
          4.285714285714286,
          4.285714285714286,
          4.285714285714286,
          4.285714285714286,
          4.285714285714286,
          4.285714285714286,
          4.285714285714286,
          4.285714285714286,
          4.285714285714286,
          4.285714285714286,
          4.285714285714286,
          2.742857142857143,
          2.742857142857143,
          2.742857142857143,
          2.742857142857143,
          2.742857142857143,
          2.742857142857143,
          2.742857142857143,
          2.742857142857143,
          2.657142857142857,
          2.657142857142857,
          2.657142857142857,
          2.657142857142857,
          2.657142857142857,
          2.657142857142857,
          2.657142857142857,
          2.657142857142857,
          2.657142857142857,
          2.657142857142857,
          2.657142857142857,
          2.657142857142857,
          2.657142857142857,
          2.657142857142857
         ],
         "yaxis": "y"
        },
        {
         "hovertemplate": "Model Size: %{x:.1f}B params<br>CO2/Param: %{y:.2f} lbs/B/day<br>Daily CO2: %{marker.size:.0f}lbs<br><extra></extra>",
         "marker": {
          "size": [
           3.438221568000001,
           3.438221568000001,
           3.438221568000001,
           3.438221568000001,
           3.438221568000001,
           3.438221568000001,
           3.438221568000001,
           3.438221568000001,
           3.438221568000001,
           3.438221568000001,
           3.438221568000001,
           3.438221568000001,
           3.438221568000001,
           3.438221568000001,
           3.438221568000001,
           3.438221568000001,
           3.438221568000001,
           3.438221568000001,
           3.438221568000001,
           3.438221568000001,
           3.438221568000001,
           3.438221568000001,
           3.438221568000001,
           3.438221568000001,
           1.501501824,
           1.501501824,
           1.501501824,
           1.501501824,
           1.501501824,
           1.501501824,
           1.501501824,
           1.501501824,
           1.501501824,
           1.501501824,
           1.6320671999999998,
           1.6320671999999998,
           1.6320671999999998,
           1.6320671999999998,
           1.6320671999999998,
           1.6320671999999998,
           1.6320671999999998,
           1.6320671999999998,
           1.6320671999999998,
           1.6320671999999998,
           1.6320671999999998,
           1.6320671999999998,
           1.6320671999999998,
           1.6320671999999998,
           2.089046016,
           2.089046016,
           2.089046016,
           2.089046016,
           2.089046016,
           2.089046016,
           2.089046016,
           2.089046016,
           2.0237633280000003,
           2.0237633280000003,
           2.0237633280000003,
           2.0237633280000003,
           2.0237633280000003,
           2.0237633280000003,
           2.0237633280000003,
           2.0237633280000003,
           2.0237633280000003,
           2.0237633280000003,
           2.0237633280000003,
           2.0237633280000003,
           2.0237633280000003,
           2.0237633280000003
          ],
          "sizemode": "area",
          "sizeref": 0.06919964928000001
         },
         "mode": "markers",
         "name": "NVIDIA H100-PCIe-80GB",
         "showlegend": false,
         "type": "scatter",
         "x": [
          560,
          560,
          560,
          560,
          560,
          560,
          560,
          560,
          560,
          560,
          560,
          560,
          560,
          560,
          560,
          560,
          560,
          560,
          560,
          560,
          560,
          560,
          560,
          560,
          140,
          140,
          140,
          140,
          140,
          140,
          140,
          140,
          140,
          140,
          140,
          140,
          140,
          140,
          140,
          140,
          140,
          140,
          140,
          140,
          140,
          140,
          140,
          140,
          280,
          280,
          280,
          280,
          280,
          280,
          280,
          280,
          280,
          280,
          280,
          280,
          280,
          280,
          280,
          280,
          280,
          280,
          280,
          280,
          280,
          280
         ],
         "xaxis": "x2",
         "y": [
          0.3069840685714286,
          0.3069840685714286,
          0.3069840685714286,
          0.3069840685714286,
          0.3069840685714286,
          0.3069840685714286,
          0.3069840685714286,
          0.3069840685714286,
          0.3069840685714286,
          0.3069840685714286,
          0.3069840685714286,
          0.3069840685714286,
          0.3069840685714286,
          0.3069840685714286,
          0.3069840685714286,
          0.3069840685714286,
          0.3069840685714286,
          0.3069840685714286,
          0.3069840685714286,
          0.3069840685714286,
          0.3069840685714286,
          0.3069840685714286,
          0.3069840685714286,
          0.3069840685714286,
          0.5362506514285714,
          0.5362506514285714,
          0.5362506514285714,
          0.5362506514285714,
          0.5362506514285714,
          0.5362506514285714,
          0.5362506514285714,
          0.5362506514285714,
          0.5362506514285714,
          0.5362506514285714,
          0.5828811428571429,
          0.5828811428571429,
          0.5828811428571429,
          0.5828811428571429,
          0.5828811428571429,
          0.5828811428571429,
          0.5828811428571429,
          0.5828811428571429,
          0.5828811428571429,
          0.5828811428571429,
          0.5828811428571429,
          0.5828811428571429,
          0.5828811428571429,
          0.5828811428571429,
          0.3730439314285715,
          0.3730439314285715,
          0.3730439314285715,
          0.3730439314285715,
          0.3730439314285715,
          0.3730439314285715,
          0.3730439314285715,
          0.3730439314285715,
          0.3613863085714286,
          0.3613863085714286,
          0.3613863085714286,
          0.3613863085714286,
          0.3613863085714286,
          0.3613863085714286,
          0.3613863085714286,
          0.3613863085714286,
          0.3613863085714286,
          0.3613863085714286,
          0.3613863085714286,
          0.3613863085714286,
          0.3613863085714286,
          0.3613863085714286
         ],
         "yaxis": "y2"
        },
        {
         "hovertemplate": "Model Size: %{x:.1f}B params<br>Power/Param: %{y:.2f} W/B<br>Total Power: %{marker.size:.0f}W<br><extra></extra>",
         "marker": {
          "size": [
           61.2,
           61.2,
           61.2,
           61.2,
           61.2,
           61.2,
           61.2,
           61.2,
           61.2,
           61.2,
           61.2,
           61.2,
           61.2,
           61.2,
           61.2,
           61.2,
           61.2,
           61.2,
           61.2,
           61.2,
           61.2,
           61.2,
           61.2,
           61.2,
           34.8,
           34.8,
           34.8,
           34.8,
           34.8,
           34.8,
           34.8,
           34.8,
           34.8,
           34.8,
           34.8,
           34.8,
           34.8,
           34.8,
           34.8,
           34.8,
           34.8,
           34.8,
           34.8,
           34.8,
           34.8,
           34.8,
           34.8,
           34.8,
           34.8,
           34.8,
           34.8,
           34.8,
           34.8,
           34.8,
           34.8,
           34.8,
           34.8,
           34.8,
           60.4,
           60.4,
           60.4,
           60.4,
           60.4,
           60.4,
           60.4,
           60.4,
           60.4,
           60.4,
           60.4,
           60.4,
           32.4,
           32.4,
           32.4,
           32.4,
           32.4,
           32.4,
           32.4,
           32.4,
           32.4,
           32.4,
           32.4,
           32.4,
           32.4,
           32.4,
           32.4,
           32.4,
           32.4,
           32.4,
           32.4,
           32.4,
           32.4,
           32.4,
           32.4,
           32.4,
           32.4,
           32.4,
           60.8,
           60.8,
           60.8,
           60.8,
           60.8,
           60.8,
           60.8,
           60.8,
           60.8,
           60.8,
           60.8,
           60.8,
           60.4,
           60.4,
           60.4,
           60.4,
           60.4,
           60.4,
           60.4,
           60.4,
           60.4,
           60.4,
           60.4,
           60.4,
           60.4,
           60.4,
           60.4,
           60.4,
           60.4,
           60.4,
           60.4,
           60.4,
           63.6,
           63.6,
           63.6,
           63.6,
           63.6,
           63.6,
           63.6,
           63.6,
           60.8,
           60.8,
           60.8,
           60.8,
           60.8,
           60.8,
           60.8,
           60.8,
           60.8,
           60.8,
           60.8,
           60.8,
           60.8,
           60.8,
           60.8,
           60.8,
           62.8,
           62.8,
           62.8,
           62.8,
           62.8,
           62.8,
           62.8,
           62.8,
           62.8,
           62.8,
           62.8,
           62.8,
           62.8,
           62.8,
           62.8,
           62.8,
           62.8,
           62.8,
           62.8,
           62.8,
           62.8,
           62.8,
           62.8,
           62.8,
           60.4,
           60.4,
           60.4,
           60.4,
           60.4,
           60.4,
           60.4,
           60.4,
           60.4,
           60.4,
           60.4,
           60.4,
           60.4,
           60.4,
           60.4,
           60.4,
           60.4,
           60.4,
           60.4,
           60.4,
           60.4,
           60.4,
           60.4,
           60.4,
           60.8,
           60.8,
           60.8,
           60.8,
           60.8,
           60.8,
           60.8,
           60.8,
           60.8,
           60.8,
           60.8,
           60.8,
           60.8,
           60.8,
           60.8,
           60.8,
           60.8,
           60.8,
           60.8,
           60.8,
           60.8,
           60.8,
           60.8,
           60.8,
           60.8,
           60.8,
           60.4,
           60.4,
           60.4,
           60.4,
           60.4,
           60.4,
           60.4,
           60.4,
           60.4,
           60.4,
           60.4,
           60.4,
           60.4,
           60.4,
           60.4,
           60.4,
           60.4,
           60.4,
           60.4,
           60.4,
           60.4,
           60.4,
           60.4,
           60.4,
           60.4,
           60.4,
           59.6,
           59.6,
           59.6,
           59.6,
           59.6,
           59.6,
           59.6,
           59.6,
           59.6,
           59.6,
           59.6,
           59.6,
           59.6,
           59.6,
           59.6,
           59.6,
           59.6,
           59.6,
           59.6,
           59.6,
           59.6,
           59.6
          ],
          "sizemode": "area",
          "sizeref": 1.272
         },
         "mode": "markers",
         "name": "NVIDIA H100-SXM-80GB",
         "type": "scatter",
         "x": [
          1400,
          1400,
          1400,
          1400,
          1400,
          1400,
          1400,
          1400,
          1400,
          1400,
          1400,
          1400,
          1400,
          1400,
          1400,
          1400,
          1400,
          1400,
          1400,
          1400,
          1400,
          1400,
          1400,
          1400,
          700,
          700,
          700,
          700,
          700,
          700,
          700,
          700,
          700,
          700,
          700,
          700,
          700,
          700,
          700,
          700,
          700,
          700,
          700,
          700,
          700,
          700,
          700,
          700,
          700,
          700,
          700,
          700,
          700,
          700,
          700,
          700,
          700,
          700,
          1400,
          1400,
          1400,
          1400,
          1400,
          1400,
          1400,
          1400,
          1400,
          1400,
          1400,
          1400,
          700,
          700,
          700,
          700,
          700,
          700,
          700,
          700,
          700,
          700,
          700,
          700,
          700,
          700,
          700,
          700,
          700,
          700,
          700,
          700,
          700,
          700,
          700,
          700,
          700,
          700,
          1400,
          1400,
          1400,
          1400,
          1400,
          1400,
          1400,
          1400,
          1400,
          1400,
          1400,
          1400,
          1400,
          1400,
          1400,
          1400,
          1400,
          1400,
          1400,
          1400,
          1400,
          1400,
          1400,
          1400,
          1400,
          1400,
          1400,
          1400,
          1400,
          1400,
          1400,
          1400,
          1400,
          1400,
          1400,
          1400,
          1400,
          1400,
          1400,
          1400,
          1400,
          1400,
          1400,
          1400,
          1400,
          1400,
          1400,
          1400,
          1400,
          1400,
          1400,
          1400,
          1400,
          1400,
          1400,
          1400,
          1400,
          1400,
          1400,
          1400,
          1400,
          1400,
          1400,
          1400,
          1400,
          1400,
          1400,
          1400,
          1400,
          1400,
          1400,
          1400,
          1400,
          1400,
          1400,
          1400,
          1400,
          1400,
          1400,
          1400,
          1400,
          1400,
          1400,
          1400,
          1400,
          1400,
          1400,
          1400,
          1400,
          1400,
          1400,
          1400,
          1400,
          1400,
          1400,
          1400,
          1400,
          1400,
          1400,
          1400,
          1400,
          1400,
          1400,
          1400,
          1400,
          1400,
          1400,
          1400,
          1400,
          1400,
          1400,
          1400,
          1400,
          1400,
          1400,
          1400,
          1400,
          1400,
          1400,
          1400,
          1400,
          1400,
          1400,
          1400,
          1400,
          1400,
          1400,
          1400,
          1400,
          1400,
          1400,
          1400,
          1400,
          1400,
          1400,
          1400,
          1400,
          1400,
          1400,
          1400,
          1400,
          1400,
          1400,
          1400,
          1400,
          1400,
          1400,
          1400,
          1400,
          1400,
          1400,
          1400,
          1400,
          1400,
          1400,
          1400,
          1400,
          1400,
          1400,
          1400,
          1400,
          1400,
          1400,
          1400,
          1400,
          1400,
          1400,
          1400,
          1400,
          1400,
          1400,
          1400,
          1400,
          1400,
          1400,
          1400,
          1400,
          1400
         ],
         "xaxis": "x",
         "y": [
          4.371428571428571,
          4.371428571428571,
          4.371428571428571,
          4.371428571428571,
          4.371428571428571,
          4.371428571428571,
          4.371428571428571,
          4.371428571428571,
          4.371428571428571,
          4.371428571428571,
          4.371428571428571,
          4.371428571428571,
          4.371428571428571,
          4.371428571428571,
          4.371428571428571,
          4.371428571428571,
          4.371428571428571,
          4.371428571428571,
          4.371428571428571,
          4.371428571428571,
          4.371428571428571,
          4.371428571428571,
          4.371428571428571,
          4.371428571428571,
          4.9714285714285715,
          4.9714285714285715,
          4.9714285714285715,
          4.9714285714285715,
          4.9714285714285715,
          4.9714285714285715,
          4.9714285714285715,
          4.9714285714285715,
          4.9714285714285715,
          4.9714285714285715,
          4.9714285714285715,
          4.9714285714285715,
          4.9714285714285715,
          4.9714285714285715,
          4.9714285714285715,
          4.9714285714285715,
          4.9714285714285715,
          4.9714285714285715,
          4.9714285714285715,
          4.9714285714285715,
          4.9714285714285715,
          4.9714285714285715,
          4.9714285714285715,
          4.9714285714285715,
          4.9714285714285715,
          4.9714285714285715,
          4.9714285714285715,
          4.9714285714285715,
          4.9714285714285715,
          4.9714285714285715,
          4.9714285714285715,
          4.9714285714285715,
          4.9714285714285715,
          4.9714285714285715,
          4.314285714285714,
          4.314285714285714,
          4.314285714285714,
          4.314285714285714,
          4.314285714285714,
          4.314285714285714,
          4.314285714285714,
          4.314285714285714,
          4.314285714285714,
          4.314285714285714,
          4.314285714285714,
          4.314285714285714,
          4.628571428571429,
          4.628571428571429,
          4.628571428571429,
          4.628571428571429,
          4.628571428571429,
          4.628571428571429,
          4.628571428571429,
          4.628571428571429,
          4.628571428571429,
          4.628571428571429,
          4.628571428571429,
          4.628571428571429,
          4.628571428571429,
          4.628571428571429,
          4.628571428571429,
          4.628571428571429,
          4.628571428571429,
          4.628571428571429,
          4.628571428571429,
          4.628571428571429,
          4.628571428571429,
          4.628571428571429,
          4.628571428571429,
          4.628571428571429,
          4.628571428571429,
          4.628571428571429,
          4.3428571428571425,
          4.3428571428571425,
          4.3428571428571425,
          4.3428571428571425,
          4.3428571428571425,
          4.3428571428571425,
          4.3428571428571425,
          4.3428571428571425,
          4.3428571428571425,
          4.3428571428571425,
          4.3428571428571425,
          4.3428571428571425,
          4.314285714285714,
          4.314285714285714,
          4.314285714285714,
          4.314285714285714,
          4.314285714285714,
          4.314285714285714,
          4.314285714285714,
          4.314285714285714,
          4.314285714285714,
          4.314285714285714,
          4.314285714285714,
          4.314285714285714,
          4.314285714285714,
          4.314285714285714,
          4.314285714285714,
          4.314285714285714,
          4.314285714285714,
          4.314285714285714,
          4.314285714285714,
          4.314285714285714,
          4.542857142857143,
          4.542857142857143,
          4.542857142857143,
          4.542857142857143,
          4.542857142857143,
          4.542857142857143,
          4.542857142857143,
          4.542857142857143,
          4.3428571428571425,
          4.3428571428571425,
          4.3428571428571425,
          4.3428571428571425,
          4.3428571428571425,
          4.3428571428571425,
          4.3428571428571425,
          4.3428571428571425,
          4.3428571428571425,
          4.3428571428571425,
          4.3428571428571425,
          4.3428571428571425,
          4.3428571428571425,
          4.3428571428571425,
          4.3428571428571425,
          4.3428571428571425,
          4.485714285714286,
          4.485714285714286,
          4.485714285714286,
          4.485714285714286,
          4.485714285714286,
          4.485714285714286,
          4.485714285714286,
          4.485714285714286,
          4.485714285714286,
          4.485714285714286,
          4.485714285714286,
          4.485714285714286,
          4.485714285714286,
          4.485714285714286,
          4.485714285714286,
          4.485714285714286,
          4.485714285714286,
          4.485714285714286,
          4.485714285714286,
          4.485714285714286,
          4.485714285714286,
          4.485714285714286,
          4.485714285714286,
          4.485714285714286,
          4.314285714285714,
          4.314285714285714,
          4.314285714285714,
          4.314285714285714,
          4.314285714285714,
          4.314285714285714,
          4.314285714285714,
          4.314285714285714,
          4.314285714285714,
          4.314285714285714,
          4.314285714285714,
          4.314285714285714,
          4.314285714285714,
          4.314285714285714,
          4.314285714285714,
          4.314285714285714,
          4.314285714285714,
          4.314285714285714,
          4.314285714285714,
          4.314285714285714,
          4.314285714285714,
          4.314285714285714,
          4.314285714285714,
          4.314285714285714,
          4.3428571428571425,
          4.3428571428571425,
          4.3428571428571425,
          4.3428571428571425,
          4.3428571428571425,
          4.3428571428571425,
          4.3428571428571425,
          4.3428571428571425,
          4.3428571428571425,
          4.3428571428571425,
          4.3428571428571425,
          4.3428571428571425,
          4.3428571428571425,
          4.3428571428571425,
          4.3428571428571425,
          4.3428571428571425,
          4.3428571428571425,
          4.3428571428571425,
          4.3428571428571425,
          4.3428571428571425,
          4.3428571428571425,
          4.3428571428571425,
          4.3428571428571425,
          4.3428571428571425,
          4.3428571428571425,
          4.3428571428571425,
          4.314285714285714,
          4.314285714285714,
          4.314285714285714,
          4.314285714285714,
          4.314285714285714,
          4.314285714285714,
          4.314285714285714,
          4.314285714285714,
          4.314285714285714,
          4.314285714285714,
          4.314285714285714,
          4.314285714285714,
          4.314285714285714,
          4.314285714285714,
          4.314285714285714,
          4.314285714285714,
          4.314285714285714,
          4.314285714285714,
          4.314285714285714,
          4.314285714285714,
          4.314285714285714,
          4.314285714285714,
          4.314285714285714,
          4.314285714285714,
          4.314285714285714,
          4.314285714285714,
          4.257142857142857,
          4.257142857142857,
          4.257142857142857,
          4.257142857142857,
          4.257142857142857,
          4.257142857142857,
          4.257142857142857,
          4.257142857142857,
          4.257142857142857,
          4.257142857142857,
          4.257142857142857,
          4.257142857142857,
          4.257142857142857,
          4.257142857142857,
          4.257142857142857,
          4.257142857142857,
          4.257142857142857,
          4.257142857142857,
          4.257142857142857,
          4.257142857142857,
          4.257142857142857,
          4.257142857142857
         ],
         "yaxis": "y"
        },
        {
         "hovertemplate": "Model Size: %{x:.1f}B params<br>CO2/Param: %{y:.2f} lbs/B/day<br>Daily CO2: %{marker.size:.0f}lbs<br><extra></extra>",
         "marker": {
          "size": [
           6.658834176000002,
           6.658834176000002,
           6.658834176000002,
           6.658834176000002,
           6.658834176000002,
           6.658834176000002,
           6.658834176000002,
           6.658834176000002,
           6.658834176000002,
           6.658834176000002,
           6.658834176000002,
           6.658834176000002,
           6.658834176000002,
           6.658834176000002,
           6.658834176000002,
           6.658834176000002,
           6.658834176000002,
           6.658834176000002,
           6.658834176000002,
           6.658834176000002,
           6.658834176000002,
           6.658834176000002,
           6.658834176000002,
           6.658834176000002,
           3.7863959040000004,
           3.7863959040000004,
           3.7863959040000004,
           3.7863959040000004,
           3.7863959040000004,
           3.7863959040000004,
           3.7863959040000004,
           3.7863959040000004,
           3.7863959040000004,
           3.7863959040000004,
           3.7863959040000004,
           3.7863959040000004,
           3.7863959040000004,
           3.7863959040000004,
           3.7863959040000004,
           3.7863959040000004,
           3.7863959040000004,
           3.7863959040000004,
           3.7863959040000004,
           3.7863959040000004,
           3.7863959040000004,
           3.7863959040000004,
           3.7863959040000004,
           3.7863959040000004,
           3.7863959040000004,
           3.7863959040000004,
           3.7863959040000004,
           3.7863959040000004,
           3.7863959040000004,
           3.7863959040000004,
           3.7863959040000004,
           3.7863959040000004,
           3.7863959040000004,
           3.7863959040000004,
           6.571790592000001,
           6.571790592000001,
           6.571790592000001,
           6.571790592000001,
           6.571790592000001,
           6.571790592000001,
           6.571790592000001,
           6.571790592000001,
           6.571790592000001,
           6.571790592000001,
           6.571790592000001,
           6.571790592000001,
           3.5252651520000002,
           3.5252651520000002,
           3.5252651520000002,
           3.5252651520000002,
           3.5252651520000002,
           3.5252651520000002,
           3.5252651520000002,
           3.5252651520000002,
           3.5252651520000002,
           3.5252651520000002,
           3.5252651520000002,
           3.5252651520000002,
           3.5252651520000002,
           3.5252651520000002,
           3.5252651520000002,
           3.5252651520000002,
           3.5252651520000002,
           3.5252651520000002,
           3.5252651520000002,
           3.5252651520000002,
           3.5252651520000002,
           3.5252651520000002,
           3.5252651520000002,
           3.5252651520000002,
           3.5252651520000002,
           3.5252651520000002,
           6.615312384,
           6.615312384,
           6.615312384,
           6.615312384,
           6.615312384,
           6.615312384,
           6.615312384,
           6.615312384,
           6.615312384,
           6.615312384,
           6.615312384,
           6.615312384,
           6.571790592000001,
           6.571790592000001,
           6.571790592000001,
           6.571790592000001,
           6.571790592000001,
           6.571790592000001,
           6.571790592000001,
           6.571790592000001,
           6.571790592000001,
           6.571790592000001,
           6.571790592000001,
           6.571790592000001,
           6.571790592000001,
           6.571790592000001,
           6.571790592000001,
           6.571790592000001,
           6.571790592000001,
           6.571790592000001,
           6.571790592000001,
           6.571790592000001,
           6.919964928000001,
           6.919964928000001,
           6.919964928000001,
           6.919964928000001,
           6.919964928000001,
           6.919964928000001,
           6.919964928000001,
           6.919964928000001,
           6.615312384,
           6.615312384,
           6.615312384,
           6.615312384,
           6.615312384,
           6.615312384,
           6.615312384,
           6.615312384,
           6.615312384,
           6.615312384,
           6.615312384,
           6.615312384,
           6.615312384,
           6.615312384,
           6.615312384,
           6.615312384,
           6.832921344,
           6.832921344,
           6.832921344,
           6.832921344,
           6.832921344,
           6.832921344,
           6.832921344,
           6.832921344,
           6.832921344,
           6.832921344,
           6.832921344,
           6.832921344,
           6.832921344,
           6.832921344,
           6.832921344,
           6.832921344,
           6.832921344,
           6.832921344,
           6.832921344,
           6.832921344,
           6.832921344,
           6.832921344,
           6.832921344,
           6.832921344,
           6.571790592000001,
           6.571790592000001,
           6.571790592000001,
           6.571790592000001,
           6.571790592000001,
           6.571790592000001,
           6.571790592000001,
           6.571790592000001,
           6.571790592000001,
           6.571790592000001,
           6.571790592000001,
           6.571790592000001,
           6.571790592000001,
           6.571790592000001,
           6.571790592000001,
           6.571790592000001,
           6.571790592000001,
           6.571790592000001,
           6.571790592000001,
           6.571790592000001,
           6.571790592000001,
           6.571790592000001,
           6.571790592000001,
           6.571790592000001,
           6.615312384,
           6.615312384,
           6.615312384,
           6.615312384,
           6.615312384,
           6.615312384,
           6.615312384,
           6.615312384,
           6.615312384,
           6.615312384,
           6.615312384,
           6.615312384,
           6.615312384,
           6.615312384,
           6.615312384,
           6.615312384,
           6.615312384,
           6.615312384,
           6.615312384,
           6.615312384,
           6.615312384,
           6.615312384,
           6.615312384,
           6.615312384,
           6.615312384,
           6.615312384,
           6.571790592000001,
           6.571790592000001,
           6.571790592000001,
           6.571790592000001,
           6.571790592000001,
           6.571790592000001,
           6.571790592000001,
           6.571790592000001,
           6.571790592000001,
           6.571790592000001,
           6.571790592000001,
           6.571790592000001,
           6.571790592000001,
           6.571790592000001,
           6.571790592000001,
           6.571790592000001,
           6.571790592000001,
           6.571790592000001,
           6.571790592000001,
           6.571790592000001,
           6.571790592000001,
           6.571790592000001,
           6.571790592000001,
           6.571790592000001,
           6.571790592000001,
           6.571790592000001,
           6.484747008,
           6.484747008,
           6.484747008,
           6.484747008,
           6.484747008,
           6.484747008,
           6.484747008,
           6.484747008,
           6.484747008,
           6.484747008,
           6.484747008,
           6.484747008,
           6.484747008,
           6.484747008,
           6.484747008,
           6.484747008,
           6.484747008,
           6.484747008,
           6.484747008,
           6.484747008,
           6.484747008,
           6.484747008
          ],
          "sizemode": "area",
          "sizeref": 0.06919964928000001
         },
         "mode": "markers",
         "name": "NVIDIA H100-SXM-80GB",
         "showlegend": false,
         "type": "scatter",
         "x": [
          1400,
          1400,
          1400,
          1400,
          1400,
          1400,
          1400,
          1400,
          1400,
          1400,
          1400,
          1400,
          1400,
          1400,
          1400,
          1400,
          1400,
          1400,
          1400,
          1400,
          1400,
          1400,
          1400,
          1400,
          700,
          700,
          700,
          700,
          700,
          700,
          700,
          700,
          700,
          700,
          700,
          700,
          700,
          700,
          700,
          700,
          700,
          700,
          700,
          700,
          700,
          700,
          700,
          700,
          700,
          700,
          700,
          700,
          700,
          700,
          700,
          700,
          700,
          700,
          1400,
          1400,
          1400,
          1400,
          1400,
          1400,
          1400,
          1400,
          1400,
          1400,
          1400,
          1400,
          700,
          700,
          700,
          700,
          700,
          700,
          700,
          700,
          700,
          700,
          700,
          700,
          700,
          700,
          700,
          700,
          700,
          700,
          700,
          700,
          700,
          700,
          700,
          700,
          700,
          700,
          1400,
          1400,
          1400,
          1400,
          1400,
          1400,
          1400,
          1400,
          1400,
          1400,
          1400,
          1400,
          1400,
          1400,
          1400,
          1400,
          1400,
          1400,
          1400,
          1400,
          1400,
          1400,
          1400,
          1400,
          1400,
          1400,
          1400,
          1400,
          1400,
          1400,
          1400,
          1400,
          1400,
          1400,
          1400,
          1400,
          1400,
          1400,
          1400,
          1400,
          1400,
          1400,
          1400,
          1400,
          1400,
          1400,
          1400,
          1400,
          1400,
          1400,
          1400,
          1400,
          1400,
          1400,
          1400,
          1400,
          1400,
          1400,
          1400,
          1400,
          1400,
          1400,
          1400,
          1400,
          1400,
          1400,
          1400,
          1400,
          1400,
          1400,
          1400,
          1400,
          1400,
          1400,
          1400,
          1400,
          1400,
          1400,
          1400,
          1400,
          1400,
          1400,
          1400,
          1400,
          1400,
          1400,
          1400,
          1400,
          1400,
          1400,
          1400,
          1400,
          1400,
          1400,
          1400,
          1400,
          1400,
          1400,
          1400,
          1400,
          1400,
          1400,
          1400,
          1400,
          1400,
          1400,
          1400,
          1400,
          1400,
          1400,
          1400,
          1400,
          1400,
          1400,
          1400,
          1400,
          1400,
          1400,
          1400,
          1400,
          1400,
          1400,
          1400,
          1400,
          1400,
          1400,
          1400,
          1400,
          1400,
          1400,
          1400,
          1400,
          1400,
          1400,
          1400,
          1400,
          1400,
          1400,
          1400,
          1400,
          1400,
          1400,
          1400,
          1400,
          1400,
          1400,
          1400,
          1400,
          1400,
          1400,
          1400,
          1400,
          1400,
          1400,
          1400,
          1400,
          1400,
          1400,
          1400,
          1400,
          1400,
          1400,
          1400,
          1400,
          1400,
          1400,
          1400,
          1400,
          1400,
          1400,
          1400,
          1400,
          1400,
          1400,
          1400,
          1400,
          1400,
          1400
         ],
         "xaxis": "x2",
         "y": [
          0.23781550628571432,
          0.23781550628571432,
          0.23781550628571432,
          0.23781550628571432,
          0.23781550628571432,
          0.23781550628571432,
          0.23781550628571432,
          0.23781550628571432,
          0.23781550628571432,
          0.23781550628571432,
          0.23781550628571432,
          0.23781550628571432,
          0.23781550628571432,
          0.23781550628571432,
          0.23781550628571432,
          0.23781550628571432,
          0.23781550628571432,
          0.23781550628571432,
          0.23781550628571432,
          0.23781550628571432,
          0.23781550628571432,
          0.23781550628571432,
          0.23781550628571432,
          0.23781550628571432,
          0.2704568502857143,
          0.2704568502857143,
          0.2704568502857143,
          0.2704568502857143,
          0.2704568502857143,
          0.2704568502857143,
          0.2704568502857143,
          0.2704568502857143,
          0.2704568502857143,
          0.2704568502857143,
          0.2704568502857143,
          0.2704568502857143,
          0.2704568502857143,
          0.2704568502857143,
          0.2704568502857143,
          0.2704568502857143,
          0.2704568502857143,
          0.2704568502857143,
          0.2704568502857143,
          0.2704568502857143,
          0.2704568502857143,
          0.2704568502857143,
          0.2704568502857143,
          0.2704568502857143,
          0.2704568502857143,
          0.2704568502857143,
          0.2704568502857143,
          0.2704568502857143,
          0.2704568502857143,
          0.2704568502857143,
          0.2704568502857143,
          0.2704568502857143,
          0.2704568502857143,
          0.2704568502857143,
          0.2347068068571429,
          0.2347068068571429,
          0.2347068068571429,
          0.2347068068571429,
          0.2347068068571429,
          0.2347068068571429,
          0.2347068068571429,
          0.2347068068571429,
          0.2347068068571429,
          0.2347068068571429,
          0.2347068068571429,
          0.2347068068571429,
          0.25180465371428573,
          0.25180465371428573,
          0.25180465371428573,
          0.25180465371428573,
          0.25180465371428573,
          0.25180465371428573,
          0.25180465371428573,
          0.25180465371428573,
          0.25180465371428573,
          0.25180465371428573,
          0.25180465371428573,
          0.25180465371428573,
          0.25180465371428573,
          0.25180465371428573,
          0.25180465371428573,
          0.25180465371428573,
          0.25180465371428573,
          0.25180465371428573,
          0.25180465371428573,
          0.25180465371428573,
          0.25180465371428573,
          0.25180465371428573,
          0.25180465371428573,
          0.25180465371428573,
          0.25180465371428573,
          0.25180465371428573,
          0.23626115657142857,
          0.23626115657142857,
          0.23626115657142857,
          0.23626115657142857,
          0.23626115657142857,
          0.23626115657142857,
          0.23626115657142857,
          0.23626115657142857,
          0.23626115657142857,
          0.23626115657142857,
          0.23626115657142857,
          0.23626115657142857,
          0.2347068068571429,
          0.2347068068571429,
          0.2347068068571429,
          0.2347068068571429,
          0.2347068068571429,
          0.2347068068571429,
          0.2347068068571429,
          0.2347068068571429,
          0.2347068068571429,
          0.2347068068571429,
          0.2347068068571429,
          0.2347068068571429,
          0.2347068068571429,
          0.2347068068571429,
          0.2347068068571429,
          0.2347068068571429,
          0.2347068068571429,
          0.2347068068571429,
          0.2347068068571429,
          0.2347068068571429,
          0.24714160457142859,
          0.24714160457142859,
          0.24714160457142859,
          0.24714160457142859,
          0.24714160457142859,
          0.24714160457142859,
          0.24714160457142859,
          0.24714160457142859,
          0.23626115657142857,
          0.23626115657142857,
          0.23626115657142857,
          0.23626115657142857,
          0.23626115657142857,
          0.23626115657142857,
          0.23626115657142857,
          0.23626115657142857,
          0.23626115657142857,
          0.23626115657142857,
          0.23626115657142857,
          0.23626115657142857,
          0.23626115657142857,
          0.23626115657142857,
          0.23626115657142857,
          0.23626115657142857,
          0.24403290514285714,
          0.24403290514285714,
          0.24403290514285714,
          0.24403290514285714,
          0.24403290514285714,
          0.24403290514285714,
          0.24403290514285714,
          0.24403290514285714,
          0.24403290514285714,
          0.24403290514285714,
          0.24403290514285714,
          0.24403290514285714,
          0.24403290514285714,
          0.24403290514285714,
          0.24403290514285714,
          0.24403290514285714,
          0.24403290514285714,
          0.24403290514285714,
          0.24403290514285714,
          0.24403290514285714,
          0.24403290514285714,
          0.24403290514285714,
          0.24403290514285714,
          0.24403290514285714,
          0.2347068068571429,
          0.2347068068571429,
          0.2347068068571429,
          0.2347068068571429,
          0.2347068068571429,
          0.2347068068571429,
          0.2347068068571429,
          0.2347068068571429,
          0.2347068068571429,
          0.2347068068571429,
          0.2347068068571429,
          0.2347068068571429,
          0.2347068068571429,
          0.2347068068571429,
          0.2347068068571429,
          0.2347068068571429,
          0.2347068068571429,
          0.2347068068571429,
          0.2347068068571429,
          0.2347068068571429,
          0.2347068068571429,
          0.2347068068571429,
          0.2347068068571429,
          0.2347068068571429,
          0.23626115657142857,
          0.23626115657142857,
          0.23626115657142857,
          0.23626115657142857,
          0.23626115657142857,
          0.23626115657142857,
          0.23626115657142857,
          0.23626115657142857,
          0.23626115657142857,
          0.23626115657142857,
          0.23626115657142857,
          0.23626115657142857,
          0.23626115657142857,
          0.23626115657142857,
          0.23626115657142857,
          0.23626115657142857,
          0.23626115657142857,
          0.23626115657142857,
          0.23626115657142857,
          0.23626115657142857,
          0.23626115657142857,
          0.23626115657142857,
          0.23626115657142857,
          0.23626115657142857,
          0.23626115657142857,
          0.23626115657142857,
          0.2347068068571429,
          0.2347068068571429,
          0.2347068068571429,
          0.2347068068571429,
          0.2347068068571429,
          0.2347068068571429,
          0.2347068068571429,
          0.2347068068571429,
          0.2347068068571429,
          0.2347068068571429,
          0.2347068068571429,
          0.2347068068571429,
          0.2347068068571429,
          0.2347068068571429,
          0.2347068068571429,
          0.2347068068571429,
          0.2347068068571429,
          0.2347068068571429,
          0.2347068068571429,
          0.2347068068571429,
          0.2347068068571429,
          0.2347068068571429,
          0.2347068068571429,
          0.2347068068571429,
          0.2347068068571429,
          0.2347068068571429,
          0.23159810742857145,
          0.23159810742857145,
          0.23159810742857145,
          0.23159810742857145,
          0.23159810742857145,
          0.23159810742857145,
          0.23159810742857145,
          0.23159810742857145,
          0.23159810742857145,
          0.23159810742857145,
          0.23159810742857145,
          0.23159810742857145,
          0.23159810742857145,
          0.23159810742857145,
          0.23159810742857145,
          0.23159810742857145,
          0.23159810742857145,
          0.23159810742857145,
          0.23159810742857145,
          0.23159810742857145,
          0.23159810742857145,
          0.23159810742857145
         ],
         "yaxis": "y2"
        },
        {
         "hovertemplate": "Model Size: %{x:.1f}B params<br>Power/Param: %{y:.2f} W/B<br>Total Power: %{marker.size:.0f}W<br><extra></extra>",
         "marker": {
          "size": [
           9.6,
           9.6,
           9.6,
           9.6,
           9.6,
           9.6,
           9.6,
           9.6,
           9.6,
           9.6,
           12.8,
           12.8,
           12.8,
           12.8,
           12.8,
           12.8,
           12.8,
           12.8,
           12.8,
           12.8,
           9.6,
           9.6,
           9.6,
           9.6,
           9.6,
           9.6,
           9.6,
           9.6,
           9.6,
           9.6,
           17.2,
           17.2,
           17.2,
           17.2,
           17.2,
           17.2,
           51.6,
           51.6,
           51.6,
           27.6,
           27.6,
           27.6,
           27.6,
           27.6,
           27.6,
           27.6,
           27.6,
           17,
           17,
           17,
           17,
           17,
           17,
           17,
           12.6,
           12.6,
           12.6,
           12.6,
           12.6,
           12.6,
           12.6,
           12.6,
           12.6,
           26.2,
           26.2,
           16.2,
           16.2,
           16.2,
           16.2,
           16.2,
           16.2,
           16.2,
           16.2,
           16.2,
           16.2,
           16.2,
           16.2,
           16.2,
           16.2,
           16.2,
           19.6,
           19.6
          ],
          "sizemode": "area",
          "sizeref": 1.272
         },
         "mode": "markers",
         "name": "NVIDIA L40S",
         "type": "scatter",
         "x": [
          40,
          40,
          40,
          40,
          40,
          40,
          40,
          40,
          40,
          40,
          40,
          40,
          40,
          40,
          40,
          40,
          40,
          40,
          40,
          40,
          40,
          40,
          40,
          40,
          40,
          40,
          40,
          40,
          40,
          40,
          80,
          80,
          80,
          80,
          80,
          80,
          320,
          320,
          320,
          160,
          160,
          160,
          160,
          160,
          160,
          160,
          160,
          80,
          80,
          80,
          80,
          80,
          80,
          80,
          60,
          60,
          60,
          60,
          60,
          60,
          60,
          60,
          60,
          160,
          160,
          80,
          80,
          80,
          80,
          80,
          80,
          80,
          80,
          80,
          80,
          80,
          80,
          80,
          80,
          80,
          80,
          80
         ],
         "xaxis": "x",
         "y": [
          24,
          24,
          24,
          24,
          24,
          24,
          24,
          24,
          24,
          24,
          32,
          32,
          32,
          32,
          32,
          32,
          32,
          32,
          32,
          32,
          24,
          24,
          24,
          24,
          24,
          24,
          24,
          24,
          24,
          24,
          21.5,
          21.5,
          21.5,
          21.5,
          21.5,
          21.5,
          16.125,
          16.125,
          16.125,
          17.25,
          17.25,
          17.25,
          17.25,
          17.25,
          17.25,
          17.25,
          17.25,
          21.25,
          21.25,
          21.25,
          21.25,
          21.25,
          21.25,
          21.25,
          21,
          21,
          21,
          21,
          21,
          21,
          21,
          21,
          21,
          16.375,
          16.375,
          20.25,
          20.25,
          20.25,
          20.25,
          20.25,
          20.25,
          20.25,
          20.25,
          20.25,
          20.25,
          20.25,
          20.25,
          20.25,
          20.25,
          20.25,
          24.5,
          24.5
         ],
         "yaxis": "y"
        },
        {
         "hovertemplate": "Model Size: %{x:.1f}B params<br>CO2/Param: %{y:.2f} lbs/B/day<br>Daily CO2: %{marker.size:.0f}lbs<br><extra></extra>",
         "marker": {
          "size": [
           1.044523008,
           1.044523008,
           1.044523008,
           1.044523008,
           1.044523008,
           1.044523008,
           1.044523008,
           1.044523008,
           1.044523008,
           1.044523008,
           1.3926973440000001,
           1.3926973440000001,
           1.3926973440000001,
           1.3926973440000001,
           1.3926973440000001,
           1.3926973440000001,
           1.3926973440000001,
           1.3926973440000001,
           1.3926973440000001,
           1.3926973440000001,
           1.044523008,
           1.044523008,
           1.044523008,
           1.044523008,
           1.044523008,
           1.044523008,
           1.044523008,
           1.044523008,
           1.044523008,
           1.044523008,
           1.871437056,
           1.871437056,
           1.871437056,
           1.871437056,
           1.871437056,
           1.871437056,
           5.614311168,
           5.614311168,
           5.614311168,
           3.003003648,
           3.003003648,
           3.003003648,
           3.003003648,
           3.003003648,
           3.003003648,
           3.003003648,
           3.003003648,
           1.8496761600000002,
           1.8496761600000002,
           1.8496761600000002,
           1.8496761600000002,
           1.8496761600000002,
           1.8496761600000002,
           1.8496761600000002,
           1.3709364480000001,
           1.3709364480000001,
           1.3709364480000001,
           1.3709364480000001,
           1.3709364480000001,
           1.3709364480000001,
           1.3709364480000001,
           1.3709364480000001,
           1.3709364480000001,
           2.8506773760000006,
           2.8506773760000006,
           1.7626325760000001,
           1.7626325760000001,
           1.7626325760000001,
           1.7626325760000001,
           1.7626325760000001,
           1.7626325760000001,
           1.7626325760000001,
           1.7626325760000001,
           1.7626325760000001,
           1.7626325760000001,
           1.7626325760000001,
           1.7626325760000001,
           1.7626325760000001,
           1.7626325760000001,
           1.7626325760000001,
           2.132567808,
           2.132567808
          ],
          "sizemode": "area",
          "sizeref": 0.06919964928000001
         },
         "mode": "markers",
         "name": "NVIDIA L40S",
         "showlegend": false,
         "type": "scatter",
         "x": [
          40,
          40,
          40,
          40,
          40,
          40,
          40,
          40,
          40,
          40,
          40,
          40,
          40,
          40,
          40,
          40,
          40,
          40,
          40,
          40,
          40,
          40,
          40,
          40,
          40,
          40,
          40,
          40,
          40,
          40,
          80,
          80,
          80,
          80,
          80,
          80,
          320,
          320,
          320,
          160,
          160,
          160,
          160,
          160,
          160,
          160,
          160,
          80,
          80,
          80,
          80,
          80,
          80,
          80,
          60,
          60,
          60,
          60,
          60,
          60,
          60,
          60,
          60,
          160,
          160,
          80,
          80,
          80,
          80,
          80,
          80,
          80,
          80,
          80,
          80,
          80,
          80,
          80,
          80,
          80,
          80,
          80
         ],
         "xaxis": "x2",
         "y": [
          1.3056537600000002,
          1.3056537600000002,
          1.3056537600000002,
          1.3056537600000002,
          1.3056537600000002,
          1.3056537600000002,
          1.3056537600000002,
          1.3056537600000002,
          1.3056537600000002,
          1.3056537600000002,
          1.7408716800000001,
          1.7408716800000001,
          1.7408716800000001,
          1.7408716800000001,
          1.7408716800000001,
          1.7408716800000001,
          1.7408716800000001,
          1.7408716800000001,
          1.7408716800000001,
          1.7408716800000001,
          1.3056537600000002,
          1.3056537600000002,
          1.3056537600000002,
          1.3056537600000002,
          1.3056537600000002,
          1.3056537600000002,
          1.3056537600000002,
          1.3056537600000002,
          1.3056537600000002,
          1.3056537600000002,
          1.16964816,
          1.16964816,
          1.16964816,
          1.16964816,
          1.16964816,
          1.16964816,
          0.8772361200000001,
          0.8772361200000001,
          0.8772361200000001,
          0.93843864,
          0.93843864,
          0.93843864,
          0.93843864,
          0.93843864,
          0.93843864,
          0.93843864,
          0.93843864,
          1.1560476000000002,
          1.1560476000000002,
          1.1560476000000002,
          1.1560476000000002,
          1.1560476000000002,
          1.1560476000000002,
          1.1560476000000002,
          1.1424470400000002,
          1.1424470400000002,
          1.1424470400000002,
          1.1424470400000002,
          1.1424470400000002,
          1.1424470400000002,
          1.1424470400000002,
          1.1424470400000002,
          1.1424470400000002,
          0.8908366800000002,
          0.8908366800000002,
          1.10164536,
          1.10164536,
          1.10164536,
          1.10164536,
          1.10164536,
          1.10164536,
          1.10164536,
          1.10164536,
          1.10164536,
          1.10164536,
          1.10164536,
          1.10164536,
          1.10164536,
          1.10164536,
          1.10164536,
          1.33285488,
          1.33285488
         ],
         "yaxis": "y2"
        },
        {
         "hovertemplate": "Model Size: %{x:.1f}B params<br>Power/Param: %{y:.2f} W/B<br>Total Power: %{marker.size:.0f}W<br><extra></extra>",
         "marker": {
          "size": [
           60.6,
           60.6,
           60.6,
           60.6,
           60.6,
           60.6,
           60.6,
           60.6,
           60.6,
           60.6,
           60.6,
           60.6,
           60.6,
           60.6,
           60.6,
           60.6,
           60.6,
           60.6,
           60.6,
           60.6,
           60.8,
           60.8,
           60.8,
           60.8,
           60.8,
           60.8,
           60.8,
           60.8,
           60.8,
           60.8,
           60.8,
           60.8,
           60.8,
           60.8,
           60.8,
           60.8,
           60.8,
           60.8,
           60.8,
           60.8,
           60.8,
           60.8,
           60.8,
           60.8,
           60.8,
           60.8,
           60.4,
           60.4,
           60.4,
           60.4,
           60.4,
           60.4,
           60.4,
           60.4,
           60.4,
           60.4,
           60.4,
           60.4,
           60.4,
           60.4,
           60.4,
           60.4,
           60.4,
           60.4,
           60.4,
           60.4,
           60.4,
           60.4,
           60.4,
           60.4,
           60.4,
           60.4,
           60.4,
           60.4,
           60.4,
           60.4,
           60.4,
           60.4,
           11.8,
           11.8,
           11.8,
           11.8,
           60.8,
           60.8,
           60.8,
           60.8,
           60.8,
           60.8,
           60.8,
           60.8,
           60.8,
           60.8,
           60.8,
           60.8,
           60.8,
           60.8,
           60.8,
           60.8,
           60.8,
           60.8,
           60.8,
           60.8,
           60.8,
           60.8,
           60.8,
           60.8,
           60.8,
           60.8,
           60.8,
           60.8,
           60.8,
           60.8
          ],
          "sizemode": "area",
          "sizeref": 1.272
         },
         "mode": "markers",
         "name": "NVIDIA H200-SXM-141GB",
         "type": "scatter",
         "x": [
          1600,
          1600,
          1600,
          1600,
          1600,
          1600,
          1600,
          1600,
          1600,
          1600,
          1600,
          1600,
          1600,
          1600,
          1600,
          1600,
          1600,
          1600,
          1600,
          1600,
          1600,
          1600,
          1600,
          1600,
          1600,
          1600,
          1600,
          1600,
          1600,
          1600,
          1600,
          1600,
          1600,
          1600,
          1600,
          1600,
          1600,
          1600,
          1600,
          1600,
          1600,
          1600,
          1600,
          1600,
          1600,
          1600,
          1600,
          1600,
          1600,
          1600,
          1600,
          1600,
          1600,
          1600,
          1600,
          1600,
          1600,
          1600,
          1600,
          1600,
          1600,
          1600,
          1600,
          1600,
          1600,
          1600,
          1600,
          1600,
          1600,
          1600,
          1600,
          1600,
          1600,
          1600,
          1600,
          1600,
          1600,
          1600,
          200,
          200,
          200,
          200,
          1600,
          1600,
          1600,
          1600,
          1600,
          1600,
          1600,
          1600,
          1600,
          1600,
          1600,
          1600,
          1600,
          1600,
          1600,
          1600,
          1600,
          1600,
          1600,
          1600,
          1600,
          1600,
          1600,
          1600,
          1600,
          1600,
          1600,
          1600,
          1600,
          1600
         ],
         "xaxis": "x",
         "y": [
          108.21428571428571,
          108.21428571428571,
          108.21428571428571,
          108.21428571428571,
          108.21428571428571,
          108.21428571428571,
          108.21428571428571,
          108.21428571428571,
          108.21428571428571,
          108.21428571428571,
          108.21428571428571,
          108.21428571428571,
          108.21428571428571,
          108.21428571428571,
          108.21428571428571,
          108.21428571428571,
          108.21428571428571,
          108.21428571428571,
          108.21428571428571,
          108.21428571428571,
          108.57142857142857,
          108.57142857142857,
          108.57142857142857,
          108.57142857142857,
          108.57142857142857,
          108.57142857142857,
          108.57142857142857,
          108.57142857142857,
          108.57142857142857,
          108.57142857142857,
          108.57142857142857,
          108.57142857142857,
          108.57142857142857,
          108.57142857142857,
          108.57142857142857,
          108.57142857142857,
          108.57142857142857,
          108.57142857142857,
          108.57142857142857,
          108.57142857142857,
          108.57142857142857,
          108.57142857142857,
          108.57142857142857,
          108.57142857142857,
          108.57142857142857,
          108.57142857142857,
          107.85714285714286,
          107.85714285714286,
          107.85714285714286,
          107.85714285714286,
          107.85714285714286,
          107.85714285714286,
          107.85714285714286,
          107.85714285714286,
          107.85714285714286,
          107.85714285714286,
          107.85714285714286,
          107.85714285714286,
          107.85714285714286,
          107.85714285714286,
          107.85714285714286,
          107.85714285714286,
          107.85714285714286,
          107.85714285714286,
          107.85714285714286,
          107.85714285714286,
          107.85714285714286,
          107.85714285714286,
          107.85714285714286,
          107.85714285714286,
          107.85714285714286,
          107.85714285714286,
          107.85714285714286,
          107.85714285714286,
          107.85714285714286,
          107.85714285714286,
          107.85714285714286,
          107.85714285714286,
          168.57142857142858,
          168.57142857142858,
          168.57142857142858,
          168.57142857142858,
          108.57142857142857,
          108.57142857142857,
          108.57142857142857,
          108.57142857142857,
          108.57142857142857,
          108.57142857142857,
          108.57142857142857,
          108.57142857142857,
          108.57142857142857,
          108.57142857142857,
          108.57142857142857,
          108.57142857142857,
          108.57142857142857,
          108.57142857142857,
          108.57142857142857,
          108.57142857142857,
          108.57142857142857,
          108.57142857142857,
          108.57142857142857,
          108.57142857142857,
          108.57142857142857,
          108.57142857142857,
          108.57142857142857,
          108.57142857142857,
          108.57142857142857,
          108.57142857142857,
          108.57142857142857,
          108.57142857142857,
          108.57142857142857,
          108.57142857142857
         ],
         "yaxis": "y"
        },
        {
         "hovertemplate": "Model Size: %{x:.1f}B params<br>CO2/Param: %{y:.2f} lbs/B/day<br>Daily CO2: %{marker.size:.0f}lbs<br><extra></extra>",
         "marker": {
          "size": [
           6.593551488000002,
           6.593551488000002,
           6.593551488000002,
           6.593551488000002,
           6.593551488000002,
           6.593551488000002,
           6.593551488000002,
           6.593551488000002,
           6.593551488000002,
           6.593551488000002,
           6.593551488000002,
           6.593551488000002,
           6.593551488000002,
           6.593551488000002,
           6.593551488000002,
           6.593551488000002,
           6.593551488000002,
           6.593551488000002,
           6.593551488000002,
           6.593551488000002,
           6.615312384,
           6.615312384,
           6.615312384,
           6.615312384,
           6.615312384,
           6.615312384,
           6.615312384,
           6.615312384,
           6.615312384,
           6.615312384,
           6.615312384,
           6.615312384,
           6.615312384,
           6.615312384,
           6.615312384,
           6.615312384,
           6.615312384,
           6.615312384,
           6.615312384,
           6.615312384,
           6.615312384,
           6.615312384,
           6.615312384,
           6.615312384,
           6.615312384,
           6.615312384,
           6.571790592000001,
           6.571790592000001,
           6.571790592000001,
           6.571790592000001,
           6.571790592000001,
           6.571790592000001,
           6.571790592000001,
           6.571790592000001,
           6.571790592000001,
           6.571790592000001,
           6.571790592000001,
           6.571790592000001,
           6.571790592000001,
           6.571790592000001,
           6.571790592000001,
           6.571790592000001,
           6.571790592000001,
           6.571790592000001,
           6.571790592000001,
           6.571790592000001,
           6.571790592000001,
           6.571790592000001,
           6.571790592000001,
           6.571790592000001,
           6.571790592000001,
           6.571790592000001,
           6.571790592000001,
           6.571790592000001,
           6.571790592000001,
           6.571790592000001,
           6.571790592000001,
           6.571790592000001,
           1.2838928640000002,
           1.2838928640000002,
           1.2838928640000002,
           1.2838928640000002,
           6.615312384,
           6.615312384,
           6.615312384,
           6.615312384,
           6.615312384,
           6.615312384,
           6.615312384,
           6.615312384,
           6.615312384,
           6.615312384,
           6.615312384,
           6.615312384,
           6.615312384,
           6.615312384,
           6.615312384,
           6.615312384,
           6.615312384,
           6.615312384,
           6.615312384,
           6.615312384,
           6.615312384,
           6.615312384,
           6.615312384,
           6.615312384,
           6.615312384,
           6.615312384,
           6.615312384,
           6.615312384,
           6.615312384,
           6.615312384
          ],
          "sizemode": "area",
          "sizeref": 0.06919964928000001
         },
         "mode": "markers",
         "name": "NVIDIA H200-SXM-141GB",
         "showlegend": false,
         "type": "scatter",
         "x": [
          1600,
          1600,
          1600,
          1600,
          1600,
          1600,
          1600,
          1600,
          1600,
          1600,
          1600,
          1600,
          1600,
          1600,
          1600,
          1600,
          1600,
          1600,
          1600,
          1600,
          1600,
          1600,
          1600,
          1600,
          1600,
          1600,
          1600,
          1600,
          1600,
          1600,
          1600,
          1600,
          1600,
          1600,
          1600,
          1600,
          1600,
          1600,
          1600,
          1600,
          1600,
          1600,
          1600,
          1600,
          1600,
          1600,
          1600,
          1600,
          1600,
          1600,
          1600,
          1600,
          1600,
          1600,
          1600,
          1600,
          1600,
          1600,
          1600,
          1600,
          1600,
          1600,
          1600,
          1600,
          1600,
          1600,
          1600,
          1600,
          1600,
          1600,
          1600,
          1600,
          1600,
          1600,
          1600,
          1600,
          1600,
          1600,
          200,
          200,
          200,
          200,
          1600,
          1600,
          1600,
          1600,
          1600,
          1600,
          1600,
          1600,
          1600,
          1600,
          1600,
          1600,
          1600,
          1600,
          1600,
          1600,
          1600,
          1600,
          1600,
          1600,
          1600,
          1600,
          1600,
          1600,
          1600,
          1600,
          1600,
          1600,
          1600,
          1600
         ],
         "xaxis": "x2",
         "y": [
          0.20604848400000006,
          0.20604848400000006,
          0.20604848400000006,
          0.20604848400000006,
          0.20604848400000006,
          0.20604848400000006,
          0.20604848400000006,
          0.20604848400000006,
          0.20604848400000006,
          0.20604848400000006,
          0.20604848400000006,
          0.20604848400000006,
          0.20604848400000006,
          0.20604848400000006,
          0.20604848400000006,
          0.20604848400000006,
          0.20604848400000006,
          0.20604848400000006,
          0.20604848400000006,
          0.20604848400000006,
          0.206728512,
          0.206728512,
          0.206728512,
          0.206728512,
          0.206728512,
          0.206728512,
          0.206728512,
          0.206728512,
          0.206728512,
          0.206728512,
          0.206728512,
          0.206728512,
          0.206728512,
          0.206728512,
          0.206728512,
          0.206728512,
          0.206728512,
          0.206728512,
          0.206728512,
          0.206728512,
          0.206728512,
          0.206728512,
          0.206728512,
          0.206728512,
          0.206728512,
          0.206728512,
          0.20536845600000003,
          0.20536845600000003,
          0.20536845600000003,
          0.20536845600000003,
          0.20536845600000003,
          0.20536845600000003,
          0.20536845600000003,
          0.20536845600000003,
          0.20536845600000003,
          0.20536845600000003,
          0.20536845600000003,
          0.20536845600000003,
          0.20536845600000003,
          0.20536845600000003,
          0.20536845600000003,
          0.20536845600000003,
          0.20536845600000003,
          0.20536845600000003,
          0.20536845600000003,
          0.20536845600000003,
          0.20536845600000003,
          0.20536845600000003,
          0.20536845600000003,
          0.20536845600000003,
          0.20536845600000003,
          0.20536845600000003,
          0.20536845600000003,
          0.20536845600000003,
          0.20536845600000003,
          0.20536845600000003,
          0.20536845600000003,
          0.20536845600000003,
          0.32097321600000006,
          0.32097321600000006,
          0.32097321600000006,
          0.32097321600000006,
          0.206728512,
          0.206728512,
          0.206728512,
          0.206728512,
          0.206728512,
          0.206728512,
          0.206728512,
          0.206728512,
          0.206728512,
          0.206728512,
          0.206728512,
          0.206728512,
          0.206728512,
          0.206728512,
          0.206728512,
          0.206728512,
          0.206728512,
          0.206728512,
          0.206728512,
          0.206728512,
          0.206728512,
          0.206728512,
          0.206728512,
          0.206728512,
          0.206728512,
          0.206728512,
          0.206728512,
          0.206728512,
          0.206728512,
          0.206728512
         ],
         "yaxis": "y2"
        },
        {
         "hovertemplate": "Model Size: %{x:.1f}B params<br>Power/Param: %{y:.2f} W/B<br>Total Power: %{marker.size:.0f}W<br><extra></extra>",
         "marker": {
          "size": [
           4,
           4,
           4,
           4
          ],
          "sizemode": "area",
          "sizeref": 1.272
         },
         "mode": "markers",
         "name": "AMD MI300X-NPS1-SPX-192GB-750W",
         "type": "scatter",
         "x": [
          800,
          800,
          800,
          800
         ],
         "xaxis": "x",
         "y": [
          7.142857142857143,
          7.142857142857143,
          7.142857142857143,
          7.142857142857143
         ],
         "yaxis": "y"
        },
        {
         "hovertemplate": "Model Size: %{x:.1f}B params<br>CO2/Param: %{y:.2f} lbs/B/day<br>Daily CO2: %{marker.size:.0f}lbs<br><extra></extra>",
         "marker": {
          "size": [
           0.43521792,
           0.43521792,
           0.43521792,
           0.43521792
          ],
          "sizemode": "area",
          "sizeref": 0.06919964928000001
         },
         "mode": "markers",
         "name": "AMD MI300X-NPS1-SPX-192GB-750W",
         "showlegend": false,
         "type": "scatter",
         "x": [
          800,
          800,
          800,
          800
         ],
         "xaxis": "x2",
         "y": [
          0.02720112,
          0.02720112,
          0.02720112,
          0.02720112
         ],
         "yaxis": "y2"
        },
        {
         "hovertemplate": "Model Size: %{x:.1f}B params<br>Power/Param: %{y:.2f} W/B<br>Total Power: %{marker.size:.0f}W<br><extra></extra>",
         "marker": {
          "size": [
           7.6,
           7.6
          ],
          "sizemode": "area",
          "sizeref": 1.272
         },
         "mode": "markers",
         "name": "TPU v5e",
         "type": "scatter",
         "x": [
          200,
          200
         ],
         "xaxis": "x",
         "y": [
          27.142857142857142,
          27.142857142857142
         ],
         "yaxis": "y"
        },
        {
         "hovertemplate": "Model Size: %{x:.1f}B params<br>CO2/Param: %{y:.2f} lbs/B/day<br>Daily CO2: %{marker.size:.0f}lbs<br><extra></extra>",
         "marker": {
          "size": [
           0.826914048,
           0.826914048
          ],
          "sizemode": "area",
          "sizeref": 0.06919964928000001
         },
         "mode": "markers",
         "name": "TPU v5e",
         "showlegend": false,
         "type": "scatter",
         "x": [
          200,
          200
         ],
         "xaxis": "x2",
         "y": [
          0.206728512,
          0.206728512
         ],
         "yaxis": "y2"
        },
        {
         "hovertemplate": "Model Size: %{x:.1f}B params<br>Power/Param: %{y:.2f} W/B<br>Total Power: %{marker.size:.0f}W<br><extra></extra>",
         "marker": {
          "size": [
           5.6,
           5.6,
           5.6,
           5.6,
           5.6,
           5.6,
           5.6,
           5.6,
           5.6,
           5.6,
           5.6,
           5.6,
           5.6,
           5.6,
           5.6,
           5.6,
           5.6,
           5.6,
           5.6,
           5.6,
           5.6,
           5.6,
           5.6,
           5.6,
           5.6,
           5.6,
           5.6,
           5.6,
           5.6,
           5.6,
           5.6,
           5.6
          ],
          "sizemode": "area",
          "sizeref": 1.272
         },
         "mode": "markers",
         "name": "NVIDIA GH200 Grace Hopper Superchip 144GB",
         "type": "scatter",
         "x": [
          150,
          150,
          150,
          150,
          150,
          150,
          150,
          150,
          150,
          150,
          150,
          150,
          150,
          150,
          150,
          150,
          150,
          150,
          150,
          150,
          150,
          150,
          150,
          150,
          150,
          150,
          150,
          150,
          150,
          150,
          150,
          150
         ],
         "xaxis": "x",
         "y": [
          80,
          80,
          80,
          80,
          80,
          80,
          80,
          80,
          80,
          80,
          80,
          80,
          80,
          80,
          80,
          80,
          80,
          80,
          80,
          80,
          80,
          80,
          80,
          80,
          80,
          80,
          80,
          80,
          80,
          80,
          80,
          80
         ],
         "yaxis": "y"
        },
        {
         "hovertemplate": "Model Size: %{x:.1f}B params<br>CO2/Param: %{y:.2f} lbs/B/day<br>Daily CO2: %{marker.size:.0f}lbs<br><extra></extra>",
         "marker": {
          "size": [
           0.609305088,
           0.609305088,
           0.609305088,
           0.609305088,
           0.609305088,
           0.609305088,
           0.609305088,
           0.609305088,
           0.609305088,
           0.609305088,
           0.609305088,
           0.609305088,
           0.609305088,
           0.609305088,
           0.609305088,
           0.609305088,
           0.609305088,
           0.609305088,
           0.609305088,
           0.609305088,
           0.609305088,
           0.609305088,
           0.609305088,
           0.609305088,
           0.609305088,
           0.609305088,
           0.609305088,
           0.609305088,
           0.609305088,
           0.609305088,
           0.609305088,
           0.609305088
          ],
          "sizemode": "area",
          "sizeref": 0.06919964928000001
         },
         "mode": "markers",
         "name": "NVIDIA GH200 Grace Hopper Superchip 144GB",
         "showlegend": false,
         "type": "scatter",
         "x": [
          150,
          150,
          150,
          150,
          150,
          150,
          150,
          150,
          150,
          150,
          150,
          150,
          150,
          150,
          150,
          150,
          150,
          150,
          150,
          150,
          150,
          150,
          150,
          150,
          150,
          150,
          150,
          150,
          150,
          150,
          150,
          150
         ],
         "xaxis": "x2",
         "y": [
          0.20310169600000003,
          0.20310169600000003,
          0.20310169600000003,
          0.20310169600000003,
          0.20310169600000003,
          0.20310169600000003,
          0.20310169600000003,
          0.20310169600000003,
          0.20310169600000003,
          0.20310169600000003,
          0.20310169600000003,
          0.20310169600000003,
          0.20310169600000003,
          0.20310169600000003,
          0.20310169600000003,
          0.20310169600000003,
          0.20310169600000003,
          0.20310169600000003,
          0.20310169600000003,
          0.20310169600000003,
          0.20310169600000003,
          0.20310169600000003,
          0.20310169600000003,
          0.20310169600000003,
          0.20310169600000003,
          0.20310169600000003,
          0.20310169600000003,
          0.20310169600000003,
          0.20310169600000003,
          0.20310169600000003,
          0.20310169600000003,
          0.20310169600000003
         ],
         "yaxis": "y2"
        },
        {
         "hovertemplate": "Model Size: %{x:.1f}B params<br>Power/Param: %{y:.2f} W/B<br>Total Power: %{marker.size:.0f}W<br><extra></extra>",
         "marker": {
          "size": [
           11.8,
           11.8,
           11.8,
           11.8,
           60.8,
           60.8,
           60.8,
           60.8
          ],
          "sizemode": "area",
          "sizeref": 1.272
         },
         "mode": "markers",
         "name": "NVIDIA H200-SXM-141GB-CTS",
         "type": "scatter",
         "x": [
          200,
          200,
          200,
          200,
          1600,
          1600,
          1600,
          1600
         ],
         "xaxis": "x",
         "y": [
          168.57142857142858,
          168.57142857142858,
          168.57142857142858,
          168.57142857142858,
          108.57142857142857,
          108.57142857142857,
          108.57142857142857,
          108.57142857142857
         ],
         "yaxis": "y"
        },
        {
         "hovertemplate": "Model Size: %{x:.1f}B params<br>CO2/Param: %{y:.2f} lbs/B/day<br>Daily CO2: %{marker.size:.0f}lbs<br><extra></extra>",
         "marker": {
          "size": [
           1.2838928640000002,
           1.2838928640000002,
           1.2838928640000002,
           1.2838928640000002,
           6.615312384,
           6.615312384,
           6.615312384,
           6.615312384
          ],
          "sizemode": "area",
          "sizeref": 0.06919964928000001
         },
         "mode": "markers",
         "name": "NVIDIA H200-SXM-141GB-CTS",
         "showlegend": false,
         "type": "scatter",
         "x": [
          200,
          200,
          200,
          200,
          1600,
          1600,
          1600,
          1600
         ],
         "xaxis": "x2",
         "y": [
          0.32097321600000006,
          0.32097321600000006,
          0.32097321600000006,
          0.32097321600000006,
          0.206728512,
          0.206728512,
          0.206728512,
          0.206728512
         ],
         "yaxis": "y2"
        },
        {
         "hovertemplate": "Model Size: %{x:.1f}B params<br>Power/Param: %{y:.2f} W/B<br>Total Power: %{marker.size:.0f}W<br><extra></extra>",
         "marker": {
          "size": [
           5.6,
           5.6,
           5.6,
           5.6,
           5.6,
           5.6,
           5.6,
           5.6,
           5.6,
           5.6,
           5.6,
           5.6,
           5.6,
           5.6,
           5.6,
           5.6,
           5.6,
           5.6,
           5.6,
           5.6,
           5.6,
           5.6,
           5.6,
           5.6,
           5.6,
           5.6,
           5.6,
           5.6,
           5.6,
           5.6,
           5.6,
           5.6,
           5.6,
           5.6,
           5.6,
           5.6,
           5.6,
           5.6,
           5.6,
           5.6
          ],
          "sizemode": "area",
          "sizeref": 1.272
         },
         "mode": "markers",
         "name": "NVIDIA GH200 Grace Hopper Superchip 96GB",
         "type": "scatter",
         "x": [
          150,
          150,
          150,
          150,
          150,
          150,
          150,
          150,
          150,
          150,
          150,
          150,
          150,
          150,
          150,
          150,
          150,
          150,
          150,
          150,
          150,
          150,
          150,
          150,
          150,
          150,
          150,
          150,
          150,
          150,
          150,
          150,
          150,
          150,
          150,
          150,
          150,
          150,
          150,
          150
         ],
         "xaxis": "x",
         "y": [
          80,
          80,
          80,
          80,
          80,
          80,
          80,
          80,
          80,
          80,
          80,
          80,
          80,
          80,
          80,
          80,
          80,
          80,
          80,
          80,
          80,
          80,
          80,
          80,
          80,
          80,
          80,
          80,
          80,
          80,
          80,
          80,
          80,
          80,
          80,
          80,
          80,
          80,
          80,
          80
         ],
         "yaxis": "y"
        },
        {
         "hovertemplate": "Model Size: %{x:.1f}B params<br>CO2/Param: %{y:.2f} lbs/B/day<br>Daily CO2: %{marker.size:.0f}lbs<br><extra></extra>",
         "marker": {
          "size": [
           0.609305088,
           0.609305088,
           0.609305088,
           0.609305088,
           0.609305088,
           0.609305088,
           0.609305088,
           0.609305088,
           0.609305088,
           0.609305088,
           0.609305088,
           0.609305088,
           0.609305088,
           0.609305088,
           0.609305088,
           0.609305088,
           0.609305088,
           0.609305088,
           0.609305088,
           0.609305088,
           0.609305088,
           0.609305088,
           0.609305088,
           0.609305088,
           0.609305088,
           0.609305088,
           0.609305088,
           0.609305088,
           0.609305088,
           0.609305088,
           0.609305088,
           0.609305088,
           0.609305088,
           0.609305088,
           0.609305088,
           0.609305088,
           0.609305088,
           0.609305088,
           0.609305088,
           0.609305088
          ],
          "sizemode": "area",
          "sizeref": 0.06919964928000001
         },
         "mode": "markers",
         "name": "NVIDIA GH200 Grace Hopper Superchip 96GB",
         "showlegend": false,
         "type": "scatter",
         "x": [
          150,
          150,
          150,
          150,
          150,
          150,
          150,
          150,
          150,
          150,
          150,
          150,
          150,
          150,
          150,
          150,
          150,
          150,
          150,
          150,
          150,
          150,
          150,
          150,
          150,
          150,
          150,
          150,
          150,
          150,
          150,
          150,
          150,
          150,
          150,
          150,
          150,
          150,
          150,
          150
         ],
         "xaxis": "x2",
         "y": [
          0.20310169600000003,
          0.20310169600000003,
          0.20310169600000003,
          0.20310169600000003,
          0.20310169600000003,
          0.20310169600000003,
          0.20310169600000003,
          0.20310169600000003,
          0.20310169600000003,
          0.20310169600000003,
          0.20310169600000003,
          0.20310169600000003,
          0.20310169600000003,
          0.20310169600000003,
          0.20310169600000003,
          0.20310169600000003,
          0.20310169600000003,
          0.20310169600000003,
          0.20310169600000003,
          0.20310169600000003,
          0.20310169600000003,
          0.20310169600000003,
          0.20310169600000003,
          0.20310169600000003,
          0.20310169600000003,
          0.20310169600000003,
          0.20310169600000003,
          0.20310169600000003,
          0.20310169600000003,
          0.20310169600000003,
          0.20310169600000003,
          0.20310169600000003,
          0.20310169600000003,
          0.20310169600000003,
          0.20310169600000003,
          0.20310169600000003,
          0.20310169600000003,
          0.20310169600000003,
          0.20310169600000003,
          0.20310169600000003
         ],
         "yaxis": "y2"
        },
        {
         "hovertemplate": "Model Size: %{x:.1f}B params<br>Power/Param: %{y:.2f} W/B<br>Total Power: %{marker.size:.0f}W<br><extra></extra>",
         "marker": {
          "size": [
           3.6,
           3.6
          ],
          "sizemode": "area",
          "sizeref": 1.272
         },
         "mode": "markers",
         "name": "UntetherAI speedAI240 Slim",
         "type": "scatter",
         "x": [
          0,
          0
         ],
         "xaxis": "x",
         "y": [
          8.571428571428571,
          8.571428571428571
         ],
         "yaxis": "y"
        },
        {
         "hovertemplate": "Model Size: %{x:.1f}B params<br>CO2/Param: %{y:.2f} lbs/B/day<br>Daily CO2: %{marker.size:.0f}lbs<br><extra></extra>",
         "marker": {
          "size": [
           0.39169612800000003,
           0.39169612800000003
          ],
          "sizemode": "area",
          "sizeref": 0.06919964928000001
         },
         "mode": "markers",
         "name": "UntetherAI speedAI240 Slim",
         "showlegend": false,
         "type": "scatter",
         "x": [
          0,
          0
         ],
         "xaxis": "x2",
         "y": [
          null,
          null
         ],
         "yaxis": "y2"
        },
        {
         "hovertemplate": "Model Size: %{x:.1f}B params<br>Power/Param: %{y:.2f} W/B<br>Total Power: %{marker.size:.0f}W<br><extra></extra>",
         "marker": {
          "size": [
           11,
           11
          ],
          "sizemode": "area",
          "sizeref": 1.272
         },
         "mode": "markers",
         "name": "TPU v6",
         "type": "scatter",
         "x": [
          200,
          200
         ],
         "xaxis": "x",
         "y": [
          39.285714285714285,
          39.285714285714285
         ],
         "yaxis": "y"
        },
        {
         "hovertemplate": "Model Size: %{x:.1f}B params<br>CO2/Param: %{y:.2f} lbs/B/day<br>Daily CO2: %{marker.size:.0f}lbs<br><extra></extra>",
         "marker": {
          "size": [
           1.1968492800000001,
           1.1968492800000001
          ],
          "sizemode": "area",
          "sizeref": 0.06919964928000001
         },
         "mode": "markers",
         "name": "TPU v6",
         "showlegend": false,
         "type": "scatter",
         "x": [
          200,
          200
         ],
         "xaxis": "x2",
         "y": [
          0.29921232000000003,
          0.29921232000000003
         ],
         "yaxis": "y2"
        },
        {
         "hovertemplate": "Model Size: %{x:.1f}B params<br>Power/Param: %{y:.2f} W/B<br>Total Power: %{marker.size:.0f}W<br><extra></extra>",
         "marker": {
          "size": [
           2.6,
           2.6,
           2.6,
           2.6
          ],
          "sizemode": "area",
          "sizeref": 1.272
         },
         "mode": "markers",
         "name": "NVIDIA B200-SXM-180GB",
         "type": "scatter",
         "x": [
          0,
          0,
          0,
          0
         ],
         "xaxis": "x",
         "y": [
          37.142857142857146,
          37.142857142857146,
          37.142857142857146,
          37.142857142857146
         ],
         "yaxis": "y"
        },
        {
         "hovertemplate": "Model Size: %{x:.1f}B params<br>CO2/Param: %{y:.2f} lbs/B/day<br>Daily CO2: %{marker.size:.0f}lbs<br><extra></extra>",
         "marker": {
          "size": [
           0.282891648,
           0.282891648,
           0.282891648,
           0.282891648
          ],
          "sizemode": "area",
          "sizeref": 0.06919964928000001
         },
         "mode": "markers",
         "name": "NVIDIA B200-SXM-180GB",
         "showlegend": false,
         "type": "scatter",
         "x": [
          0,
          0,
          0,
          0
         ],
         "xaxis": "x2",
         "y": [
          null,
          null,
          null,
          null
         ],
         "yaxis": "y2"
        },
        {
         "hovertemplate": "Model Size: %{x:.1f}B params<br>Power/Param: %{y:.2f} W/B<br>Total Power: %{marker.size:.0f}W<br><extra></extra>",
         "marker": {
          "size": [
           2.8,
           2.8,
           2.8,
           2.8
          ],
          "sizemode": "area",
          "sizeref": 1.272
         },
         "mode": "markers",
         "name": "UntetherAI speedAI240 Preview",
         "type": "scatter",
         "x": [
          0,
          0,
          0,
          0
         ],
         "xaxis": "x",
         "y": [
          40,
          40,
          20,
          20
         ],
         "yaxis": "y"
        },
        {
         "hovertemplate": "Model Size: %{x:.1f}B params<br>CO2/Param: %{y:.2f} lbs/B/day<br>Daily CO2: %{marker.size:.0f}lbs<br><extra></extra>",
         "marker": {
          "size": [
           0.304652544,
           0.304652544,
           0.304652544,
           0.304652544
          ],
          "sizemode": "area",
          "sizeref": 0.06919964928000001
         },
         "mode": "markers",
         "name": "UntetherAI speedAI240 Preview",
         "showlegend": false,
         "type": "scatter",
         "x": [
          0,
          0,
          0,
          0
         ],
         "xaxis": "x2",
         "y": [
          null,
          null,
          null,
          null
         ],
         "yaxis": "y2"
        }
       ],
       "layout": {
        "annotations": [
         {
          "font": {
           "size": 16
          },
          "showarrow": false,
          "text": "Power Efficiency vs Model Size",
          "x": 0.225,
          "xanchor": "center",
          "xref": "paper",
          "y": 1,
          "yanchor": "bottom",
          "yref": "paper"
         },
         {
          "font": {
           "size": 16
          },
          "showarrow": false,
          "text": "CO2 Impact vs Model Size",
          "x": 0.775,
          "xanchor": "center",
          "xref": "paper",
          "y": 1,
          "yanchor": "bottom",
          "yref": "paper"
         }
        ],
        "height": 700,
        "showlegend": true,
        "template": {
         "data": {
          "bar": [
           {
            "error_x": {
             "color": "#2a3f5f"
            },
            "error_y": {
             "color": "#2a3f5f"
            },
            "marker": {
             "line": {
              "color": "#E5ECF6",
              "width": 0.5
             },
             "pattern": {
              "fillmode": "overlay",
              "size": 10,
              "solidity": 0.2
             }
            },
            "type": "bar"
           }
          ],
          "barpolar": [
           {
            "marker": {
             "line": {
              "color": "#E5ECF6",
              "width": 0.5
             },
             "pattern": {
              "fillmode": "overlay",
              "size": 10,
              "solidity": 0.2
             }
            },
            "type": "barpolar"
           }
          ],
          "carpet": [
           {
            "aaxis": {
             "endlinecolor": "#2a3f5f",
             "gridcolor": "white",
             "linecolor": "white",
             "minorgridcolor": "white",
             "startlinecolor": "#2a3f5f"
            },
            "baxis": {
             "endlinecolor": "#2a3f5f",
             "gridcolor": "white",
             "linecolor": "white",
             "minorgridcolor": "white",
             "startlinecolor": "#2a3f5f"
            },
            "type": "carpet"
           }
          ],
          "choropleth": [
           {
            "colorbar": {
             "outlinewidth": 0,
             "ticks": ""
            },
            "type": "choropleth"
           }
          ],
          "contour": [
           {
            "colorbar": {
             "outlinewidth": 0,
             "ticks": ""
            },
            "colorscale": [
             [
              0,
              "#0d0887"
             ],
             [
              0.1111111111111111,
              "#46039f"
             ],
             [
              0.2222222222222222,
              "#7201a8"
             ],
             [
              0.3333333333333333,
              "#9c179e"
             ],
             [
              0.4444444444444444,
              "#bd3786"
             ],
             [
              0.5555555555555556,
              "#d8576b"
             ],
             [
              0.6666666666666666,
              "#ed7953"
             ],
             [
              0.7777777777777778,
              "#fb9f3a"
             ],
             [
              0.8888888888888888,
              "#fdca26"
             ],
             [
              1,
              "#f0f921"
             ]
            ],
            "type": "contour"
           }
          ],
          "contourcarpet": [
           {
            "colorbar": {
             "outlinewidth": 0,
             "ticks": ""
            },
            "type": "contourcarpet"
           }
          ],
          "heatmap": [
           {
            "colorbar": {
             "outlinewidth": 0,
             "ticks": ""
            },
            "colorscale": [
             [
              0,
              "#0d0887"
             ],
             [
              0.1111111111111111,
              "#46039f"
             ],
             [
              0.2222222222222222,
              "#7201a8"
             ],
             [
              0.3333333333333333,
              "#9c179e"
             ],
             [
              0.4444444444444444,
              "#bd3786"
             ],
             [
              0.5555555555555556,
              "#d8576b"
             ],
             [
              0.6666666666666666,
              "#ed7953"
             ],
             [
              0.7777777777777778,
              "#fb9f3a"
             ],
             [
              0.8888888888888888,
              "#fdca26"
             ],
             [
              1,
              "#f0f921"
             ]
            ],
            "type": "heatmap"
           }
          ],
          "heatmapgl": [
           {
            "colorbar": {
             "outlinewidth": 0,
             "ticks": ""
            },
            "colorscale": [
             [
              0,
              "#0d0887"
             ],
             [
              0.1111111111111111,
              "#46039f"
             ],
             [
              0.2222222222222222,
              "#7201a8"
             ],
             [
              0.3333333333333333,
              "#9c179e"
             ],
             [
              0.4444444444444444,
              "#bd3786"
             ],
             [
              0.5555555555555556,
              "#d8576b"
             ],
             [
              0.6666666666666666,
              "#ed7953"
             ],
             [
              0.7777777777777778,
              "#fb9f3a"
             ],
             [
              0.8888888888888888,
              "#fdca26"
             ],
             [
              1,
              "#f0f921"
             ]
            ],
            "type": "heatmapgl"
           }
          ],
          "histogram": [
           {
            "marker": {
             "pattern": {
              "fillmode": "overlay",
              "size": 10,
              "solidity": 0.2
             }
            },
            "type": "histogram"
           }
          ],
          "histogram2d": [
           {
            "colorbar": {
             "outlinewidth": 0,
             "ticks": ""
            },
            "colorscale": [
             [
              0,
              "#0d0887"
             ],
             [
              0.1111111111111111,
              "#46039f"
             ],
             [
              0.2222222222222222,
              "#7201a8"
             ],
             [
              0.3333333333333333,
              "#9c179e"
             ],
             [
              0.4444444444444444,
              "#bd3786"
             ],
             [
              0.5555555555555556,
              "#d8576b"
             ],
             [
              0.6666666666666666,
              "#ed7953"
             ],
             [
              0.7777777777777778,
              "#fb9f3a"
             ],
             [
              0.8888888888888888,
              "#fdca26"
             ],
             [
              1,
              "#f0f921"
             ]
            ],
            "type": "histogram2d"
           }
          ],
          "histogram2dcontour": [
           {
            "colorbar": {
             "outlinewidth": 0,
             "ticks": ""
            },
            "colorscale": [
             [
              0,
              "#0d0887"
             ],
             [
              0.1111111111111111,
              "#46039f"
             ],
             [
              0.2222222222222222,
              "#7201a8"
             ],
             [
              0.3333333333333333,
              "#9c179e"
             ],
             [
              0.4444444444444444,
              "#bd3786"
             ],
             [
              0.5555555555555556,
              "#d8576b"
             ],
             [
              0.6666666666666666,
              "#ed7953"
             ],
             [
              0.7777777777777778,
              "#fb9f3a"
             ],
             [
              0.8888888888888888,
              "#fdca26"
             ],
             [
              1,
              "#f0f921"
             ]
            ],
            "type": "histogram2dcontour"
           }
          ],
          "mesh3d": [
           {
            "colorbar": {
             "outlinewidth": 0,
             "ticks": ""
            },
            "type": "mesh3d"
           }
          ],
          "parcoords": [
           {
            "line": {
             "colorbar": {
              "outlinewidth": 0,
              "ticks": ""
             }
            },
            "type": "parcoords"
           }
          ],
          "pie": [
           {
            "automargin": true,
            "type": "pie"
           }
          ],
          "scatter": [
           {
            "fillpattern": {
             "fillmode": "overlay",
             "size": 10,
             "solidity": 0.2
            },
            "type": "scatter"
           }
          ],
          "scatter3d": [
           {
            "line": {
             "colorbar": {
              "outlinewidth": 0,
              "ticks": ""
             }
            },
            "marker": {
             "colorbar": {
              "outlinewidth": 0,
              "ticks": ""
             }
            },
            "type": "scatter3d"
           }
          ],
          "scattercarpet": [
           {
            "marker": {
             "colorbar": {
              "outlinewidth": 0,
              "ticks": ""
             }
            },
            "type": "scattercarpet"
           }
          ],
          "scattergeo": [
           {
            "marker": {
             "colorbar": {
              "outlinewidth": 0,
              "ticks": ""
             }
            },
            "type": "scattergeo"
           }
          ],
          "scattergl": [
           {
            "marker": {
             "colorbar": {
              "outlinewidth": 0,
              "ticks": ""
             }
            },
            "type": "scattergl"
           }
          ],
          "scattermapbox": [
           {
            "marker": {
             "colorbar": {
              "outlinewidth": 0,
              "ticks": ""
             }
            },
            "type": "scattermapbox"
           }
          ],
          "scatterpolar": [
           {
            "marker": {
             "colorbar": {
              "outlinewidth": 0,
              "ticks": ""
             }
            },
            "type": "scatterpolar"
           }
          ],
          "scatterpolargl": [
           {
            "marker": {
             "colorbar": {
              "outlinewidth": 0,
              "ticks": ""
             }
            },
            "type": "scatterpolargl"
           }
          ],
          "scatterternary": [
           {
            "marker": {
             "colorbar": {
              "outlinewidth": 0,
              "ticks": ""
             }
            },
            "type": "scatterternary"
           }
          ],
          "surface": [
           {
            "colorbar": {
             "outlinewidth": 0,
             "ticks": ""
            },
            "colorscale": [
             [
              0,
              "#0d0887"
             ],
             [
              0.1111111111111111,
              "#46039f"
             ],
             [
              0.2222222222222222,
              "#7201a8"
             ],
             [
              0.3333333333333333,
              "#9c179e"
             ],
             [
              0.4444444444444444,
              "#bd3786"
             ],
             [
              0.5555555555555556,
              "#d8576b"
             ],
             [
              0.6666666666666666,
              "#ed7953"
             ],
             [
              0.7777777777777778,
              "#fb9f3a"
             ],
             [
              0.8888888888888888,
              "#fdca26"
             ],
             [
              1,
              "#f0f921"
             ]
            ],
            "type": "surface"
           }
          ],
          "table": [
           {
            "cells": {
             "fill": {
              "color": "#EBF0F8"
             },
             "line": {
              "color": "white"
             }
            },
            "header": {
             "fill": {
              "color": "#C8D4E3"
             },
             "line": {
              "color": "white"
             }
            },
            "type": "table"
           }
          ]
         },
         "layout": {
          "annotationdefaults": {
           "arrowcolor": "#2a3f5f",
           "arrowhead": 0,
           "arrowwidth": 1
          },
          "autotypenumbers": "strict",
          "coloraxis": {
           "colorbar": {
            "outlinewidth": 0,
            "ticks": ""
           }
          },
          "colorscale": {
           "diverging": [
            [
             0,
             "#8e0152"
            ],
            [
             0.1,
             "#c51b7d"
            ],
            [
             0.2,
             "#de77ae"
            ],
            [
             0.3,
             "#f1b6da"
            ],
            [
             0.4,
             "#fde0ef"
            ],
            [
             0.5,
             "#f7f7f7"
            ],
            [
             0.6,
             "#e6f5d0"
            ],
            [
             0.7,
             "#b8e186"
            ],
            [
             0.8,
             "#7fbc41"
            ],
            [
             0.9,
             "#4d9221"
            ],
            [
             1,
             "#276419"
            ]
           ],
           "sequential": [
            [
             0,
             "#0d0887"
            ],
            [
             0.1111111111111111,
             "#46039f"
            ],
            [
             0.2222222222222222,
             "#7201a8"
            ],
            [
             0.3333333333333333,
             "#9c179e"
            ],
            [
             0.4444444444444444,
             "#bd3786"
            ],
            [
             0.5555555555555556,
             "#d8576b"
            ],
            [
             0.6666666666666666,
             "#ed7953"
            ],
            [
             0.7777777777777778,
             "#fb9f3a"
            ],
            [
             0.8888888888888888,
             "#fdca26"
            ],
            [
             1,
             "#f0f921"
            ]
           ],
           "sequentialminus": [
            [
             0,
             "#0d0887"
            ],
            [
             0.1111111111111111,
             "#46039f"
            ],
            [
             0.2222222222222222,
             "#7201a8"
            ],
            [
             0.3333333333333333,
             "#9c179e"
            ],
            [
             0.4444444444444444,
             "#bd3786"
            ],
            [
             0.5555555555555556,
             "#d8576b"
            ],
            [
             0.6666666666666666,
             "#ed7953"
            ],
            [
             0.7777777777777778,
             "#fb9f3a"
            ],
            [
             0.8888888888888888,
             "#fdca26"
            ],
            [
             1,
             "#f0f921"
            ]
           ]
          },
          "colorway": [
           "#636efa",
           "#EF553B",
           "#00cc96",
           "#ab63fa",
           "#FFA15A",
           "#19d3f3",
           "#FF6692",
           "#B6E880",
           "#FF97FF",
           "#FECB52"
          ],
          "font": {
           "color": "#2a3f5f"
          },
          "geo": {
           "bgcolor": "white",
           "lakecolor": "white",
           "landcolor": "#E5ECF6",
           "showlakes": true,
           "showland": true,
           "subunitcolor": "white"
          },
          "hoverlabel": {
           "align": "left"
          },
          "hovermode": "closest",
          "mapbox": {
           "style": "light"
          },
          "paper_bgcolor": "white",
          "plot_bgcolor": "#E5ECF6",
          "polar": {
           "angularaxis": {
            "gridcolor": "white",
            "linecolor": "white",
            "ticks": ""
           },
           "bgcolor": "#E5ECF6",
           "radialaxis": {
            "gridcolor": "white",
            "linecolor": "white",
            "ticks": ""
           }
          },
          "scene": {
           "xaxis": {
            "backgroundcolor": "#E5ECF6",
            "gridcolor": "white",
            "gridwidth": 2,
            "linecolor": "white",
            "showbackground": true,
            "ticks": "",
            "zerolinecolor": "white"
           },
           "yaxis": {
            "backgroundcolor": "#E5ECF6",
            "gridcolor": "white",
            "gridwidth": 2,
            "linecolor": "white",
            "showbackground": true,
            "ticks": "",
            "zerolinecolor": "white"
           },
           "zaxis": {
            "backgroundcolor": "#E5ECF6",
            "gridcolor": "white",
            "gridwidth": 2,
            "linecolor": "white",
            "showbackground": true,
            "ticks": "",
            "zerolinecolor": "white"
           }
          },
          "shapedefaults": {
           "line": {
            "color": "#2a3f5f"
           }
          },
          "ternary": {
           "aaxis": {
            "gridcolor": "white",
            "linecolor": "white",
            "ticks": ""
           },
           "baxis": {
            "gridcolor": "white",
            "linecolor": "white",
            "ticks": ""
           },
           "bgcolor": "#E5ECF6",
           "caxis": {
            "gridcolor": "white",
            "linecolor": "white",
            "ticks": ""
           }
          },
          "title": {
           "x": 0.05
          },
          "xaxis": {
           "automargin": true,
           "gridcolor": "white",
           "linecolor": "white",
           "ticks": "",
           "title": {
            "standoff": 15
           },
           "zerolinecolor": "white",
           "zerolinewidth": 2
          },
          "yaxis": {
           "automargin": true,
           "gridcolor": "white",
           "linecolor": "white",
           "ticks": "",
           "title": {
            "standoff": 15
           },
           "zerolinecolor": "white",
           "zerolinewidth": 2
          }
         }
        },
        "title": {
         "text": "Model Size Impact Analysis"
        },
        "width": 1500,
        "xaxis": {
         "anchor": "y",
         "domain": [
          0,
          0.45
         ],
         "title": {
          "text": "Model Size (Billion Parameters)"
         },
         "type": "log"
        },
        "xaxis2": {
         "anchor": "y2",
         "domain": [
          0.55,
          1
         ],
         "title": {
          "text": "Model Size (Billion Parameters)"
         },
         "type": "log"
        },
        "yaxis": {
         "anchor": "x",
         "domain": [
          0,
          1
         ],
         "title": {
          "text": "Watts per Billion Parameters"
         },
         "type": "log"
        },
        "yaxis2": {
         "anchor": "x2",
         "domain": [
          0,
          1
         ],
         "title": {
          "text": "Daily CO2 (lbs) per Billion Parameters"
         },
         "type": "log"
        }
       }
      },
      "text/html": [
       "<div>                            <div id=\"000f1b94-80d4-4723-9813-422b1a638c3d\" class=\"plotly-graph-div\" style=\"height:700px; width:1500px;\"></div>            <script type=\"text/javascript\">                require([\"plotly\"], function(Plotly) {                    window.PLOTLYENV=window.PLOTLYENV || {};                                    if (document.getElementById(\"000f1b94-80d4-4723-9813-422b1a638c3d\")) {                    Plotly.newPlot(                        \"000f1b94-80d4-4723-9813-422b1a638c3d\",                        [{\"hovertemplate\":\"Model Size: %{x:.1f}B params\\u003cbr\\u003ePower\\u002fParam: %{y:.2f} W\\u002fB\\u003cbr\\u003eTotal Power: %{marker.size:.0f}W\\u003cbr\\u003e\\u003cextra\\u003e\\u003c\\u002fextra\\u003e\",\"marker\":{\"size\":[3.6,3.6,3.6,3.6,3.6,3.6,3.6,3.6,2.0,2.0,2.0,2.0],\"sizemode\":\"area\",\"sizeref\":1.272},\"mode\":\"markers\",\"name\":\"AMD Instinct MI300X-NPS1-SPX-192GB-750W\",\"x\":[100.0,100.0,100.0,100.0,800.0,800.0,800.0,800.0,800.0,800.0,800.0,800.0],\"y\":[51.42857142857143,51.42857142857143,51.42857142857143,51.42857142857143,6.428571428571429,6.428571428571429,6.428571428571429,6.428571428571429,3.5714285714285716,3.5714285714285716,3.5714285714285716,3.5714285714285716],\"type\":\"scatter\",\"xaxis\":\"x\",\"yaxis\":\"y\"},{\"hovertemplate\":\"Model Size: %{x:.1f}B params\\u003cbr\\u003eCO2\\u002fParam: %{y:.2f} lbs\\u002fB\\u002fday\\u003cbr\\u003eDaily CO2: %{marker.size:.0f}lbs\\u003cbr\\u003e\\u003cextra\\u003e\\u003c\\u002fextra\\u003e\",\"marker\":{\"size\":[0.39169612800000003,0.39169612800000003,0.39169612800000003,0.39169612800000003,0.39169612800000003,0.39169612800000003,0.39169612800000003,0.39169612800000003,0.21760896,0.21760896,0.21760896,0.21760896],\"sizemode\":\"area\",\"sizeref\":0.06919964928000001},\"mode\":\"markers\",\"name\":\"AMD Instinct MI300X-NPS1-SPX-192GB-750W\",\"showlegend\":false,\"x\":[100.0,100.0,100.0,100.0,800.0,800.0,800.0,800.0,800.0,800.0,800.0,800.0],\"y\":[0.19584806400000002,0.19584806400000002,0.19584806400000002,0.19584806400000002,0.024481008000000002,0.024481008000000002,0.024481008000000002,0.024481008000000002,0.01360056,0.01360056,0.01360056,0.01360056],\"type\":\"scatter\",\"xaxis\":\"x2\",\"yaxis\":\"y2\"},{\"hovertemplate\":\"Model Size: %{x:.1f}B params\\u003cbr\\u003ePower\\u002fParam: %{y:.2f} W\\u002fB\\u003cbr\\u003eTotal Power: %{marker.size:.0f}W\\u003cbr\\u003e\\u003cextra\\u003e\\u003c\\u002fextra\\u003e\",\"marker\":{\"size\":[22.8,22.8,22.8,22.8,22.8,22.8,22.8,22.8,22.8,22.8,22.8,22.8,22.8,22.8,22.8,22.8,22.8,22.8,22.8,22.8,22.8,22.8,22.8,22.8,24.0,24.0,24.0,24.0,24.0,24.0,24.0,24.0,24.0,24.0,24.0,24.0,24.0,24.0,24.0,24.0,24.0,24.0,19.6,19.6,19.6,19.6,19.6,19.6,19.6,19.6,19.6,19.6,19.6,19.6,19.6,19.6,19.6,19.6,38.2,38.2,38.2,38.2,38.2,38.2,38.2,38.2,38.2,38.2,38.2,38.2,38.2,38.2,38.2,38.2],\"sizemode\":\"area\",\"sizeref\":1.272},\"mode\":\"markers\",\"name\":\"NVIDIA H100-NVL-94GB\",\"x\":[0.0,0.0,0.0,0.0,0.0,0.0,0.0,0.0,0.0,0.0,0.0,0.0,0.0,0.0,0.0,0.0,0.0,0.0,0.0,0.0,0.0,0.0,0.0,0.0,0.0,0.0,0.0,0.0,0.0,0.0,0.0,0.0,0.0,0.0,0.0,0.0,0.0,0.0,0.0,0.0,0.0,0.0,0.0,0.0,0.0,0.0,0.0,0.0,0.0,0.0,0.0,0.0,0.0,0.0,0.0,0.0,0.0,0.0,0.0,0.0,0.0,0.0,0.0,0.0,0.0,0.0,0.0,0.0,0.0,0.0,0.0,0.0,0.0,0.0],\"y\":[3.257142857142857,3.257142857142857,3.257142857142857,3.257142857142857,3.257142857142857,3.257142857142857,3.257142857142857,3.257142857142857,3.257142857142857,3.257142857142857,3.257142857142857,3.257142857142857,3.257142857142857,3.257142857142857,3.257142857142857,3.257142857142857,3.257142857142857,3.257142857142857,3.257142857142857,3.257142857142857,3.257142857142857,3.257142857142857,3.257142857142857,3.257142857142857,3.4285714285714284,3.4285714285714284,3.4285714285714284,3.4285714285714284,3.4285714285714284,3.4285714285714284,3.4285714285714284,3.4285714285714284,3.4285714285714284,3.4285714285714284,3.4285714285714284,3.4285714285714284,3.4285714285714284,3.4285714285714284,3.4285714285714284,3.4285714285714284,3.4285714285714284,3.4285714285714284,2.8,2.8,2.8,2.8,2.8,2.8,2.8,2.8,2.8,2.8,2.8,2.8,2.8,2.8,2.8,2.8,2.7285714285714286,2.7285714285714286,2.7285714285714286,2.7285714285714286,2.7285714285714286,2.7285714285714286,2.7285714285714286,2.7285714285714286,2.7285714285714286,2.7285714285714286,2.7285714285714286,2.7285714285714286,2.7285714285714286,2.7285714285714286,2.7285714285714286,2.7285714285714286],\"type\":\"scatter\",\"xaxis\":\"x\",\"yaxis\":\"y\"},{\"hovertemplate\":\"Model Size: %{x:.1f}B params\\u003cbr\\u003eCO2\\u002fParam: %{y:.2f} lbs\\u002fB\\u002fday\\u003cbr\\u003eDaily CO2: %{marker.size:.0f}lbs\\u003cbr\\u003e\\u003cextra\\u003e\\u003c\\u002fextra\\u003e\",\"marker\":{\"size\":[2.480742144,2.480742144,2.480742144,2.480742144,2.480742144,2.480742144,2.480742144,2.480742144,2.480742144,2.480742144,2.480742144,2.480742144,2.480742144,2.480742144,2.480742144,2.480742144,2.480742144,2.480742144,2.480742144,2.480742144,2.480742144,2.480742144,2.480742144,2.480742144,2.6113075200000004,2.6113075200000004,2.6113075200000004,2.6113075200000004,2.6113075200000004,2.6113075200000004,2.6113075200000004,2.6113075200000004,2.6113075200000004,2.6113075200000004,2.6113075200000004,2.6113075200000004,2.6113075200000004,2.6113075200000004,2.6113075200000004,2.6113075200000004,2.6113075200000004,2.6113075200000004,2.132567808,2.132567808,2.132567808,2.132567808,2.132567808,2.132567808,2.132567808,2.132567808,2.132567808,2.132567808,2.132567808,2.132567808,2.132567808,2.132567808,2.132567808,2.132567808,4.156331136,4.156331136,4.156331136,4.156331136,4.156331136,4.156331136,4.156331136,4.156331136,4.156331136,4.156331136,4.156331136,4.156331136,4.156331136,4.156331136,4.156331136,4.156331136],\"sizemode\":\"area\",\"sizeref\":0.06919964928000001},\"mode\":\"markers\",\"name\":\"NVIDIA H100-NVL-94GB\",\"showlegend\":false,\"x\":[0.0,0.0,0.0,0.0,0.0,0.0,0.0,0.0,0.0,0.0,0.0,0.0,0.0,0.0,0.0,0.0,0.0,0.0,0.0,0.0,0.0,0.0,0.0,0.0,0.0,0.0,0.0,0.0,0.0,0.0,0.0,0.0,0.0,0.0,0.0,0.0,0.0,0.0,0.0,0.0,0.0,0.0,0.0,0.0,0.0,0.0,0.0,0.0,0.0,0.0,0.0,0.0,0.0,0.0,0.0,0.0,0.0,0.0,0.0,0.0,0.0,0.0,0.0,0.0,0.0,0.0,0.0,0.0,0.0,0.0,0.0,0.0,0.0,0.0],\"y\":[null,null,null,null,null,null,null,null,null,null,null,null,null,null,null,null,null,null,null,null,null,null,null,null,null,null,null,null,null,null,null,null,null,null,null,null,null,null,null,null,null,null,null,null,null,null,null,null,null,null,null,null,null,null,null,null,null,null,null,null,null,null,null,null,null,null,null,null,null,null,null,null,null,null],\"type\":\"scatter\",\"xaxis\":\"x2\",\"yaxis\":\"y2\"},{\"hovertemplate\":\"Model Size: %{x:.1f}B params\\u003cbr\\u003ePower\\u002fParam: %{y:.2f} W\\u002fB\\u003cbr\\u003eTotal Power: %{marker.size:.0f}W\\u003cbr\\u003e\\u003cextra\\u003e\\u003c\\u002fextra\\u003e\",\"marker\":{\"size\":[31.6,31.6,31.6,31.6,31.6,31.6,31.6,31.6,31.6,31.6,31.6,31.6,31.6,31.6,31.6,31.6,31.6,31.6,31.6,31.6,31.6,31.6,31.6,31.6,13.8,13.8,13.8,13.8,13.8,13.8,13.8,13.8,13.8,13.8,15.0,15.0,15.0,15.0,15.0,15.0,15.0,15.0,15.0,15.0,15.0,15.0,15.0,15.0,19.2,19.2,19.2,19.2,19.2,19.2,19.2,19.2,18.6,18.6,18.6,18.6,18.6,18.6,18.6,18.6,18.6,18.6,18.6,18.6,18.6,18.6],\"sizemode\":\"area\",\"sizeref\":1.272},\"mode\":\"markers\",\"name\":\"NVIDIA H100-PCIe-80GB\",\"x\":[560.0,560.0,560.0,560.0,560.0,560.0,560.0,560.0,560.0,560.0,560.0,560.0,560.0,560.0,560.0,560.0,560.0,560.0,560.0,560.0,560.0,560.0,560.0,560.0,140.0,140.0,140.0,140.0,140.0,140.0,140.0,140.0,140.0,140.0,140.0,140.0,140.0,140.0,140.0,140.0,140.0,140.0,140.0,140.0,140.0,140.0,140.0,140.0,280.0,280.0,280.0,280.0,280.0,280.0,280.0,280.0,280.0,280.0,280.0,280.0,280.0,280.0,280.0,280.0,280.0,280.0,280.0,280.0,280.0,280.0],\"y\":[2.257142857142857,2.257142857142857,2.257142857142857,2.257142857142857,2.257142857142857,2.257142857142857,2.257142857142857,2.257142857142857,2.257142857142857,2.257142857142857,2.257142857142857,2.257142857142857,2.257142857142857,2.257142857142857,2.257142857142857,2.257142857142857,2.257142857142857,2.257142857142857,2.257142857142857,2.257142857142857,2.257142857142857,2.257142857142857,2.257142857142857,2.257142857142857,3.942857142857143,3.942857142857143,3.942857142857143,3.942857142857143,3.942857142857143,3.942857142857143,3.942857142857143,3.942857142857143,3.942857142857143,3.942857142857143,4.285714285714286,4.285714285714286,4.285714285714286,4.285714285714286,4.285714285714286,4.285714285714286,4.285714285714286,4.285714285714286,4.285714285714286,4.285714285714286,4.285714285714286,4.285714285714286,4.285714285714286,4.285714285714286,2.742857142857143,2.742857142857143,2.742857142857143,2.742857142857143,2.742857142857143,2.742857142857143,2.742857142857143,2.742857142857143,2.657142857142857,2.657142857142857,2.657142857142857,2.657142857142857,2.657142857142857,2.657142857142857,2.657142857142857,2.657142857142857,2.657142857142857,2.657142857142857,2.657142857142857,2.657142857142857,2.657142857142857,2.657142857142857],\"type\":\"scatter\",\"xaxis\":\"x\",\"yaxis\":\"y\"},{\"hovertemplate\":\"Model Size: %{x:.1f}B params\\u003cbr\\u003eCO2\\u002fParam: %{y:.2f} lbs\\u002fB\\u002fday\\u003cbr\\u003eDaily CO2: %{marker.size:.0f}lbs\\u003cbr\\u003e\\u003cextra\\u003e\\u003c\\u002fextra\\u003e\",\"marker\":{\"size\":[3.438221568000001,3.438221568000001,3.438221568000001,3.438221568000001,3.438221568000001,3.438221568000001,3.438221568000001,3.438221568000001,3.438221568000001,3.438221568000001,3.438221568000001,3.438221568000001,3.438221568000001,3.438221568000001,3.438221568000001,3.438221568000001,3.438221568000001,3.438221568000001,3.438221568000001,3.438221568000001,3.438221568000001,3.438221568000001,3.438221568000001,3.438221568000001,1.501501824,1.501501824,1.501501824,1.501501824,1.501501824,1.501501824,1.501501824,1.501501824,1.501501824,1.501501824,1.6320671999999998,1.6320671999999998,1.6320671999999998,1.6320671999999998,1.6320671999999998,1.6320671999999998,1.6320671999999998,1.6320671999999998,1.6320671999999998,1.6320671999999998,1.6320671999999998,1.6320671999999998,1.6320671999999998,1.6320671999999998,2.089046016,2.089046016,2.089046016,2.089046016,2.089046016,2.089046016,2.089046016,2.089046016,2.0237633280000003,2.0237633280000003,2.0237633280000003,2.0237633280000003,2.0237633280000003,2.0237633280000003,2.0237633280000003,2.0237633280000003,2.0237633280000003,2.0237633280000003,2.0237633280000003,2.0237633280000003,2.0237633280000003,2.0237633280000003],\"sizemode\":\"area\",\"sizeref\":0.06919964928000001},\"mode\":\"markers\",\"name\":\"NVIDIA H100-PCIe-80GB\",\"showlegend\":false,\"x\":[560.0,560.0,560.0,560.0,560.0,560.0,560.0,560.0,560.0,560.0,560.0,560.0,560.0,560.0,560.0,560.0,560.0,560.0,560.0,560.0,560.0,560.0,560.0,560.0,140.0,140.0,140.0,140.0,140.0,140.0,140.0,140.0,140.0,140.0,140.0,140.0,140.0,140.0,140.0,140.0,140.0,140.0,140.0,140.0,140.0,140.0,140.0,140.0,280.0,280.0,280.0,280.0,280.0,280.0,280.0,280.0,280.0,280.0,280.0,280.0,280.0,280.0,280.0,280.0,280.0,280.0,280.0,280.0,280.0,280.0],\"y\":[0.3069840685714286,0.3069840685714286,0.3069840685714286,0.3069840685714286,0.3069840685714286,0.3069840685714286,0.3069840685714286,0.3069840685714286,0.3069840685714286,0.3069840685714286,0.3069840685714286,0.3069840685714286,0.3069840685714286,0.3069840685714286,0.3069840685714286,0.3069840685714286,0.3069840685714286,0.3069840685714286,0.3069840685714286,0.3069840685714286,0.3069840685714286,0.3069840685714286,0.3069840685714286,0.3069840685714286,0.5362506514285714,0.5362506514285714,0.5362506514285714,0.5362506514285714,0.5362506514285714,0.5362506514285714,0.5362506514285714,0.5362506514285714,0.5362506514285714,0.5362506514285714,0.5828811428571429,0.5828811428571429,0.5828811428571429,0.5828811428571429,0.5828811428571429,0.5828811428571429,0.5828811428571429,0.5828811428571429,0.5828811428571429,0.5828811428571429,0.5828811428571429,0.5828811428571429,0.5828811428571429,0.5828811428571429,0.3730439314285715,0.3730439314285715,0.3730439314285715,0.3730439314285715,0.3730439314285715,0.3730439314285715,0.3730439314285715,0.3730439314285715,0.3613863085714286,0.3613863085714286,0.3613863085714286,0.3613863085714286,0.3613863085714286,0.3613863085714286,0.3613863085714286,0.3613863085714286,0.3613863085714286,0.3613863085714286,0.3613863085714286,0.3613863085714286,0.3613863085714286,0.3613863085714286],\"type\":\"scatter\",\"xaxis\":\"x2\",\"yaxis\":\"y2\"},{\"hovertemplate\":\"Model Size: %{x:.1f}B params\\u003cbr\\u003ePower\\u002fParam: %{y:.2f} W\\u002fB\\u003cbr\\u003eTotal Power: %{marker.size:.0f}W\\u003cbr\\u003e\\u003cextra\\u003e\\u003c\\u002fextra\\u003e\",\"marker\":{\"size\":[61.2,61.2,61.2,61.2,61.2,61.2,61.2,61.2,61.2,61.2,61.2,61.2,61.2,61.2,61.2,61.2,61.2,61.2,61.2,61.2,61.2,61.2,61.2,61.2,34.8,34.8,34.8,34.8,34.8,34.8,34.8,34.8,34.8,34.8,34.8,34.8,34.8,34.8,34.8,34.8,34.8,34.8,34.8,34.8,34.8,34.8,34.8,34.8,34.8,34.8,34.8,34.8,34.8,34.8,34.8,34.8,34.8,34.8,60.4,60.4,60.4,60.4,60.4,60.4,60.4,60.4,60.4,60.4,60.4,60.4,32.4,32.4,32.4,32.4,32.4,32.4,32.4,32.4,32.4,32.4,32.4,32.4,32.4,32.4,32.4,32.4,32.4,32.4,32.4,32.4,32.4,32.4,32.4,32.4,32.4,32.4,60.8,60.8,60.8,60.8,60.8,60.8,60.8,60.8,60.8,60.8,60.8,60.8,60.4,60.4,60.4,60.4,60.4,60.4,60.4,60.4,60.4,60.4,60.4,60.4,60.4,60.4,60.4,60.4,60.4,60.4,60.4,60.4,63.6,63.6,63.6,63.6,63.6,63.6,63.6,63.6,60.8,60.8,60.8,60.8,60.8,60.8,60.8,60.8,60.8,60.8,60.8,60.8,60.8,60.8,60.8,60.8,62.8,62.8,62.8,62.8,62.8,62.8,62.8,62.8,62.8,62.8,62.8,62.8,62.8,62.8,62.8,62.8,62.8,62.8,62.8,62.8,62.8,62.8,62.8,62.8,60.4,60.4,60.4,60.4,60.4,60.4,60.4,60.4,60.4,60.4,60.4,60.4,60.4,60.4,60.4,60.4,60.4,60.4,60.4,60.4,60.4,60.4,60.4,60.4,60.8,60.8,60.8,60.8,60.8,60.8,60.8,60.8,60.8,60.8,60.8,60.8,60.8,60.8,60.8,60.8,60.8,60.8,60.8,60.8,60.8,60.8,60.8,60.8,60.8,60.8,60.4,60.4,60.4,60.4,60.4,60.4,60.4,60.4,60.4,60.4,60.4,60.4,60.4,60.4,60.4,60.4,60.4,60.4,60.4,60.4,60.4,60.4,60.4,60.4,60.4,60.4,59.6,59.6,59.6,59.6,59.6,59.6,59.6,59.6,59.6,59.6,59.6,59.6,59.6,59.6,59.6,59.6,59.6,59.6,59.6,59.6,59.6,59.6],\"sizemode\":\"area\",\"sizeref\":1.272},\"mode\":\"markers\",\"name\":\"NVIDIA H100-SXM-80GB\",\"x\":[1400.0,1400.0,1400.0,1400.0,1400.0,1400.0,1400.0,1400.0,1400.0,1400.0,1400.0,1400.0,1400.0,1400.0,1400.0,1400.0,1400.0,1400.0,1400.0,1400.0,1400.0,1400.0,1400.0,1400.0,700.0,700.0,700.0,700.0,700.0,700.0,700.0,700.0,700.0,700.0,700.0,700.0,700.0,700.0,700.0,700.0,700.0,700.0,700.0,700.0,700.0,700.0,700.0,700.0,700.0,700.0,700.0,700.0,700.0,700.0,700.0,700.0,700.0,700.0,1400.0,1400.0,1400.0,1400.0,1400.0,1400.0,1400.0,1400.0,1400.0,1400.0,1400.0,1400.0,700.0,700.0,700.0,700.0,700.0,700.0,700.0,700.0,700.0,700.0,700.0,700.0,700.0,700.0,700.0,700.0,700.0,700.0,700.0,700.0,700.0,700.0,700.0,700.0,700.0,700.0,1400.0,1400.0,1400.0,1400.0,1400.0,1400.0,1400.0,1400.0,1400.0,1400.0,1400.0,1400.0,1400.0,1400.0,1400.0,1400.0,1400.0,1400.0,1400.0,1400.0,1400.0,1400.0,1400.0,1400.0,1400.0,1400.0,1400.0,1400.0,1400.0,1400.0,1400.0,1400.0,1400.0,1400.0,1400.0,1400.0,1400.0,1400.0,1400.0,1400.0,1400.0,1400.0,1400.0,1400.0,1400.0,1400.0,1400.0,1400.0,1400.0,1400.0,1400.0,1400.0,1400.0,1400.0,1400.0,1400.0,1400.0,1400.0,1400.0,1400.0,1400.0,1400.0,1400.0,1400.0,1400.0,1400.0,1400.0,1400.0,1400.0,1400.0,1400.0,1400.0,1400.0,1400.0,1400.0,1400.0,1400.0,1400.0,1400.0,1400.0,1400.0,1400.0,1400.0,1400.0,1400.0,1400.0,1400.0,1400.0,1400.0,1400.0,1400.0,1400.0,1400.0,1400.0,1400.0,1400.0,1400.0,1400.0,1400.0,1400.0,1400.0,1400.0,1400.0,1400.0,1400.0,1400.0,1400.0,1400.0,1400.0,1400.0,1400.0,1400.0,1400.0,1400.0,1400.0,1400.0,1400.0,1400.0,1400.0,1400.0,1400.0,1400.0,1400.0,1400.0,1400.0,1400.0,1400.0,1400.0,1400.0,1400.0,1400.0,1400.0,1400.0,1400.0,1400.0,1400.0,1400.0,1400.0,1400.0,1400.0,1400.0,1400.0,1400.0,1400.0,1400.0,1400.0,1400.0,1400.0,1400.0,1400.0,1400.0,1400.0,1400.0,1400.0,1400.0,1400.0,1400.0,1400.0,1400.0,1400.0,1400.0,1400.0,1400.0,1400.0,1400.0,1400.0,1400.0,1400.0,1400.0,1400.0,1400.0,1400.0,1400.0,1400.0,1400.0,1400.0,1400.0,1400.0],\"y\":[4.371428571428571,4.371428571428571,4.371428571428571,4.371428571428571,4.371428571428571,4.371428571428571,4.371428571428571,4.371428571428571,4.371428571428571,4.371428571428571,4.371428571428571,4.371428571428571,4.371428571428571,4.371428571428571,4.371428571428571,4.371428571428571,4.371428571428571,4.371428571428571,4.371428571428571,4.371428571428571,4.371428571428571,4.371428571428571,4.371428571428571,4.371428571428571,4.9714285714285715,4.9714285714285715,4.9714285714285715,4.9714285714285715,4.9714285714285715,4.9714285714285715,4.9714285714285715,4.9714285714285715,4.9714285714285715,4.9714285714285715,4.9714285714285715,4.9714285714285715,4.9714285714285715,4.9714285714285715,4.9714285714285715,4.9714285714285715,4.9714285714285715,4.9714285714285715,4.9714285714285715,4.9714285714285715,4.9714285714285715,4.9714285714285715,4.9714285714285715,4.9714285714285715,4.9714285714285715,4.9714285714285715,4.9714285714285715,4.9714285714285715,4.9714285714285715,4.9714285714285715,4.9714285714285715,4.9714285714285715,4.9714285714285715,4.9714285714285715,4.314285714285714,4.314285714285714,4.314285714285714,4.314285714285714,4.314285714285714,4.314285714285714,4.314285714285714,4.314285714285714,4.314285714285714,4.314285714285714,4.314285714285714,4.314285714285714,4.628571428571429,4.628571428571429,4.628571428571429,4.628571428571429,4.628571428571429,4.628571428571429,4.628571428571429,4.628571428571429,4.628571428571429,4.628571428571429,4.628571428571429,4.628571428571429,4.628571428571429,4.628571428571429,4.628571428571429,4.628571428571429,4.628571428571429,4.628571428571429,4.628571428571429,4.628571428571429,4.628571428571429,4.628571428571429,4.628571428571429,4.628571428571429,4.628571428571429,4.628571428571429,4.3428571428571425,4.3428571428571425,4.3428571428571425,4.3428571428571425,4.3428571428571425,4.3428571428571425,4.3428571428571425,4.3428571428571425,4.3428571428571425,4.3428571428571425,4.3428571428571425,4.3428571428571425,4.314285714285714,4.314285714285714,4.314285714285714,4.314285714285714,4.314285714285714,4.314285714285714,4.314285714285714,4.314285714285714,4.314285714285714,4.314285714285714,4.314285714285714,4.314285714285714,4.314285714285714,4.314285714285714,4.314285714285714,4.314285714285714,4.314285714285714,4.314285714285714,4.314285714285714,4.314285714285714,4.542857142857143,4.542857142857143,4.542857142857143,4.542857142857143,4.542857142857143,4.542857142857143,4.542857142857143,4.542857142857143,4.3428571428571425,4.3428571428571425,4.3428571428571425,4.3428571428571425,4.3428571428571425,4.3428571428571425,4.3428571428571425,4.3428571428571425,4.3428571428571425,4.3428571428571425,4.3428571428571425,4.3428571428571425,4.3428571428571425,4.3428571428571425,4.3428571428571425,4.3428571428571425,4.485714285714286,4.485714285714286,4.485714285714286,4.485714285714286,4.485714285714286,4.485714285714286,4.485714285714286,4.485714285714286,4.485714285714286,4.485714285714286,4.485714285714286,4.485714285714286,4.485714285714286,4.485714285714286,4.485714285714286,4.485714285714286,4.485714285714286,4.485714285714286,4.485714285714286,4.485714285714286,4.485714285714286,4.485714285714286,4.485714285714286,4.485714285714286,4.314285714285714,4.314285714285714,4.314285714285714,4.314285714285714,4.314285714285714,4.314285714285714,4.314285714285714,4.314285714285714,4.314285714285714,4.314285714285714,4.314285714285714,4.314285714285714,4.314285714285714,4.314285714285714,4.314285714285714,4.314285714285714,4.314285714285714,4.314285714285714,4.314285714285714,4.314285714285714,4.314285714285714,4.314285714285714,4.314285714285714,4.314285714285714,4.3428571428571425,4.3428571428571425,4.3428571428571425,4.3428571428571425,4.3428571428571425,4.3428571428571425,4.3428571428571425,4.3428571428571425,4.3428571428571425,4.3428571428571425,4.3428571428571425,4.3428571428571425,4.3428571428571425,4.3428571428571425,4.3428571428571425,4.3428571428571425,4.3428571428571425,4.3428571428571425,4.3428571428571425,4.3428571428571425,4.3428571428571425,4.3428571428571425,4.3428571428571425,4.3428571428571425,4.3428571428571425,4.3428571428571425,4.314285714285714,4.314285714285714,4.314285714285714,4.314285714285714,4.314285714285714,4.314285714285714,4.314285714285714,4.314285714285714,4.314285714285714,4.314285714285714,4.314285714285714,4.314285714285714,4.314285714285714,4.314285714285714,4.314285714285714,4.314285714285714,4.314285714285714,4.314285714285714,4.314285714285714,4.314285714285714,4.314285714285714,4.314285714285714,4.314285714285714,4.314285714285714,4.314285714285714,4.314285714285714,4.257142857142857,4.257142857142857,4.257142857142857,4.257142857142857,4.257142857142857,4.257142857142857,4.257142857142857,4.257142857142857,4.257142857142857,4.257142857142857,4.257142857142857,4.257142857142857,4.257142857142857,4.257142857142857,4.257142857142857,4.257142857142857,4.257142857142857,4.257142857142857,4.257142857142857,4.257142857142857,4.257142857142857,4.257142857142857],\"type\":\"scatter\",\"xaxis\":\"x\",\"yaxis\":\"y\"},{\"hovertemplate\":\"Model Size: %{x:.1f}B params\\u003cbr\\u003eCO2\\u002fParam: %{y:.2f} lbs\\u002fB\\u002fday\\u003cbr\\u003eDaily CO2: %{marker.size:.0f}lbs\\u003cbr\\u003e\\u003cextra\\u003e\\u003c\\u002fextra\\u003e\",\"marker\":{\"size\":[6.658834176000002,6.658834176000002,6.658834176000002,6.658834176000002,6.658834176000002,6.658834176000002,6.658834176000002,6.658834176000002,6.658834176000002,6.658834176000002,6.658834176000002,6.658834176000002,6.658834176000002,6.658834176000002,6.658834176000002,6.658834176000002,6.658834176000002,6.658834176000002,6.658834176000002,6.658834176000002,6.658834176000002,6.658834176000002,6.658834176000002,6.658834176000002,3.7863959040000004,3.7863959040000004,3.7863959040000004,3.7863959040000004,3.7863959040000004,3.7863959040000004,3.7863959040000004,3.7863959040000004,3.7863959040000004,3.7863959040000004,3.7863959040000004,3.7863959040000004,3.7863959040000004,3.7863959040000004,3.7863959040000004,3.7863959040000004,3.7863959040000004,3.7863959040000004,3.7863959040000004,3.7863959040000004,3.7863959040000004,3.7863959040000004,3.7863959040000004,3.7863959040000004,3.7863959040000004,3.7863959040000004,3.7863959040000004,3.7863959040000004,3.7863959040000004,3.7863959040000004,3.7863959040000004,3.7863959040000004,3.7863959040000004,3.7863959040000004,6.571790592000001,6.571790592000001,6.571790592000001,6.571790592000001,6.571790592000001,6.571790592000001,6.571790592000001,6.571790592000001,6.571790592000001,6.571790592000001,6.571790592000001,6.571790592000001,3.5252651520000002,3.5252651520000002,3.5252651520000002,3.5252651520000002,3.5252651520000002,3.5252651520000002,3.5252651520000002,3.5252651520000002,3.5252651520000002,3.5252651520000002,3.5252651520000002,3.5252651520000002,3.5252651520000002,3.5252651520000002,3.5252651520000002,3.5252651520000002,3.5252651520000002,3.5252651520000002,3.5252651520000002,3.5252651520000002,3.5252651520000002,3.5252651520000002,3.5252651520000002,3.5252651520000002,3.5252651520000002,3.5252651520000002,6.615312384,6.615312384,6.615312384,6.615312384,6.615312384,6.615312384,6.615312384,6.615312384,6.615312384,6.615312384,6.615312384,6.615312384,6.571790592000001,6.571790592000001,6.571790592000001,6.571790592000001,6.571790592000001,6.571790592000001,6.571790592000001,6.571790592000001,6.571790592000001,6.571790592000001,6.571790592000001,6.571790592000001,6.571790592000001,6.571790592000001,6.571790592000001,6.571790592000001,6.571790592000001,6.571790592000001,6.571790592000001,6.571790592000001,6.919964928000001,6.919964928000001,6.919964928000001,6.919964928000001,6.919964928000001,6.919964928000001,6.919964928000001,6.919964928000001,6.615312384,6.615312384,6.615312384,6.615312384,6.615312384,6.615312384,6.615312384,6.615312384,6.615312384,6.615312384,6.615312384,6.615312384,6.615312384,6.615312384,6.615312384,6.615312384,6.832921344,6.832921344,6.832921344,6.832921344,6.832921344,6.832921344,6.832921344,6.832921344,6.832921344,6.832921344,6.832921344,6.832921344,6.832921344,6.832921344,6.832921344,6.832921344,6.832921344,6.832921344,6.832921344,6.832921344,6.832921344,6.832921344,6.832921344,6.832921344,6.571790592000001,6.571790592000001,6.571790592000001,6.571790592000001,6.571790592000001,6.571790592000001,6.571790592000001,6.571790592000001,6.571790592000001,6.571790592000001,6.571790592000001,6.571790592000001,6.571790592000001,6.571790592000001,6.571790592000001,6.571790592000001,6.571790592000001,6.571790592000001,6.571790592000001,6.571790592000001,6.571790592000001,6.571790592000001,6.571790592000001,6.571790592000001,6.615312384,6.615312384,6.615312384,6.615312384,6.615312384,6.615312384,6.615312384,6.615312384,6.615312384,6.615312384,6.615312384,6.615312384,6.615312384,6.615312384,6.615312384,6.615312384,6.615312384,6.615312384,6.615312384,6.615312384,6.615312384,6.615312384,6.615312384,6.615312384,6.615312384,6.615312384,6.571790592000001,6.571790592000001,6.571790592000001,6.571790592000001,6.571790592000001,6.571790592000001,6.571790592000001,6.571790592000001,6.571790592000001,6.571790592000001,6.571790592000001,6.571790592000001,6.571790592000001,6.571790592000001,6.571790592000001,6.571790592000001,6.571790592000001,6.571790592000001,6.571790592000001,6.571790592000001,6.571790592000001,6.571790592000001,6.571790592000001,6.571790592000001,6.571790592000001,6.571790592000001,6.484747008,6.484747008,6.484747008,6.484747008,6.484747008,6.484747008,6.484747008,6.484747008,6.484747008,6.484747008,6.484747008,6.484747008,6.484747008,6.484747008,6.484747008,6.484747008,6.484747008,6.484747008,6.484747008,6.484747008,6.484747008,6.484747008],\"sizemode\":\"area\",\"sizeref\":0.06919964928000001},\"mode\":\"markers\",\"name\":\"NVIDIA H100-SXM-80GB\",\"showlegend\":false,\"x\":[1400.0,1400.0,1400.0,1400.0,1400.0,1400.0,1400.0,1400.0,1400.0,1400.0,1400.0,1400.0,1400.0,1400.0,1400.0,1400.0,1400.0,1400.0,1400.0,1400.0,1400.0,1400.0,1400.0,1400.0,700.0,700.0,700.0,700.0,700.0,700.0,700.0,700.0,700.0,700.0,700.0,700.0,700.0,700.0,700.0,700.0,700.0,700.0,700.0,700.0,700.0,700.0,700.0,700.0,700.0,700.0,700.0,700.0,700.0,700.0,700.0,700.0,700.0,700.0,1400.0,1400.0,1400.0,1400.0,1400.0,1400.0,1400.0,1400.0,1400.0,1400.0,1400.0,1400.0,700.0,700.0,700.0,700.0,700.0,700.0,700.0,700.0,700.0,700.0,700.0,700.0,700.0,700.0,700.0,700.0,700.0,700.0,700.0,700.0,700.0,700.0,700.0,700.0,700.0,700.0,1400.0,1400.0,1400.0,1400.0,1400.0,1400.0,1400.0,1400.0,1400.0,1400.0,1400.0,1400.0,1400.0,1400.0,1400.0,1400.0,1400.0,1400.0,1400.0,1400.0,1400.0,1400.0,1400.0,1400.0,1400.0,1400.0,1400.0,1400.0,1400.0,1400.0,1400.0,1400.0,1400.0,1400.0,1400.0,1400.0,1400.0,1400.0,1400.0,1400.0,1400.0,1400.0,1400.0,1400.0,1400.0,1400.0,1400.0,1400.0,1400.0,1400.0,1400.0,1400.0,1400.0,1400.0,1400.0,1400.0,1400.0,1400.0,1400.0,1400.0,1400.0,1400.0,1400.0,1400.0,1400.0,1400.0,1400.0,1400.0,1400.0,1400.0,1400.0,1400.0,1400.0,1400.0,1400.0,1400.0,1400.0,1400.0,1400.0,1400.0,1400.0,1400.0,1400.0,1400.0,1400.0,1400.0,1400.0,1400.0,1400.0,1400.0,1400.0,1400.0,1400.0,1400.0,1400.0,1400.0,1400.0,1400.0,1400.0,1400.0,1400.0,1400.0,1400.0,1400.0,1400.0,1400.0,1400.0,1400.0,1400.0,1400.0,1400.0,1400.0,1400.0,1400.0,1400.0,1400.0,1400.0,1400.0,1400.0,1400.0,1400.0,1400.0,1400.0,1400.0,1400.0,1400.0,1400.0,1400.0,1400.0,1400.0,1400.0,1400.0,1400.0,1400.0,1400.0,1400.0,1400.0,1400.0,1400.0,1400.0,1400.0,1400.0,1400.0,1400.0,1400.0,1400.0,1400.0,1400.0,1400.0,1400.0,1400.0,1400.0,1400.0,1400.0,1400.0,1400.0,1400.0,1400.0,1400.0,1400.0,1400.0,1400.0,1400.0,1400.0,1400.0,1400.0,1400.0,1400.0,1400.0,1400.0,1400.0,1400.0,1400.0,1400.0,1400.0,1400.0,1400.0,1400.0],\"y\":[0.23781550628571432,0.23781550628571432,0.23781550628571432,0.23781550628571432,0.23781550628571432,0.23781550628571432,0.23781550628571432,0.23781550628571432,0.23781550628571432,0.23781550628571432,0.23781550628571432,0.23781550628571432,0.23781550628571432,0.23781550628571432,0.23781550628571432,0.23781550628571432,0.23781550628571432,0.23781550628571432,0.23781550628571432,0.23781550628571432,0.23781550628571432,0.23781550628571432,0.23781550628571432,0.23781550628571432,0.2704568502857143,0.2704568502857143,0.2704568502857143,0.2704568502857143,0.2704568502857143,0.2704568502857143,0.2704568502857143,0.2704568502857143,0.2704568502857143,0.2704568502857143,0.2704568502857143,0.2704568502857143,0.2704568502857143,0.2704568502857143,0.2704568502857143,0.2704568502857143,0.2704568502857143,0.2704568502857143,0.2704568502857143,0.2704568502857143,0.2704568502857143,0.2704568502857143,0.2704568502857143,0.2704568502857143,0.2704568502857143,0.2704568502857143,0.2704568502857143,0.2704568502857143,0.2704568502857143,0.2704568502857143,0.2704568502857143,0.2704568502857143,0.2704568502857143,0.2704568502857143,0.2347068068571429,0.2347068068571429,0.2347068068571429,0.2347068068571429,0.2347068068571429,0.2347068068571429,0.2347068068571429,0.2347068068571429,0.2347068068571429,0.2347068068571429,0.2347068068571429,0.2347068068571429,0.25180465371428573,0.25180465371428573,0.25180465371428573,0.25180465371428573,0.25180465371428573,0.25180465371428573,0.25180465371428573,0.25180465371428573,0.25180465371428573,0.25180465371428573,0.25180465371428573,0.25180465371428573,0.25180465371428573,0.25180465371428573,0.25180465371428573,0.25180465371428573,0.25180465371428573,0.25180465371428573,0.25180465371428573,0.25180465371428573,0.25180465371428573,0.25180465371428573,0.25180465371428573,0.25180465371428573,0.25180465371428573,0.25180465371428573,0.23626115657142857,0.23626115657142857,0.23626115657142857,0.23626115657142857,0.23626115657142857,0.23626115657142857,0.23626115657142857,0.23626115657142857,0.23626115657142857,0.23626115657142857,0.23626115657142857,0.23626115657142857,0.2347068068571429,0.2347068068571429,0.2347068068571429,0.2347068068571429,0.2347068068571429,0.2347068068571429,0.2347068068571429,0.2347068068571429,0.2347068068571429,0.2347068068571429,0.2347068068571429,0.2347068068571429,0.2347068068571429,0.2347068068571429,0.2347068068571429,0.2347068068571429,0.2347068068571429,0.2347068068571429,0.2347068068571429,0.2347068068571429,0.24714160457142859,0.24714160457142859,0.24714160457142859,0.24714160457142859,0.24714160457142859,0.24714160457142859,0.24714160457142859,0.24714160457142859,0.23626115657142857,0.23626115657142857,0.23626115657142857,0.23626115657142857,0.23626115657142857,0.23626115657142857,0.23626115657142857,0.23626115657142857,0.23626115657142857,0.23626115657142857,0.23626115657142857,0.23626115657142857,0.23626115657142857,0.23626115657142857,0.23626115657142857,0.23626115657142857,0.24403290514285714,0.24403290514285714,0.24403290514285714,0.24403290514285714,0.24403290514285714,0.24403290514285714,0.24403290514285714,0.24403290514285714,0.24403290514285714,0.24403290514285714,0.24403290514285714,0.24403290514285714,0.24403290514285714,0.24403290514285714,0.24403290514285714,0.24403290514285714,0.24403290514285714,0.24403290514285714,0.24403290514285714,0.24403290514285714,0.24403290514285714,0.24403290514285714,0.24403290514285714,0.24403290514285714,0.2347068068571429,0.2347068068571429,0.2347068068571429,0.2347068068571429,0.2347068068571429,0.2347068068571429,0.2347068068571429,0.2347068068571429,0.2347068068571429,0.2347068068571429,0.2347068068571429,0.2347068068571429,0.2347068068571429,0.2347068068571429,0.2347068068571429,0.2347068068571429,0.2347068068571429,0.2347068068571429,0.2347068068571429,0.2347068068571429,0.2347068068571429,0.2347068068571429,0.2347068068571429,0.2347068068571429,0.23626115657142857,0.23626115657142857,0.23626115657142857,0.23626115657142857,0.23626115657142857,0.23626115657142857,0.23626115657142857,0.23626115657142857,0.23626115657142857,0.23626115657142857,0.23626115657142857,0.23626115657142857,0.23626115657142857,0.23626115657142857,0.23626115657142857,0.23626115657142857,0.23626115657142857,0.23626115657142857,0.23626115657142857,0.23626115657142857,0.23626115657142857,0.23626115657142857,0.23626115657142857,0.23626115657142857,0.23626115657142857,0.23626115657142857,0.2347068068571429,0.2347068068571429,0.2347068068571429,0.2347068068571429,0.2347068068571429,0.2347068068571429,0.2347068068571429,0.2347068068571429,0.2347068068571429,0.2347068068571429,0.2347068068571429,0.2347068068571429,0.2347068068571429,0.2347068068571429,0.2347068068571429,0.2347068068571429,0.2347068068571429,0.2347068068571429,0.2347068068571429,0.2347068068571429,0.2347068068571429,0.2347068068571429,0.2347068068571429,0.2347068068571429,0.2347068068571429,0.2347068068571429,0.23159810742857145,0.23159810742857145,0.23159810742857145,0.23159810742857145,0.23159810742857145,0.23159810742857145,0.23159810742857145,0.23159810742857145,0.23159810742857145,0.23159810742857145,0.23159810742857145,0.23159810742857145,0.23159810742857145,0.23159810742857145,0.23159810742857145,0.23159810742857145,0.23159810742857145,0.23159810742857145,0.23159810742857145,0.23159810742857145,0.23159810742857145,0.23159810742857145],\"type\":\"scatter\",\"xaxis\":\"x2\",\"yaxis\":\"y2\"},{\"hovertemplate\":\"Model Size: %{x:.1f}B params\\u003cbr\\u003ePower\\u002fParam: %{y:.2f} W\\u002fB\\u003cbr\\u003eTotal Power: %{marker.size:.0f}W\\u003cbr\\u003e\\u003cextra\\u003e\\u003c\\u002fextra\\u003e\",\"marker\":{\"size\":[9.6,9.6,9.6,9.6,9.6,9.6,9.6,9.6,9.6,9.6,12.8,12.8,12.8,12.8,12.8,12.8,12.8,12.8,12.8,12.8,9.6,9.6,9.6,9.6,9.6,9.6,9.6,9.6,9.6,9.6,17.2,17.2,17.2,17.2,17.2,17.2,51.6,51.6,51.6,27.6,27.6,27.6,27.6,27.6,27.6,27.6,27.6,17.0,17.0,17.0,17.0,17.0,17.0,17.0,12.6,12.6,12.6,12.6,12.6,12.6,12.6,12.6,12.6,26.2,26.2,16.2,16.2,16.2,16.2,16.2,16.2,16.2,16.2,16.2,16.2,16.2,16.2,16.2,16.2,16.2,19.6,19.6],\"sizemode\":\"area\",\"sizeref\":1.272},\"mode\":\"markers\",\"name\":\"NVIDIA L40S\",\"x\":[40.0,40.0,40.0,40.0,40.0,40.0,40.0,40.0,40.0,40.0,40.0,40.0,40.0,40.0,40.0,40.0,40.0,40.0,40.0,40.0,40.0,40.0,40.0,40.0,40.0,40.0,40.0,40.0,40.0,40.0,80.0,80.0,80.0,80.0,80.0,80.0,320.0,320.0,320.0,160.0,160.0,160.0,160.0,160.0,160.0,160.0,160.0,80.0,80.0,80.0,80.0,80.0,80.0,80.0,60.0,60.0,60.0,60.0,60.0,60.0,60.0,60.0,60.0,160.0,160.0,80.0,80.0,80.0,80.0,80.0,80.0,80.0,80.0,80.0,80.0,80.0,80.0,80.0,80.0,80.0,80.0,80.0],\"y\":[24.0,24.0,24.0,24.0,24.0,24.0,24.0,24.0,24.0,24.0,32.0,32.0,32.0,32.0,32.0,32.0,32.0,32.0,32.0,32.0,24.0,24.0,24.0,24.0,24.0,24.0,24.0,24.0,24.0,24.0,21.5,21.5,21.5,21.5,21.5,21.5,16.125,16.125,16.125,17.25,17.25,17.25,17.25,17.25,17.25,17.25,17.25,21.25,21.25,21.25,21.25,21.25,21.25,21.25,21.0,21.0,21.0,21.0,21.0,21.0,21.0,21.0,21.0,16.375,16.375,20.25,20.25,20.25,20.25,20.25,20.25,20.25,20.25,20.25,20.25,20.25,20.25,20.25,20.25,20.25,24.5,24.5],\"type\":\"scatter\",\"xaxis\":\"x\",\"yaxis\":\"y\"},{\"hovertemplate\":\"Model Size: %{x:.1f}B params\\u003cbr\\u003eCO2\\u002fParam: %{y:.2f} lbs\\u002fB\\u002fday\\u003cbr\\u003eDaily CO2: %{marker.size:.0f}lbs\\u003cbr\\u003e\\u003cextra\\u003e\\u003c\\u002fextra\\u003e\",\"marker\":{\"size\":[1.044523008,1.044523008,1.044523008,1.044523008,1.044523008,1.044523008,1.044523008,1.044523008,1.044523008,1.044523008,1.3926973440000001,1.3926973440000001,1.3926973440000001,1.3926973440000001,1.3926973440000001,1.3926973440000001,1.3926973440000001,1.3926973440000001,1.3926973440000001,1.3926973440000001,1.044523008,1.044523008,1.044523008,1.044523008,1.044523008,1.044523008,1.044523008,1.044523008,1.044523008,1.044523008,1.871437056,1.871437056,1.871437056,1.871437056,1.871437056,1.871437056,5.614311168,5.614311168,5.614311168,3.003003648,3.003003648,3.003003648,3.003003648,3.003003648,3.003003648,3.003003648,3.003003648,1.8496761600000002,1.8496761600000002,1.8496761600000002,1.8496761600000002,1.8496761600000002,1.8496761600000002,1.8496761600000002,1.3709364480000001,1.3709364480000001,1.3709364480000001,1.3709364480000001,1.3709364480000001,1.3709364480000001,1.3709364480000001,1.3709364480000001,1.3709364480000001,2.8506773760000006,2.8506773760000006,1.7626325760000001,1.7626325760000001,1.7626325760000001,1.7626325760000001,1.7626325760000001,1.7626325760000001,1.7626325760000001,1.7626325760000001,1.7626325760000001,1.7626325760000001,1.7626325760000001,1.7626325760000001,1.7626325760000001,1.7626325760000001,1.7626325760000001,2.132567808,2.132567808],\"sizemode\":\"area\",\"sizeref\":0.06919964928000001},\"mode\":\"markers\",\"name\":\"NVIDIA L40S\",\"showlegend\":false,\"x\":[40.0,40.0,40.0,40.0,40.0,40.0,40.0,40.0,40.0,40.0,40.0,40.0,40.0,40.0,40.0,40.0,40.0,40.0,40.0,40.0,40.0,40.0,40.0,40.0,40.0,40.0,40.0,40.0,40.0,40.0,80.0,80.0,80.0,80.0,80.0,80.0,320.0,320.0,320.0,160.0,160.0,160.0,160.0,160.0,160.0,160.0,160.0,80.0,80.0,80.0,80.0,80.0,80.0,80.0,60.0,60.0,60.0,60.0,60.0,60.0,60.0,60.0,60.0,160.0,160.0,80.0,80.0,80.0,80.0,80.0,80.0,80.0,80.0,80.0,80.0,80.0,80.0,80.0,80.0,80.0,80.0,80.0],\"y\":[1.3056537600000002,1.3056537600000002,1.3056537600000002,1.3056537600000002,1.3056537600000002,1.3056537600000002,1.3056537600000002,1.3056537600000002,1.3056537600000002,1.3056537600000002,1.7408716800000001,1.7408716800000001,1.7408716800000001,1.7408716800000001,1.7408716800000001,1.7408716800000001,1.7408716800000001,1.7408716800000001,1.7408716800000001,1.7408716800000001,1.3056537600000002,1.3056537600000002,1.3056537600000002,1.3056537600000002,1.3056537600000002,1.3056537600000002,1.3056537600000002,1.3056537600000002,1.3056537600000002,1.3056537600000002,1.16964816,1.16964816,1.16964816,1.16964816,1.16964816,1.16964816,0.8772361200000001,0.8772361200000001,0.8772361200000001,0.93843864,0.93843864,0.93843864,0.93843864,0.93843864,0.93843864,0.93843864,0.93843864,1.1560476000000002,1.1560476000000002,1.1560476000000002,1.1560476000000002,1.1560476000000002,1.1560476000000002,1.1560476000000002,1.1424470400000002,1.1424470400000002,1.1424470400000002,1.1424470400000002,1.1424470400000002,1.1424470400000002,1.1424470400000002,1.1424470400000002,1.1424470400000002,0.8908366800000002,0.8908366800000002,1.10164536,1.10164536,1.10164536,1.10164536,1.10164536,1.10164536,1.10164536,1.10164536,1.10164536,1.10164536,1.10164536,1.10164536,1.10164536,1.10164536,1.10164536,1.33285488,1.33285488],\"type\":\"scatter\",\"xaxis\":\"x2\",\"yaxis\":\"y2\"},{\"hovertemplate\":\"Model Size: %{x:.1f}B params\\u003cbr\\u003ePower\\u002fParam: %{y:.2f} W\\u002fB\\u003cbr\\u003eTotal Power: %{marker.size:.0f}W\\u003cbr\\u003e\\u003cextra\\u003e\\u003c\\u002fextra\\u003e\",\"marker\":{\"size\":[60.6,60.6,60.6,60.6,60.6,60.6,60.6,60.6,60.6,60.6,60.6,60.6,60.6,60.6,60.6,60.6,60.6,60.6,60.6,60.6,60.8,60.8,60.8,60.8,60.8,60.8,60.8,60.8,60.8,60.8,60.8,60.8,60.8,60.8,60.8,60.8,60.8,60.8,60.8,60.8,60.8,60.8,60.8,60.8,60.8,60.8,60.4,60.4,60.4,60.4,60.4,60.4,60.4,60.4,60.4,60.4,60.4,60.4,60.4,60.4,60.4,60.4,60.4,60.4,60.4,60.4,60.4,60.4,60.4,60.4,60.4,60.4,60.4,60.4,60.4,60.4,60.4,60.4,11.8,11.8,11.8,11.8,60.8,60.8,60.8,60.8,60.8,60.8,60.8,60.8,60.8,60.8,60.8,60.8,60.8,60.8,60.8,60.8,60.8,60.8,60.8,60.8,60.8,60.8,60.8,60.8,60.8,60.8,60.8,60.8,60.8,60.8],\"sizemode\":\"area\",\"sizeref\":1.272},\"mode\":\"markers\",\"name\":\"NVIDIA H200-SXM-141GB\",\"x\":[1600.0,1600.0,1600.0,1600.0,1600.0,1600.0,1600.0,1600.0,1600.0,1600.0,1600.0,1600.0,1600.0,1600.0,1600.0,1600.0,1600.0,1600.0,1600.0,1600.0,1600.0,1600.0,1600.0,1600.0,1600.0,1600.0,1600.0,1600.0,1600.0,1600.0,1600.0,1600.0,1600.0,1600.0,1600.0,1600.0,1600.0,1600.0,1600.0,1600.0,1600.0,1600.0,1600.0,1600.0,1600.0,1600.0,1600.0,1600.0,1600.0,1600.0,1600.0,1600.0,1600.0,1600.0,1600.0,1600.0,1600.0,1600.0,1600.0,1600.0,1600.0,1600.0,1600.0,1600.0,1600.0,1600.0,1600.0,1600.0,1600.0,1600.0,1600.0,1600.0,1600.0,1600.0,1600.0,1600.0,1600.0,1600.0,200.0,200.0,200.0,200.0,1600.0,1600.0,1600.0,1600.0,1600.0,1600.0,1600.0,1600.0,1600.0,1600.0,1600.0,1600.0,1600.0,1600.0,1600.0,1600.0,1600.0,1600.0,1600.0,1600.0,1600.0,1600.0,1600.0,1600.0,1600.0,1600.0,1600.0,1600.0,1600.0,1600.0],\"y\":[108.21428571428571,108.21428571428571,108.21428571428571,108.21428571428571,108.21428571428571,108.21428571428571,108.21428571428571,108.21428571428571,108.21428571428571,108.21428571428571,108.21428571428571,108.21428571428571,108.21428571428571,108.21428571428571,108.21428571428571,108.21428571428571,108.21428571428571,108.21428571428571,108.21428571428571,108.21428571428571,108.57142857142857,108.57142857142857,108.57142857142857,108.57142857142857,108.57142857142857,108.57142857142857,108.57142857142857,108.57142857142857,108.57142857142857,108.57142857142857,108.57142857142857,108.57142857142857,108.57142857142857,108.57142857142857,108.57142857142857,108.57142857142857,108.57142857142857,108.57142857142857,108.57142857142857,108.57142857142857,108.57142857142857,108.57142857142857,108.57142857142857,108.57142857142857,108.57142857142857,108.57142857142857,107.85714285714286,107.85714285714286,107.85714285714286,107.85714285714286,107.85714285714286,107.85714285714286,107.85714285714286,107.85714285714286,107.85714285714286,107.85714285714286,107.85714285714286,107.85714285714286,107.85714285714286,107.85714285714286,107.85714285714286,107.85714285714286,107.85714285714286,107.85714285714286,107.85714285714286,107.85714285714286,107.85714285714286,107.85714285714286,107.85714285714286,107.85714285714286,107.85714285714286,107.85714285714286,107.85714285714286,107.85714285714286,107.85714285714286,107.85714285714286,107.85714285714286,107.85714285714286,168.57142857142858,168.57142857142858,168.57142857142858,168.57142857142858,108.57142857142857,108.57142857142857,108.57142857142857,108.57142857142857,108.57142857142857,108.57142857142857,108.57142857142857,108.57142857142857,108.57142857142857,108.57142857142857,108.57142857142857,108.57142857142857,108.57142857142857,108.57142857142857,108.57142857142857,108.57142857142857,108.57142857142857,108.57142857142857,108.57142857142857,108.57142857142857,108.57142857142857,108.57142857142857,108.57142857142857,108.57142857142857,108.57142857142857,108.57142857142857,108.57142857142857,108.57142857142857,108.57142857142857,108.57142857142857],\"type\":\"scatter\",\"xaxis\":\"x\",\"yaxis\":\"y\"},{\"hovertemplate\":\"Model Size: %{x:.1f}B params\\u003cbr\\u003eCO2\\u002fParam: %{y:.2f} lbs\\u002fB\\u002fday\\u003cbr\\u003eDaily CO2: %{marker.size:.0f}lbs\\u003cbr\\u003e\\u003cextra\\u003e\\u003c\\u002fextra\\u003e\",\"marker\":{\"size\":[6.593551488000002,6.593551488000002,6.593551488000002,6.593551488000002,6.593551488000002,6.593551488000002,6.593551488000002,6.593551488000002,6.593551488000002,6.593551488000002,6.593551488000002,6.593551488000002,6.593551488000002,6.593551488000002,6.593551488000002,6.593551488000002,6.593551488000002,6.593551488000002,6.593551488000002,6.593551488000002,6.615312384,6.615312384,6.615312384,6.615312384,6.615312384,6.615312384,6.615312384,6.615312384,6.615312384,6.615312384,6.615312384,6.615312384,6.615312384,6.615312384,6.615312384,6.615312384,6.615312384,6.615312384,6.615312384,6.615312384,6.615312384,6.615312384,6.615312384,6.615312384,6.615312384,6.615312384,6.571790592000001,6.571790592000001,6.571790592000001,6.571790592000001,6.571790592000001,6.571790592000001,6.571790592000001,6.571790592000001,6.571790592000001,6.571790592000001,6.571790592000001,6.571790592000001,6.571790592000001,6.571790592000001,6.571790592000001,6.571790592000001,6.571790592000001,6.571790592000001,6.571790592000001,6.571790592000001,6.571790592000001,6.571790592000001,6.571790592000001,6.571790592000001,6.571790592000001,6.571790592000001,6.571790592000001,6.571790592000001,6.571790592000001,6.571790592000001,6.571790592000001,6.571790592000001,1.2838928640000002,1.2838928640000002,1.2838928640000002,1.2838928640000002,6.615312384,6.615312384,6.615312384,6.615312384,6.615312384,6.615312384,6.615312384,6.615312384,6.615312384,6.615312384,6.615312384,6.615312384,6.615312384,6.615312384,6.615312384,6.615312384,6.615312384,6.615312384,6.615312384,6.615312384,6.615312384,6.615312384,6.615312384,6.615312384,6.615312384,6.615312384,6.615312384,6.615312384,6.615312384,6.615312384],\"sizemode\":\"area\",\"sizeref\":0.06919964928000001},\"mode\":\"markers\",\"name\":\"NVIDIA H200-SXM-141GB\",\"showlegend\":false,\"x\":[1600.0,1600.0,1600.0,1600.0,1600.0,1600.0,1600.0,1600.0,1600.0,1600.0,1600.0,1600.0,1600.0,1600.0,1600.0,1600.0,1600.0,1600.0,1600.0,1600.0,1600.0,1600.0,1600.0,1600.0,1600.0,1600.0,1600.0,1600.0,1600.0,1600.0,1600.0,1600.0,1600.0,1600.0,1600.0,1600.0,1600.0,1600.0,1600.0,1600.0,1600.0,1600.0,1600.0,1600.0,1600.0,1600.0,1600.0,1600.0,1600.0,1600.0,1600.0,1600.0,1600.0,1600.0,1600.0,1600.0,1600.0,1600.0,1600.0,1600.0,1600.0,1600.0,1600.0,1600.0,1600.0,1600.0,1600.0,1600.0,1600.0,1600.0,1600.0,1600.0,1600.0,1600.0,1600.0,1600.0,1600.0,1600.0,200.0,200.0,200.0,200.0,1600.0,1600.0,1600.0,1600.0,1600.0,1600.0,1600.0,1600.0,1600.0,1600.0,1600.0,1600.0,1600.0,1600.0,1600.0,1600.0,1600.0,1600.0,1600.0,1600.0,1600.0,1600.0,1600.0,1600.0,1600.0,1600.0,1600.0,1600.0,1600.0,1600.0],\"y\":[0.20604848400000006,0.20604848400000006,0.20604848400000006,0.20604848400000006,0.20604848400000006,0.20604848400000006,0.20604848400000006,0.20604848400000006,0.20604848400000006,0.20604848400000006,0.20604848400000006,0.20604848400000006,0.20604848400000006,0.20604848400000006,0.20604848400000006,0.20604848400000006,0.20604848400000006,0.20604848400000006,0.20604848400000006,0.20604848400000006,0.206728512,0.206728512,0.206728512,0.206728512,0.206728512,0.206728512,0.206728512,0.206728512,0.206728512,0.206728512,0.206728512,0.206728512,0.206728512,0.206728512,0.206728512,0.206728512,0.206728512,0.206728512,0.206728512,0.206728512,0.206728512,0.206728512,0.206728512,0.206728512,0.206728512,0.206728512,0.20536845600000003,0.20536845600000003,0.20536845600000003,0.20536845600000003,0.20536845600000003,0.20536845600000003,0.20536845600000003,0.20536845600000003,0.20536845600000003,0.20536845600000003,0.20536845600000003,0.20536845600000003,0.20536845600000003,0.20536845600000003,0.20536845600000003,0.20536845600000003,0.20536845600000003,0.20536845600000003,0.20536845600000003,0.20536845600000003,0.20536845600000003,0.20536845600000003,0.20536845600000003,0.20536845600000003,0.20536845600000003,0.20536845600000003,0.20536845600000003,0.20536845600000003,0.20536845600000003,0.20536845600000003,0.20536845600000003,0.20536845600000003,0.32097321600000006,0.32097321600000006,0.32097321600000006,0.32097321600000006,0.206728512,0.206728512,0.206728512,0.206728512,0.206728512,0.206728512,0.206728512,0.206728512,0.206728512,0.206728512,0.206728512,0.206728512,0.206728512,0.206728512,0.206728512,0.206728512,0.206728512,0.206728512,0.206728512,0.206728512,0.206728512,0.206728512,0.206728512,0.206728512,0.206728512,0.206728512,0.206728512,0.206728512,0.206728512,0.206728512],\"type\":\"scatter\",\"xaxis\":\"x2\",\"yaxis\":\"y2\"},{\"hovertemplate\":\"Model Size: %{x:.1f}B params\\u003cbr\\u003ePower\\u002fParam: %{y:.2f} W\\u002fB\\u003cbr\\u003eTotal Power: %{marker.size:.0f}W\\u003cbr\\u003e\\u003cextra\\u003e\\u003c\\u002fextra\\u003e\",\"marker\":{\"size\":[4.0,4.0,4.0,4.0],\"sizemode\":\"area\",\"sizeref\":1.272},\"mode\":\"markers\",\"name\":\"AMD MI300X-NPS1-SPX-192GB-750W\",\"x\":[800.0,800.0,800.0,800.0],\"y\":[7.142857142857143,7.142857142857143,7.142857142857143,7.142857142857143],\"type\":\"scatter\",\"xaxis\":\"x\",\"yaxis\":\"y\"},{\"hovertemplate\":\"Model Size: %{x:.1f}B params\\u003cbr\\u003eCO2\\u002fParam: %{y:.2f} lbs\\u002fB\\u002fday\\u003cbr\\u003eDaily CO2: %{marker.size:.0f}lbs\\u003cbr\\u003e\\u003cextra\\u003e\\u003c\\u002fextra\\u003e\",\"marker\":{\"size\":[0.43521792,0.43521792,0.43521792,0.43521792],\"sizemode\":\"area\",\"sizeref\":0.06919964928000001},\"mode\":\"markers\",\"name\":\"AMD MI300X-NPS1-SPX-192GB-750W\",\"showlegend\":false,\"x\":[800.0,800.0,800.0,800.0],\"y\":[0.02720112,0.02720112,0.02720112,0.02720112],\"type\":\"scatter\",\"xaxis\":\"x2\",\"yaxis\":\"y2\"},{\"hovertemplate\":\"Model Size: %{x:.1f}B params\\u003cbr\\u003ePower\\u002fParam: %{y:.2f} W\\u002fB\\u003cbr\\u003eTotal Power: %{marker.size:.0f}W\\u003cbr\\u003e\\u003cextra\\u003e\\u003c\\u002fextra\\u003e\",\"marker\":{\"size\":[7.6,7.6],\"sizemode\":\"area\",\"sizeref\":1.272},\"mode\":\"markers\",\"name\":\"TPU v5e\",\"x\":[200.0,200.0],\"y\":[27.142857142857142,27.142857142857142],\"type\":\"scatter\",\"xaxis\":\"x\",\"yaxis\":\"y\"},{\"hovertemplate\":\"Model Size: %{x:.1f}B params\\u003cbr\\u003eCO2\\u002fParam: %{y:.2f} lbs\\u002fB\\u002fday\\u003cbr\\u003eDaily CO2: %{marker.size:.0f}lbs\\u003cbr\\u003e\\u003cextra\\u003e\\u003c\\u002fextra\\u003e\",\"marker\":{\"size\":[0.826914048,0.826914048],\"sizemode\":\"area\",\"sizeref\":0.06919964928000001},\"mode\":\"markers\",\"name\":\"TPU v5e\",\"showlegend\":false,\"x\":[200.0,200.0],\"y\":[0.206728512,0.206728512],\"type\":\"scatter\",\"xaxis\":\"x2\",\"yaxis\":\"y2\"},{\"hovertemplate\":\"Model Size: %{x:.1f}B params\\u003cbr\\u003ePower\\u002fParam: %{y:.2f} W\\u002fB\\u003cbr\\u003eTotal Power: %{marker.size:.0f}W\\u003cbr\\u003e\\u003cextra\\u003e\\u003c\\u002fextra\\u003e\",\"marker\":{\"size\":[5.6,5.6,5.6,5.6,5.6,5.6,5.6,5.6,5.6,5.6,5.6,5.6,5.6,5.6,5.6,5.6,5.6,5.6,5.6,5.6,5.6,5.6,5.6,5.6,5.6,5.6,5.6,5.6,5.6,5.6,5.6,5.6],\"sizemode\":\"area\",\"sizeref\":1.272},\"mode\":\"markers\",\"name\":\"NVIDIA GH200 Grace Hopper Superchip 144GB\",\"x\":[150.0,150.0,150.0,150.0,150.0,150.0,150.0,150.0,150.0,150.0,150.0,150.0,150.0,150.0,150.0,150.0,150.0,150.0,150.0,150.0,150.0,150.0,150.0,150.0,150.0,150.0,150.0,150.0,150.0,150.0,150.0,150.0],\"y\":[80.0,80.0,80.0,80.0,80.0,80.0,80.0,80.0,80.0,80.0,80.0,80.0,80.0,80.0,80.0,80.0,80.0,80.0,80.0,80.0,80.0,80.0,80.0,80.0,80.0,80.0,80.0,80.0,80.0,80.0,80.0,80.0],\"type\":\"scatter\",\"xaxis\":\"x\",\"yaxis\":\"y\"},{\"hovertemplate\":\"Model Size: %{x:.1f}B params\\u003cbr\\u003eCO2\\u002fParam: %{y:.2f} lbs\\u002fB\\u002fday\\u003cbr\\u003eDaily CO2: %{marker.size:.0f}lbs\\u003cbr\\u003e\\u003cextra\\u003e\\u003c\\u002fextra\\u003e\",\"marker\":{\"size\":[0.609305088,0.609305088,0.609305088,0.609305088,0.609305088,0.609305088,0.609305088,0.609305088,0.609305088,0.609305088,0.609305088,0.609305088,0.609305088,0.609305088,0.609305088,0.609305088,0.609305088,0.609305088,0.609305088,0.609305088,0.609305088,0.609305088,0.609305088,0.609305088,0.609305088,0.609305088,0.609305088,0.609305088,0.609305088,0.609305088,0.609305088,0.609305088],\"sizemode\":\"area\",\"sizeref\":0.06919964928000001},\"mode\":\"markers\",\"name\":\"NVIDIA GH200 Grace Hopper Superchip 144GB\",\"showlegend\":false,\"x\":[150.0,150.0,150.0,150.0,150.0,150.0,150.0,150.0,150.0,150.0,150.0,150.0,150.0,150.0,150.0,150.0,150.0,150.0,150.0,150.0,150.0,150.0,150.0,150.0,150.0,150.0,150.0,150.0,150.0,150.0,150.0,150.0],\"y\":[0.20310169600000003,0.20310169600000003,0.20310169600000003,0.20310169600000003,0.20310169600000003,0.20310169600000003,0.20310169600000003,0.20310169600000003,0.20310169600000003,0.20310169600000003,0.20310169600000003,0.20310169600000003,0.20310169600000003,0.20310169600000003,0.20310169600000003,0.20310169600000003,0.20310169600000003,0.20310169600000003,0.20310169600000003,0.20310169600000003,0.20310169600000003,0.20310169600000003,0.20310169600000003,0.20310169600000003,0.20310169600000003,0.20310169600000003,0.20310169600000003,0.20310169600000003,0.20310169600000003,0.20310169600000003,0.20310169600000003,0.20310169600000003],\"type\":\"scatter\",\"xaxis\":\"x2\",\"yaxis\":\"y2\"},{\"hovertemplate\":\"Model Size: %{x:.1f}B params\\u003cbr\\u003ePower\\u002fParam: %{y:.2f} W\\u002fB\\u003cbr\\u003eTotal Power: %{marker.size:.0f}W\\u003cbr\\u003e\\u003cextra\\u003e\\u003c\\u002fextra\\u003e\",\"marker\":{\"size\":[11.8,11.8,11.8,11.8,60.8,60.8,60.8,60.8],\"sizemode\":\"area\",\"sizeref\":1.272},\"mode\":\"markers\",\"name\":\"NVIDIA H200-SXM-141GB-CTS\",\"x\":[200.0,200.0,200.0,200.0,1600.0,1600.0,1600.0,1600.0],\"y\":[168.57142857142858,168.57142857142858,168.57142857142858,168.57142857142858,108.57142857142857,108.57142857142857,108.57142857142857,108.57142857142857],\"type\":\"scatter\",\"xaxis\":\"x\",\"yaxis\":\"y\"},{\"hovertemplate\":\"Model Size: %{x:.1f}B params\\u003cbr\\u003eCO2\\u002fParam: %{y:.2f} lbs\\u002fB\\u002fday\\u003cbr\\u003eDaily CO2: %{marker.size:.0f}lbs\\u003cbr\\u003e\\u003cextra\\u003e\\u003c\\u002fextra\\u003e\",\"marker\":{\"size\":[1.2838928640000002,1.2838928640000002,1.2838928640000002,1.2838928640000002,6.615312384,6.615312384,6.615312384,6.615312384],\"sizemode\":\"area\",\"sizeref\":0.06919964928000001},\"mode\":\"markers\",\"name\":\"NVIDIA H200-SXM-141GB-CTS\",\"showlegend\":false,\"x\":[200.0,200.0,200.0,200.0,1600.0,1600.0,1600.0,1600.0],\"y\":[0.32097321600000006,0.32097321600000006,0.32097321600000006,0.32097321600000006,0.206728512,0.206728512,0.206728512,0.206728512],\"type\":\"scatter\",\"xaxis\":\"x2\",\"yaxis\":\"y2\"},{\"hovertemplate\":\"Model Size: %{x:.1f}B params\\u003cbr\\u003ePower\\u002fParam: %{y:.2f} W\\u002fB\\u003cbr\\u003eTotal Power: %{marker.size:.0f}W\\u003cbr\\u003e\\u003cextra\\u003e\\u003c\\u002fextra\\u003e\",\"marker\":{\"size\":[5.6,5.6,5.6,5.6,5.6,5.6,5.6,5.6,5.6,5.6,5.6,5.6,5.6,5.6,5.6,5.6,5.6,5.6,5.6,5.6,5.6,5.6,5.6,5.6,5.6,5.6,5.6,5.6,5.6,5.6,5.6,5.6,5.6,5.6,5.6,5.6,5.6,5.6,5.6,5.6],\"sizemode\":\"area\",\"sizeref\":1.272},\"mode\":\"markers\",\"name\":\"NVIDIA GH200 Grace Hopper Superchip 96GB\",\"x\":[150.0,150.0,150.0,150.0,150.0,150.0,150.0,150.0,150.0,150.0,150.0,150.0,150.0,150.0,150.0,150.0,150.0,150.0,150.0,150.0,150.0,150.0,150.0,150.0,150.0,150.0,150.0,150.0,150.0,150.0,150.0,150.0,150.0,150.0,150.0,150.0,150.0,150.0,150.0,150.0],\"y\":[80.0,80.0,80.0,80.0,80.0,80.0,80.0,80.0,80.0,80.0,80.0,80.0,80.0,80.0,80.0,80.0,80.0,80.0,80.0,80.0,80.0,80.0,80.0,80.0,80.0,80.0,80.0,80.0,80.0,80.0,80.0,80.0,80.0,80.0,80.0,80.0,80.0,80.0,80.0,80.0],\"type\":\"scatter\",\"xaxis\":\"x\",\"yaxis\":\"y\"},{\"hovertemplate\":\"Model Size: %{x:.1f}B params\\u003cbr\\u003eCO2\\u002fParam: %{y:.2f} lbs\\u002fB\\u002fday\\u003cbr\\u003eDaily CO2: %{marker.size:.0f}lbs\\u003cbr\\u003e\\u003cextra\\u003e\\u003c\\u002fextra\\u003e\",\"marker\":{\"size\":[0.609305088,0.609305088,0.609305088,0.609305088,0.609305088,0.609305088,0.609305088,0.609305088,0.609305088,0.609305088,0.609305088,0.609305088,0.609305088,0.609305088,0.609305088,0.609305088,0.609305088,0.609305088,0.609305088,0.609305088,0.609305088,0.609305088,0.609305088,0.609305088,0.609305088,0.609305088,0.609305088,0.609305088,0.609305088,0.609305088,0.609305088,0.609305088,0.609305088,0.609305088,0.609305088,0.609305088,0.609305088,0.609305088,0.609305088,0.609305088],\"sizemode\":\"area\",\"sizeref\":0.06919964928000001},\"mode\":\"markers\",\"name\":\"NVIDIA GH200 Grace Hopper Superchip 96GB\",\"showlegend\":false,\"x\":[150.0,150.0,150.0,150.0,150.0,150.0,150.0,150.0,150.0,150.0,150.0,150.0,150.0,150.0,150.0,150.0,150.0,150.0,150.0,150.0,150.0,150.0,150.0,150.0,150.0,150.0,150.0,150.0,150.0,150.0,150.0,150.0,150.0,150.0,150.0,150.0,150.0,150.0,150.0,150.0],\"y\":[0.20310169600000003,0.20310169600000003,0.20310169600000003,0.20310169600000003,0.20310169600000003,0.20310169600000003,0.20310169600000003,0.20310169600000003,0.20310169600000003,0.20310169600000003,0.20310169600000003,0.20310169600000003,0.20310169600000003,0.20310169600000003,0.20310169600000003,0.20310169600000003,0.20310169600000003,0.20310169600000003,0.20310169600000003,0.20310169600000003,0.20310169600000003,0.20310169600000003,0.20310169600000003,0.20310169600000003,0.20310169600000003,0.20310169600000003,0.20310169600000003,0.20310169600000003,0.20310169600000003,0.20310169600000003,0.20310169600000003,0.20310169600000003,0.20310169600000003,0.20310169600000003,0.20310169600000003,0.20310169600000003,0.20310169600000003,0.20310169600000003,0.20310169600000003,0.20310169600000003],\"type\":\"scatter\",\"xaxis\":\"x2\",\"yaxis\":\"y2\"},{\"hovertemplate\":\"Model Size: %{x:.1f}B params\\u003cbr\\u003ePower\\u002fParam: %{y:.2f} W\\u002fB\\u003cbr\\u003eTotal Power: %{marker.size:.0f}W\\u003cbr\\u003e\\u003cextra\\u003e\\u003c\\u002fextra\\u003e\",\"marker\":{\"size\":[3.6,3.6],\"sizemode\":\"area\",\"sizeref\":1.272},\"mode\":\"markers\",\"name\":\"UntetherAI speedAI240 Slim\",\"x\":[0.0,0.0],\"y\":[8.571428571428571,8.571428571428571],\"type\":\"scatter\",\"xaxis\":\"x\",\"yaxis\":\"y\"},{\"hovertemplate\":\"Model Size: %{x:.1f}B params\\u003cbr\\u003eCO2\\u002fParam: %{y:.2f} lbs\\u002fB\\u002fday\\u003cbr\\u003eDaily CO2: %{marker.size:.0f}lbs\\u003cbr\\u003e\\u003cextra\\u003e\\u003c\\u002fextra\\u003e\",\"marker\":{\"size\":[0.39169612800000003,0.39169612800000003],\"sizemode\":\"area\",\"sizeref\":0.06919964928000001},\"mode\":\"markers\",\"name\":\"UntetherAI speedAI240 Slim\",\"showlegend\":false,\"x\":[0.0,0.0],\"y\":[null,null],\"type\":\"scatter\",\"xaxis\":\"x2\",\"yaxis\":\"y2\"},{\"hovertemplate\":\"Model Size: %{x:.1f}B params\\u003cbr\\u003ePower\\u002fParam: %{y:.2f} W\\u002fB\\u003cbr\\u003eTotal Power: %{marker.size:.0f}W\\u003cbr\\u003e\\u003cextra\\u003e\\u003c\\u002fextra\\u003e\",\"marker\":{\"size\":[11.0,11.0],\"sizemode\":\"area\",\"sizeref\":1.272},\"mode\":\"markers\",\"name\":\"TPU v6\",\"x\":[200.0,200.0],\"y\":[39.285714285714285,39.285714285714285],\"type\":\"scatter\",\"xaxis\":\"x\",\"yaxis\":\"y\"},{\"hovertemplate\":\"Model Size: %{x:.1f}B params\\u003cbr\\u003eCO2\\u002fParam: %{y:.2f} lbs\\u002fB\\u002fday\\u003cbr\\u003eDaily CO2: %{marker.size:.0f}lbs\\u003cbr\\u003e\\u003cextra\\u003e\\u003c\\u002fextra\\u003e\",\"marker\":{\"size\":[1.1968492800000001,1.1968492800000001],\"sizemode\":\"area\",\"sizeref\":0.06919964928000001},\"mode\":\"markers\",\"name\":\"TPU v6\",\"showlegend\":false,\"x\":[200.0,200.0],\"y\":[0.29921232000000003,0.29921232000000003],\"type\":\"scatter\",\"xaxis\":\"x2\",\"yaxis\":\"y2\"},{\"hovertemplate\":\"Model Size: %{x:.1f}B params\\u003cbr\\u003ePower\\u002fParam: %{y:.2f} W\\u002fB\\u003cbr\\u003eTotal Power: %{marker.size:.0f}W\\u003cbr\\u003e\\u003cextra\\u003e\\u003c\\u002fextra\\u003e\",\"marker\":{\"size\":[2.6,2.6,2.6,2.6],\"sizemode\":\"area\",\"sizeref\":1.272},\"mode\":\"markers\",\"name\":\"NVIDIA B200-SXM-180GB\",\"x\":[0.0,0.0,0.0,0.0],\"y\":[37.142857142857146,37.142857142857146,37.142857142857146,37.142857142857146],\"type\":\"scatter\",\"xaxis\":\"x\",\"yaxis\":\"y\"},{\"hovertemplate\":\"Model Size: %{x:.1f}B params\\u003cbr\\u003eCO2\\u002fParam: %{y:.2f} lbs\\u002fB\\u002fday\\u003cbr\\u003eDaily CO2: %{marker.size:.0f}lbs\\u003cbr\\u003e\\u003cextra\\u003e\\u003c\\u002fextra\\u003e\",\"marker\":{\"size\":[0.282891648,0.282891648,0.282891648,0.282891648],\"sizemode\":\"area\",\"sizeref\":0.06919964928000001},\"mode\":\"markers\",\"name\":\"NVIDIA B200-SXM-180GB\",\"showlegend\":false,\"x\":[0.0,0.0,0.0,0.0],\"y\":[null,null,null,null],\"type\":\"scatter\",\"xaxis\":\"x2\",\"yaxis\":\"y2\"},{\"hovertemplate\":\"Model Size: %{x:.1f}B params\\u003cbr\\u003ePower\\u002fParam: %{y:.2f} W\\u002fB\\u003cbr\\u003eTotal Power: %{marker.size:.0f}W\\u003cbr\\u003e\\u003cextra\\u003e\\u003c\\u002fextra\\u003e\",\"marker\":{\"size\":[2.8,2.8,2.8,2.8],\"sizemode\":\"area\",\"sizeref\":1.272},\"mode\":\"markers\",\"name\":\"UntetherAI speedAI240 Preview\",\"x\":[0.0,0.0,0.0,0.0],\"y\":[40.0,40.0,20.0,20.0],\"type\":\"scatter\",\"xaxis\":\"x\",\"yaxis\":\"y\"},{\"hovertemplate\":\"Model Size: %{x:.1f}B params\\u003cbr\\u003eCO2\\u002fParam: %{y:.2f} lbs\\u002fB\\u002fday\\u003cbr\\u003eDaily CO2: %{marker.size:.0f}lbs\\u003cbr\\u003e\\u003cextra\\u003e\\u003c\\u002fextra\\u003e\",\"marker\":{\"size\":[0.304652544,0.304652544,0.304652544,0.304652544],\"sizemode\":\"area\",\"sizeref\":0.06919964928000001},\"mode\":\"markers\",\"name\":\"UntetherAI speedAI240 Preview\",\"showlegend\":false,\"x\":[0.0,0.0,0.0,0.0],\"y\":[null,null,null,null],\"type\":\"scatter\",\"xaxis\":\"x2\",\"yaxis\":\"y2\"}],                        {\"template\":{\"data\":{\"histogram2dcontour\":[{\"type\":\"histogram2dcontour\",\"colorbar\":{\"outlinewidth\":0,\"ticks\":\"\"},\"colorscale\":[[0.0,\"#0d0887\"],[0.1111111111111111,\"#46039f\"],[0.2222222222222222,\"#7201a8\"],[0.3333333333333333,\"#9c179e\"],[0.4444444444444444,\"#bd3786\"],[0.5555555555555556,\"#d8576b\"],[0.6666666666666666,\"#ed7953\"],[0.7777777777777778,\"#fb9f3a\"],[0.8888888888888888,\"#fdca26\"],[1.0,\"#f0f921\"]]}],\"choropleth\":[{\"type\":\"choropleth\",\"colorbar\":{\"outlinewidth\":0,\"ticks\":\"\"}}],\"histogram2d\":[{\"type\":\"histogram2d\",\"colorbar\":{\"outlinewidth\":0,\"ticks\":\"\"},\"colorscale\":[[0.0,\"#0d0887\"],[0.1111111111111111,\"#46039f\"],[0.2222222222222222,\"#7201a8\"],[0.3333333333333333,\"#9c179e\"],[0.4444444444444444,\"#bd3786\"],[0.5555555555555556,\"#d8576b\"],[0.6666666666666666,\"#ed7953\"],[0.7777777777777778,\"#fb9f3a\"],[0.8888888888888888,\"#fdca26\"],[1.0,\"#f0f921\"]]}],\"heatmap\":[{\"type\":\"heatmap\",\"colorbar\":{\"outlinewidth\":0,\"ticks\":\"\"},\"colorscale\":[[0.0,\"#0d0887\"],[0.1111111111111111,\"#46039f\"],[0.2222222222222222,\"#7201a8\"],[0.3333333333333333,\"#9c179e\"],[0.4444444444444444,\"#bd3786\"],[0.5555555555555556,\"#d8576b\"],[0.6666666666666666,\"#ed7953\"],[0.7777777777777778,\"#fb9f3a\"],[0.8888888888888888,\"#fdca26\"],[1.0,\"#f0f921\"]]}],\"heatmapgl\":[{\"type\":\"heatmapgl\",\"colorbar\":{\"outlinewidth\":0,\"ticks\":\"\"},\"colorscale\":[[0.0,\"#0d0887\"],[0.1111111111111111,\"#46039f\"],[0.2222222222222222,\"#7201a8\"],[0.3333333333333333,\"#9c179e\"],[0.4444444444444444,\"#bd3786\"],[0.5555555555555556,\"#d8576b\"],[0.6666666666666666,\"#ed7953\"],[0.7777777777777778,\"#fb9f3a\"],[0.8888888888888888,\"#fdca26\"],[1.0,\"#f0f921\"]]}],\"contourcarpet\":[{\"type\":\"contourcarpet\",\"colorbar\":{\"outlinewidth\":0,\"ticks\":\"\"}}],\"contour\":[{\"type\":\"contour\",\"colorbar\":{\"outlinewidth\":0,\"ticks\":\"\"},\"colorscale\":[[0.0,\"#0d0887\"],[0.1111111111111111,\"#46039f\"],[0.2222222222222222,\"#7201a8\"],[0.3333333333333333,\"#9c179e\"],[0.4444444444444444,\"#bd3786\"],[0.5555555555555556,\"#d8576b\"],[0.6666666666666666,\"#ed7953\"],[0.7777777777777778,\"#fb9f3a\"],[0.8888888888888888,\"#fdca26\"],[1.0,\"#f0f921\"]]}],\"surface\":[{\"type\":\"surface\",\"colorbar\":{\"outlinewidth\":0,\"ticks\":\"\"},\"colorscale\":[[0.0,\"#0d0887\"],[0.1111111111111111,\"#46039f\"],[0.2222222222222222,\"#7201a8\"],[0.3333333333333333,\"#9c179e\"],[0.4444444444444444,\"#bd3786\"],[0.5555555555555556,\"#d8576b\"],[0.6666666666666666,\"#ed7953\"],[0.7777777777777778,\"#fb9f3a\"],[0.8888888888888888,\"#fdca26\"],[1.0,\"#f0f921\"]]}],\"mesh3d\":[{\"type\":\"mesh3d\",\"colorbar\":{\"outlinewidth\":0,\"ticks\":\"\"}}],\"scatter\":[{\"fillpattern\":{\"fillmode\":\"overlay\",\"size\":10,\"solidity\":0.2},\"type\":\"scatter\"}],\"parcoords\":[{\"type\":\"parcoords\",\"line\":{\"colorbar\":{\"outlinewidth\":0,\"ticks\":\"\"}}}],\"scatterpolargl\":[{\"type\":\"scatterpolargl\",\"marker\":{\"colorbar\":{\"outlinewidth\":0,\"ticks\":\"\"}}}],\"bar\":[{\"error_x\":{\"color\":\"#2a3f5f\"},\"error_y\":{\"color\":\"#2a3f5f\"},\"marker\":{\"line\":{\"color\":\"#E5ECF6\",\"width\":0.5},\"pattern\":{\"fillmode\":\"overlay\",\"size\":10,\"solidity\":0.2}},\"type\":\"bar\"}],\"scattergeo\":[{\"type\":\"scattergeo\",\"marker\":{\"colorbar\":{\"outlinewidth\":0,\"ticks\":\"\"}}}],\"scatterpolar\":[{\"type\":\"scatterpolar\",\"marker\":{\"colorbar\":{\"outlinewidth\":0,\"ticks\":\"\"}}}],\"histogram\":[{\"marker\":{\"pattern\":{\"fillmode\":\"overlay\",\"size\":10,\"solidity\":0.2}},\"type\":\"histogram\"}],\"scattergl\":[{\"type\":\"scattergl\",\"marker\":{\"colorbar\":{\"outlinewidth\":0,\"ticks\":\"\"}}}],\"scatter3d\":[{\"type\":\"scatter3d\",\"line\":{\"colorbar\":{\"outlinewidth\":0,\"ticks\":\"\"}},\"marker\":{\"colorbar\":{\"outlinewidth\":0,\"ticks\":\"\"}}}],\"scattermapbox\":[{\"type\":\"scattermapbox\",\"marker\":{\"colorbar\":{\"outlinewidth\":0,\"ticks\":\"\"}}}],\"scatterternary\":[{\"type\":\"scatterternary\",\"marker\":{\"colorbar\":{\"outlinewidth\":0,\"ticks\":\"\"}}}],\"scattercarpet\":[{\"type\":\"scattercarpet\",\"marker\":{\"colorbar\":{\"outlinewidth\":0,\"ticks\":\"\"}}}],\"carpet\":[{\"aaxis\":{\"endlinecolor\":\"#2a3f5f\",\"gridcolor\":\"white\",\"linecolor\":\"white\",\"minorgridcolor\":\"white\",\"startlinecolor\":\"#2a3f5f\"},\"baxis\":{\"endlinecolor\":\"#2a3f5f\",\"gridcolor\":\"white\",\"linecolor\":\"white\",\"minorgridcolor\":\"white\",\"startlinecolor\":\"#2a3f5f\"},\"type\":\"carpet\"}],\"table\":[{\"cells\":{\"fill\":{\"color\":\"#EBF0F8\"},\"line\":{\"color\":\"white\"}},\"header\":{\"fill\":{\"color\":\"#C8D4E3\"},\"line\":{\"color\":\"white\"}},\"type\":\"table\"}],\"barpolar\":[{\"marker\":{\"line\":{\"color\":\"#E5ECF6\",\"width\":0.5},\"pattern\":{\"fillmode\":\"overlay\",\"size\":10,\"solidity\":0.2}},\"type\":\"barpolar\"}],\"pie\":[{\"automargin\":true,\"type\":\"pie\"}]},\"layout\":{\"autotypenumbers\":\"strict\",\"colorway\":[\"#636efa\",\"#EF553B\",\"#00cc96\",\"#ab63fa\",\"#FFA15A\",\"#19d3f3\",\"#FF6692\",\"#B6E880\",\"#FF97FF\",\"#FECB52\"],\"font\":{\"color\":\"#2a3f5f\"},\"hovermode\":\"closest\",\"hoverlabel\":{\"align\":\"left\"},\"paper_bgcolor\":\"white\",\"plot_bgcolor\":\"#E5ECF6\",\"polar\":{\"bgcolor\":\"#E5ECF6\",\"angularaxis\":{\"gridcolor\":\"white\",\"linecolor\":\"white\",\"ticks\":\"\"},\"radialaxis\":{\"gridcolor\":\"white\",\"linecolor\":\"white\",\"ticks\":\"\"}},\"ternary\":{\"bgcolor\":\"#E5ECF6\",\"aaxis\":{\"gridcolor\":\"white\",\"linecolor\":\"white\",\"ticks\":\"\"},\"baxis\":{\"gridcolor\":\"white\",\"linecolor\":\"white\",\"ticks\":\"\"},\"caxis\":{\"gridcolor\":\"white\",\"linecolor\":\"white\",\"ticks\":\"\"}},\"coloraxis\":{\"colorbar\":{\"outlinewidth\":0,\"ticks\":\"\"}},\"colorscale\":{\"sequential\":[[0.0,\"#0d0887\"],[0.1111111111111111,\"#46039f\"],[0.2222222222222222,\"#7201a8\"],[0.3333333333333333,\"#9c179e\"],[0.4444444444444444,\"#bd3786\"],[0.5555555555555556,\"#d8576b\"],[0.6666666666666666,\"#ed7953\"],[0.7777777777777778,\"#fb9f3a\"],[0.8888888888888888,\"#fdca26\"],[1.0,\"#f0f921\"]],\"sequentialminus\":[[0.0,\"#0d0887\"],[0.1111111111111111,\"#46039f\"],[0.2222222222222222,\"#7201a8\"],[0.3333333333333333,\"#9c179e\"],[0.4444444444444444,\"#bd3786\"],[0.5555555555555556,\"#d8576b\"],[0.6666666666666666,\"#ed7953\"],[0.7777777777777778,\"#fb9f3a\"],[0.8888888888888888,\"#fdca26\"],[1.0,\"#f0f921\"]],\"diverging\":[[0,\"#8e0152\"],[0.1,\"#c51b7d\"],[0.2,\"#de77ae\"],[0.3,\"#f1b6da\"],[0.4,\"#fde0ef\"],[0.5,\"#f7f7f7\"],[0.6,\"#e6f5d0\"],[0.7,\"#b8e186\"],[0.8,\"#7fbc41\"],[0.9,\"#4d9221\"],[1,\"#276419\"]]},\"xaxis\":{\"gridcolor\":\"white\",\"linecolor\":\"white\",\"ticks\":\"\",\"title\":{\"standoff\":15},\"zerolinecolor\":\"white\",\"automargin\":true,\"zerolinewidth\":2},\"yaxis\":{\"gridcolor\":\"white\",\"linecolor\":\"white\",\"ticks\":\"\",\"title\":{\"standoff\":15},\"zerolinecolor\":\"white\",\"automargin\":true,\"zerolinewidth\":2},\"scene\":{\"xaxis\":{\"backgroundcolor\":\"#E5ECF6\",\"gridcolor\":\"white\",\"linecolor\":\"white\",\"showbackground\":true,\"ticks\":\"\",\"zerolinecolor\":\"white\",\"gridwidth\":2},\"yaxis\":{\"backgroundcolor\":\"#E5ECF6\",\"gridcolor\":\"white\",\"linecolor\":\"white\",\"showbackground\":true,\"ticks\":\"\",\"zerolinecolor\":\"white\",\"gridwidth\":2},\"zaxis\":{\"backgroundcolor\":\"#E5ECF6\",\"gridcolor\":\"white\",\"linecolor\":\"white\",\"showbackground\":true,\"ticks\":\"\",\"zerolinecolor\":\"white\",\"gridwidth\":2}},\"shapedefaults\":{\"line\":{\"color\":\"#2a3f5f\"}},\"annotationdefaults\":{\"arrowcolor\":\"#2a3f5f\",\"arrowhead\":0,\"arrowwidth\":1},\"geo\":{\"bgcolor\":\"white\",\"landcolor\":\"#E5ECF6\",\"subunitcolor\":\"white\",\"showland\":true,\"showlakes\":true,\"lakecolor\":\"white\"},\"title\":{\"x\":0.05},\"mapbox\":{\"style\":\"light\"}}},\"xaxis\":{\"anchor\":\"y\",\"domain\":[0.0,0.45],\"title\":{\"text\":\"Model Size (Billion Parameters)\"},\"type\":\"log\"},\"yaxis\":{\"anchor\":\"x\",\"domain\":[0.0,1.0],\"title\":{\"text\":\"Watts per Billion Parameters\"},\"type\":\"log\"},\"xaxis2\":{\"anchor\":\"y2\",\"domain\":[0.55,1.0],\"title\":{\"text\":\"Model Size (Billion Parameters)\"},\"type\":\"log\"},\"yaxis2\":{\"anchor\":\"x2\",\"domain\":[0.0,1.0],\"title\":{\"text\":\"Daily CO2 (lbs) per Billion Parameters\"},\"type\":\"log\"},\"annotations\":[{\"font\":{\"size\":16},\"showarrow\":false,\"text\":\"Power Efficiency vs Model Size\",\"x\":0.225,\"xanchor\":\"center\",\"xref\":\"paper\",\"y\":1.0,\"yanchor\":\"bottom\",\"yref\":\"paper\"},{\"font\":{\"size\":16},\"showarrow\":false,\"text\":\"CO2 Impact vs Model Size\",\"x\":0.775,\"xanchor\":\"center\",\"xref\":\"paper\",\"y\":1.0,\"yanchor\":\"bottom\",\"yref\":\"paper\"}],\"title\":{\"text\":\"Model Size Impact Analysis\"},\"width\":1500,\"height\":700,\"showlegend\":true},                        {\"responsive\": true}                    ).then(function(){\n",
       "                            \n",
       "var gd = document.getElementById('000f1b94-80d4-4723-9813-422b1a638c3d');\n",
       "var x = new MutationObserver(function (mutations, observer) {{\n",
       "        var display = window.getComputedStyle(gd).display;\n",
       "        if (!display || display === 'none') {{\n",
       "            console.log([gd, 'removed!']);\n",
       "            Plotly.purge(gd);\n",
       "            observer.disconnect();\n",
       "        }}\n",
       "}});\n",
       "\n",
       "// Listen for the removal of the full notebook cells\n",
       "var notebookContainer = gd.closest('#notebook-container');\n",
       "if (notebookContainer) {{\n",
       "    x.observe(notebookContainer, {childList: true});\n",
       "}}\n",
       "\n",
       "// Listen for the clearing of the current output cell\n",
       "var outputEl = gd.closest('.output');\n",
       "if (outputEl) {{\n",
       "    x.observe(outputEl, {childList: true});\n",
       "}}\n",
       "\n",
       "                        })                };                });            </script>        </div>"
      ]
     },
     "metadata": {},
     "output_type": "display_data"
    },
    {
     "name": "stdout",
     "output_type": "stream",
     "text": [
      "\n",
      "Model Size Impact Summary:\n",
      "                              Metric                                     Value\n",
      "Average Power per Billion Parameters                                   inf W/B\n",
      "  Average CO2 per Billion Parameters                             inf lbs/B/day\n",
      "         Most Power-Efficient System ESC8000A-E12 (8x H100-PCIe-80GB TensorRT)\n",
      "        Least Power-Efficient System              C240M7-1-node-2S-EMR-PyTorch\n",
      "          Total Estimated Parameters                           573.66 trillion\n",
      "                  Average Model Size                            716.18 billion\n",
      "\n",
      "Efficiency by Accelerator Type:\n",
      "                                          power_per_billion_params          \\\n",
      "                                                              mean     min   \n",
      "Accelerator                                                                  \n",
      "AMD Instinct MI300X-NPS1-SPX-192GB-750W                      20.48    3.57   \n",
      "AMD MI300X-NPS1-SPX-192GB-750W                                7.14    7.14   \n",
      "NVIDIA B200-SXM-180GB                                        37.14   37.14   \n",
      "NVIDIA GH200 Grace Hopper Superchip 144GB                    80.00   80.00   \n",
      "NVIDIA GH200 Grace Hopper Superchip 96GB                     80.00   80.00   \n",
      "NVIDIA H100-NVL-94GB                                          3.09    2.73   \n",
      "NVIDIA H100-PCIe-80GB                                         3.04    2.26   \n",
      "NVIDIA H100-SXM-80GB                                          4.45    4.26   \n",
      "NVIDIA H200-SXM-141GB                                       110.45  107.86   \n",
      "NVIDIA H200-SXM-141GB-CTS                                   138.57  108.57   \n",
      "NVIDIA L40S                                                  22.42   16.12   \n",
      "TPU v5e                                                      27.14   27.14   \n",
      "TPU v6                                                       39.29   39.29   \n",
      "UntetherAI speedAI240 Preview                                30.00   20.00   \n",
      "UntetherAI speedAI240 Slim                                    8.57    8.57   \n",
      "\n",
      "                                                  co2_per_billion_params  \\\n",
      "                                              max                   mean   \n",
      "Accelerator                                                                \n",
      "AMD Instinct MI300X-NPS1-SPX-192GB-750W     51.43                   0.08   \n",
      "AMD MI300X-NPS1-SPX-192GB-750W               7.14                   0.03   \n",
      "NVIDIA B200-SXM-180GB                       37.14                    inf   \n",
      "NVIDIA GH200 Grace Hopper Superchip 144GB   80.00                   0.20   \n",
      "NVIDIA GH200 Grace Hopper Superchip 96GB    80.00                   0.20   \n",
      "NVIDIA H100-NVL-94GB                         3.43                    inf   \n",
      "NVIDIA H100-PCIe-80GB                        4.29                   0.41   \n",
      "NVIDIA H100-SXM-80GB                         4.97                   0.24   \n",
      "NVIDIA H200-SXM-141GB                      168.57                   0.21   \n",
      "NVIDIA H200-SXM-141GB-CTS                  168.57                   0.26   \n",
      "NVIDIA L40S                                 32.00                   1.22   \n",
      "TPU v5e                                     27.14                   0.21   \n",
      "TPU v6                                      39.29                   0.30   \n",
      "UntetherAI speedAI240 Preview               40.00                    inf   \n",
      "UntetherAI speedAI240 Slim                   8.57                    inf   \n",
      "\n",
      "                                                       \n",
      "                                            min   max  \n",
      "Accelerator                                            \n",
      "AMD Instinct MI300X-NPS1-SPX-192GB-750W    0.01  0.20  \n",
      "AMD MI300X-NPS1-SPX-192GB-750W             0.03  0.03  \n",
      "NVIDIA B200-SXM-180GB                       inf   inf  \n",
      "NVIDIA GH200 Grace Hopper Superchip 144GB  0.20  0.20  \n",
      "NVIDIA GH200 Grace Hopper Superchip 96GB   0.20  0.20  \n",
      "NVIDIA H100-NVL-94GB                        inf   inf  \n",
      "NVIDIA H100-PCIe-80GB                      0.31  0.58  \n",
      "NVIDIA H100-SXM-80GB                       0.23  0.27  \n",
      "NVIDIA H200-SXM-141GB                      0.21  0.32  \n",
      "NVIDIA H200-SXM-141GB-CTS                  0.21  0.32  \n",
      "NVIDIA L40S                                0.88  1.74  \n",
      "TPU v5e                                    0.21  0.21  \n",
      "TPU v6                                     0.30  0.30  \n",
      "UntetherAI speedAI240 Preview               inf   inf  \n",
      "UntetherAI speedAI240 Slim                  inf   inf  \n"
     ]
    }
   ],
   "source": [
    "import plotly.graph_objects as go\n",
    "\n",
    "def analyze_model_impact():\n",
    "    \"\"\"Analyze relationship between model size and environmental impact\"\"\"\n",
    "    print(\"Analyzing model size impact...\")\n",
    "    \n",
    "    # Calculate daily CO2 using KS emissions rate\n",
    "    KS_EMISSIONS_RATE = 2266.76  # from our previous analysis\n",
    "    mlperf_df['daily_co2'] = mlperf_df['total_power'] * 24 / 1_000_000 * KS_EMISSIONS_RATE\n",
    "    \n",
    "    # Calculate efficiency metrics\n",
    "    mlperf_df['co2_per_billion_params'] = mlperf_df['daily_co2'] / mlperf_df['params_billions']\n",
    "    \n",
    "    # Create visualization\n",
    "    fig = make_subplots(rows=1, cols=2,\n",
    "                       subplot_titles=('Power Efficiency vs Model Size',\n",
    "                                     'CO2 Impact vs Model Size'))\n",
    "    \n",
    "    # Add power efficiency scatter plot\n",
    "    for acc_type in mlperf_df['Accelerator'].unique():\n",
    "        if pd.isna(acc_type):\n",
    "            continue\n",
    "        mask = mlperf_df['Accelerator'] == acc_type\n",
    "        \n",
    "        # Power efficiency plot\n",
    "        fig.add_trace(\n",
    "            go.Scatter(\n",
    "                x=mlperf_df[mask]['params_billions'],\n",
    "                y=mlperf_df[mask]['power_per_billion_params'],\n",
    "                mode='markers',\n",
    "                name=acc_type,\n",
    "                marker=dict(\n",
    "                    size=mlperf_df[mask]['total_power'] / 100,\n",
    "                    sizemode='area',\n",
    "                    sizeref=2.*max(mlperf_df['total_power'])/(100.**2),\n",
    "                ),\n",
    "                hovertemplate=(\n",
    "                    \"Model Size: %{x:.1f}B params<br>\" +\n",
    "                    \"Power/Param: %{y:.2f} W/B<br>\" +\n",
    "                    \"Total Power: %{marker.size:.0f}W<br>\" +\n",
    "                    \"<extra></extra>\"\n",
    "                )\n",
    "            ),\n",
    "            row=1, col=1\n",
    "        )\n",
    "        \n",
    "        # CO2 impact plot\n",
    "        fig.add_trace(\n",
    "            go.Scatter(\n",
    "                x=mlperf_df[mask]['params_billions'],\n",
    "                y=mlperf_df[mask]['co2_per_billion_params'],\n",
    "                mode='markers',\n",
    "                name=acc_type,\n",
    "                marker=dict(\n",
    "                    size=mlperf_df[mask]['daily_co2'] / 50,\n",
    "                    sizemode='area',\n",
    "                    sizeref=2.*max(mlperf_df['daily_co2'])/(100.**2),\n",
    "                ),\n",
    "                hovertemplate=(\n",
    "                    \"Model Size: %{x:.1f}B params<br>\" +\n",
    "                    \"CO2/Param: %{y:.2f} lbs/B/day<br>\" +\n",
    "                    \"Daily CO2: %{marker.size:.0f}lbs<br>\" +\n",
    "                    \"<extra></extra>\"\n",
    "                ),\n",
    "                showlegend=False\n",
    "            ),\n",
    "            row=1, col=2\n",
    "        )\n",
    "    \n",
    "    fig.update_layout(\n",
    "        title=\"Model Size Impact Analysis\",\n",
    "        width=1500,\n",
    "        height=700,\n",
    "        showlegend=True\n",
    "    )\n",
    "    \n",
    "    # Update x and y axes\n",
    "    fig.update_xaxes(title=\"Model Size (Billion Parameters)\", type=\"log\", row=1, col=1)\n",
    "    fig.update_xaxes(title=\"Model Size (Billion Parameters)\", type=\"log\", row=1, col=2)\n",
    "    fig.update_yaxes(title=\"Watts per Billion Parameters\", type=\"log\", row=1, col=1)\n",
    "    fig.update_yaxes(title=\"Daily CO2 (lbs) per Billion Parameters\", type=\"log\", row=1, col=2)\n",
    "    \n",
    "    # Save and display\n",
    "    fig.write_html(os.path.join(images_dir, 'model_size_impact.html'))\n",
    "    fig.show()\n",
    "    \n",
    "    # Calculate summary statistics\n",
    "    summary = pd.DataFrame({\n",
    "        'Metric': [\n",
    "            'Average Power per Billion Parameters',\n",
    "            'Average CO2 per Billion Parameters',\n",
    "            'Most Power-Efficient System',\n",
    "            'Least Power-Efficient System',\n",
    "            'Total Estimated Parameters',\n",
    "            'Average Model Size'\n",
    "        ],\n",
    "        'Value': [\n",
    "            f\"{mlperf_df['power_per_billion_params'].mean():.2f} W/B\",\n",
    "            f\"{mlperf_df['co2_per_billion_params'].mean():.2f} lbs/B/day\",\n",
    "            mlperf_df.loc[mlperf_df['power_per_billion_params'].idxmin(), 'System Name (click + for details)'],\n",
    "            mlperf_df.loc[mlperf_df['power_per_billion_params'].idxmax(), 'System Name (click + for details)'],\n",
    "            f\"{mlperf_df['estimated_params'].sum() / 1e12:.2f} trillion\",\n",
    "            f\"{mlperf_df['params_billions'].mean():.2f} billion\"\n",
    "        ]\n",
    "    })\n",
    "    \n",
    "    print(\"\\nModel Size Impact Summary:\")\n",
    "    print(summary.to_string(index=False))\n",
    "    \n",
    "    # Additional insights\n",
    "    print(\"\\nEfficiency by Accelerator Type:\")\n",
    "    acc_summary = mlperf_df.groupby('Accelerator').agg({\n",
    "        'power_per_billion_params': ['mean', 'min', 'max'],\n",
    "        'co2_per_billion_params': ['mean', 'min', 'max']\n",
    "    }).round(2)\n",
    "    print(acc_summary)\n",
    "    \n",
    "    return summary, acc_summary\n",
    "\n",
    "model_impact_summary, acc_summary = analyze_model_impact()"
   ]
  },
  {
   "cell_type": "markdown",
   "metadata": {},
   "source": [
    "## Cost-Benefit Analysis:"
   ]
  },
  {
   "cell_type": "code",
   "execution_count": 23,
   "metadata": {},
   "outputs": [
    {
     "data": {
      "image/png": "[encoded data removed]",
      "text/plain": [
       "<Figure size 1500x800 with 2 Axes>"
      ]
     },
     "metadata": {},
     "output_type": "display_data"
    }
   ],
   "source": [
    "def analyze_efficiency_tradeoffs():\n",
    "    \"\"\"Analyze the trade-offs between power, performance, and cost\"\"\"\n",
    "    # Calculate efficiency metrics\n",
    "    analysis_df = mlperf_df.copy()\n",
    "    \n",
    "    # Power efficiency (FLOPS/Watt estimation)\n",
    "    analysis_df['power_efficiency'] = analysis_df['params_billions'] / analysis_df['total_power']\n",
    "    \n",
    "    # Cost estimation (based on current market prices)\n",
    "    accelerator_costs = {\n",
    "        'H100-SXM': 30000,\n",
    "        'H200-SXM': 40000,\n",
    "        'H100-PCIe': 25000,\n",
    "        'L40S': 15000,\n",
    "        'GH200': 35000,\n",
    "        'MI300X': 25000,\n",
    "        'TPU': 20000\n",
    "    }\n",
    "    \n",
    "    # Calculate total system cost\n",
    "    analysis_df['estimated_cost'] = analysis_df.apply(\n",
    "        lambda x: sum(cost for acc, cost in accelerator_costs.items() \n",
    "                     if acc in str(x['Accelerator'])) * x['# of Accelerators']\n",
    "        if pd.notna(x['Accelerator']) else 0, axis=1\n",
    "    )\n",
    "    \n",
    "    # Calculate cost efficiency metrics\n",
    "    analysis_df['params_per_dollar'] = analysis_df['params_billions'] / analysis_df['estimated_cost']\n",
    "    analysis_df['carbon_per_dollar'] = analysis_df['daily_co2'] / analysis_df['estimated_cost']\n",
    "    \n",
    "    return analysis_df\n",
    "\n",
    "# Run analysis\n",
    "efficiency_analysis = analyze_efficiency_tradeoffs()\n",
    "\n",
    "# Create visualization\n",
    "plt.figure(figsize=(15, 8))\n",
    "plt.scatter(\n",
    "    efficiency_analysis['estimated_cost'],\n",
    "    efficiency_analysis['power_efficiency'],\n",
    "    s=efficiency_analysis['params_billions'],\n",
    "    alpha=0.6,\n",
    "    c=efficiency_analysis['daily_co2'],\n",
    "    cmap='viridis'\n",
    ")\n",
    "plt.colorbar(label='Daily CO2 Emissions (lbs)')\n",
    "plt.xlabel('Estimated System Cost ($)')\n",
    "plt.ylabel('Power Efficiency (Params/Watt)')\n",
    "plt.title('Cost vs Efficiency Trade-offs in AI Systems')\n",
    "plt.yscale('log')\n",
    "plt.xscale('log')\n",
    "plt.tight_layout()\n",
    "plt.savefig('../images/analysis/cost_efficiency_tradeoff.png')\n",
    "plt.show()"
   ]
  },
  {
   "cell_type": "markdown",
   "metadata": {},
   "source": [
    "## Temporal Analysis"
   ]
  },
  {
   "cell_type": "code",
   "execution_count": 24,
   "metadata": {},
   "outputs": [
    {
     "name": "stdout",
     "output_type": "stream",
     "text": [
      "\n",
      "Generational Improvements in Efficiency:\n",
      "             power_per_billion_params  co2_per_billion_params  \\\n",
      "generation                                                      \n",
      "Current Gen                     33.82                     inf   \n",
      "Other                             inf                     inf   \n",
      "\n",
      "             params_billions  total_power  \n",
      "generation                                 \n",
      "Current Gen           904.41      4125.43  \n",
      "Other                  42.86      1078.51  \n"
     ]
    }
   ],
   "source": [
    "def analyze_generational_improvements():\n",
    "    \"\"\"Analyze efficiency improvements across hardware generations\"\"\"\n",
    "    gen_analysis = mlperf_df.copy()\n",
    "    \n",
    "    # Extract generation information\n",
    "    gen_analysis['generation'] = gen_analysis['Accelerator'].apply(\n",
    "        lambda x: 'Previous Gen' if any(old in str(x) for old in ['A100', 'MI200'])\n",
    "        else 'Current Gen' if any(new in str(x) for new in ['H100', 'H200', 'MI300'])\n",
    "        else 'Other'\n",
    "    )\n",
    "    \n",
    "    # Calculate average metrics by generation\n",
    "    gen_metrics = gen_analysis.groupby('generation').agg({\n",
    "        'power_per_billion_params': 'mean',\n",
    "        'co2_per_billion_params': 'mean',\n",
    "        'params_billions': 'mean',\n",
    "        'total_power': 'mean'\n",
    "    }).round(2)\n",
    "    \n",
    "    return gen_metrics\n",
    "\n",
    "generation_analysis = analyze_generational_improvements()\n",
    "print(\"\\nGenerational Improvements in Efficiency:\")\n",
    "print(generation_analysis)"
   ]
  },
  {
   "cell_type": "markdown",
   "metadata": {},
   "source": [
    "## Geographic Optimization Analysis"
   ]
  },
  {
   "cell_type": "code",
   "execution_count": 25,
   "metadata": {},
   "outputs": [
    {
     "name": "stdout",
     "output_type": "stream",
     "text": [
      "\n",
      "Top 5 States for AI Workload Optimization:\n",
      "  state  emissions_rate  daily_emissions_small  daily_emissions_medium  \\\n",
      "0    OR          431.09               20.69232                62.07696   \n",
      "0    NV          434.92               20.87616                62.62848   \n",
      "0    ID          446.23               21.41904                64.25712   \n",
      "0    RI          665.04               31.92192                95.76576   \n",
      "0    CA          732.03               35.13744               105.41232   \n",
      "\n",
      "   daily_emissions_large  potential_savings  \n",
      "0              124.15392          528.67296  \n",
      "0              125.25696          527.56992  \n",
      "0              128.51424          524.31264  \n",
      "0              191.53152          461.29536  \n",
      "0              210.82464          442.00224  \n"
     ]
    }
   ],
   "source": [
    "def analyze_optimal_locations():\n",
    "    \"\"\"Analyze optimal locations for AI workloads\"\"\"\n",
    "    # Combine power consumption with geographic emissions\n",
    "    location_analysis = pd.DataFrame()\n",
    "    \n",
    "    # Calculate emissions for each state for a standard workload\n",
    "    for state in state_stats.index:\n",
    "        emissions_rate = state_stats.loc[state, (emissions_col, 'mean')]\n",
    "        state_impact = pd.DataFrame({\n",
    "            'state': state,\n",
    "            'emissions_rate': emissions_rate,\n",
    "            'daily_emissions_small': calculate_daily_carbon(2000, emissions_rate),\n",
    "            'daily_emissions_medium': calculate_daily_carbon(6000, emissions_rate),\n",
    "            'daily_emissions_large': calculate_daily_carbon(12000, emissions_rate)\n",
    "        }, index=[0])\n",
    "        location_analysis = pd.concat([location_analysis, state_impact])\n",
    "    \n",
    "    # Calculate potential savings\n",
    "    max_emissions = location_analysis['daily_emissions_large'].max()\n",
    "    location_analysis['potential_savings'] = max_emissions - location_analysis['daily_emissions_large']\n",
    "    \n",
    "    return location_analysis.sort_values('emissions_rate')\n",
    "\n",
    "location_optimization = analyze_optimal_locations()\n",
    "print(\"\\nTop 5 States for AI Workload Optimization:\")\n",
    "print(location_optimization.head())"
   ]
  },
  {
   "cell_type": "code",
   "execution_count": null,
   "metadata": {},
   "outputs": [],
   "source": []
  }
 ],
 "metadata": {
  "kernelspec": {
   "display_name": "Python (article_env)",
   "language": "python",
   "name": "article_env"
  },
  "language_info": {
   "codemirror_mode": {
    "name": "ipython",
    "version": 3
   },
   "file_extension": ".py",
   "mimetype": "text/x-python",
   "name": "python",
   "nbconvert_exporter": "python",
   "pygments_lexer": "ipython3",
   "version": "3.10.16"
  }
 },
 "nbformat": 4,
 "nbformat_minor": 4
}
